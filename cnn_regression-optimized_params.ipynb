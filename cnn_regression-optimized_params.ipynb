{
 "cells": [
  {
   "cell_type": "code",
   "execution_count": 1,
   "metadata": {
    "colab": {
     "base_uri": "https://localhost:8080/"
    },
    "id": "6g1j2nzJnikP",
    "outputId": "384b8412-2873-4753-f26a-a89959dded35"
   },
   "outputs": [],
   "source": [
    "#imports\n",
    "try:\n",
    "    from google.colab import drive\n",
    "    #mount drive, set base path\n",
    "    drive.mount(\"/gdrive\")\n",
    "    base_path = '/gdrive/MyDrive/nma_dl_metamorphs/data/multi_dsprites'\n",
    "except:\n",
    "    base_path = '../'\n",
    "from pathlib import Path\n",
    "import matplotlib.pyplot as plt\n",
    "import random\n",
    "from random import randint, choice\n",
    "\n",
    "import time\n",
    "\n",
    "import torch\n",
    "import torch.optim as optim\n",
    "import torch.nn.functional as F\n",
    "import torch.nn as nn\n",
    "from torchvision import transforms\n",
    "\n",
    "from tqdm.auto import tqdm\n",
    "import numpy as np\n",
    "from PIL import Image\n",
    "\n",
    "import copy"
   ]
  },
  {
   "cell_type": "code",
   "execution_count": 2,
   "metadata": {},
   "outputs": [
    {
     "data": {
      "text/plain": [
       "True"
      ]
     },
     "execution_count": 2,
     "metadata": {},
     "output_type": "execute_result"
    }
   ],
   "source": [
    "torch.cuda.is_available()"
   ]
  },
  {
   "cell_type": "code",
   "execution_count": 3,
   "metadata": {
    "id": "zocXzzDDnikU"
   },
   "outputs": [],
   "source": [
    "#utility functions for:\n",
    "# setting the seed\n",
    "# ensuring randomness of worker in data loader (overkill?)\n",
    "# setting the device based on GPU availability\n",
    "\n",
    "def set_seed(seed=None, seed_torch=True):\n",
    "  if seed is None:\n",
    "    seed = np.random.choice(2 ** 32)\n",
    "  random.seed(seed)\n",
    "  np.random.seed(seed)\n",
    "  if seed_torch:\n",
    "    torch.manual_seed(seed)\n",
    "    torch.cuda.manual_seed_all(seed)\n",
    "    torch.cuda.manual_seed(seed)\n",
    "    torch.backends.cudnn.benchmark = False\n",
    "    torch.backends.cudnn.deterministic = True\n",
    "\n",
    "  print(f'Random seed {seed} has been set.')\n",
    "\n",
    "\n",
    "# In case that `DataLoader` is used\n",
    "def seed_worker(worker_id):\n",
    "  worker_seed = torch.initial_seed() % 2**32\n",
    "  np.random.seed(worker_seed)\n",
    "  random.seed(worker_seed)\n",
    "\n",
    "# @title Set device (GPU or CPU). Execute `set_device()`\n",
    "# especially if torch modules used.\n",
    "\n",
    "# inform the user if the notebook uses GPU or CPU.\n",
    "\n",
    "def set_device():\n",
    "  device = \"cuda\" if torch.cuda.is_available() else \"cpu\"\n",
    "  if device != \"cuda\":\n",
    "    print(\"WARNING: For this notebook to perform best, \"\n",
    "        \"if possible, in the menu under `Runtime` -> \"\n",
    "        \"`Change runtime type.`  select `GPU` \")\n",
    "  else:\n",
    "    print(\"GPU is enabled in this notebook.\")\n",
    "\n",
    "  return device"
   ]
  },
  {
   "cell_type": "code",
   "execution_count": 4,
   "metadata": {
    "id": "v0FXC_m1nikS"
   },
   "outputs": [],
   "source": [
    "#dataset paths\n",
    "#set these paths and file names depending on where you are and which labels you are using\n",
    "\n",
    "data_path = Path(base_path).joinpath('data/')\n",
    "train_images_path = Path(data_path).joinpath('training_images_rand4_unique.npy')\n",
    "train_labels_path = Path(data_path).joinpath('training_objcounts_rand4_unique.npy')\n",
    "val_images_path = Path(data_path).joinpath('validation_images_rand4_unique.npy')\n",
    "val_labels_path = Path(data_path).joinpath('validation_objcounts_rand4_unique.npy')\n",
    "\n",
    "#get image area\n",
    "train_imgarea_path = Path(data_path).joinpath('training_imgareas_rand4_unique.npy')\n",
    "val_imgarea_path = Path(data_path).joinpath('validation_imgareas_rand4_unique.npy')"
   ]
  },
  {
   "cell_type": "code",
   "execution_count": 5,
   "metadata": {
    "id": "4UTTBcBMnikT"
   },
   "outputs": [],
   "source": [
    "#load the numpy dataset files\n",
    "train_images = np.load(train_images_path).astype(float)\n",
    "train_labels = torch.tensor(np.load(train_labels_path).astype(float))\n",
    "val_images = np.load(val_images_path).astype(float)\n",
    "val_labels = torch.tensor(np.load(val_labels_path).astype(float))\n",
    "\n",
    "#load image area files\n",
    "train_imgarea = np.load(train_imgarea_path).astype(float)\n",
    "val_imgarea = np.load(val_imgarea_path).astype(float)"
   ]
  },
  {
   "cell_type": "code",
   "execution_count": 6,
   "metadata": {
    "colab": {
     "base_uri": "https://localhost:8080/"
    },
    "id": "_WBZMmPtnikT",
    "outputId": "17d24dc1-1b04-4040-b114-d6775606eae6"
   },
   "outputs": [
    {
     "name": "stdout",
     "output_type": "stream",
     "text": [
      "tensor([3., 2., 2.,  ..., 3., 1., 2.], dtype=torch.float64) tensor([2., 1., 3.,  ..., 1., 4., 4.], dtype=torch.float64)\n"
     ]
    }
   ],
   "source": [
    "# change labels so that they start at 0\n",
    "# TODO this is only valid for counts - so we need a flag for this or change the generator or dataloader appropriately\n",
    "train_labels = (train_labels)\n",
    "val_labels = (val_labels)\n",
    "print(train_labels, val_labels)"
   ]
  },
  {
   "cell_type": "code",
   "execution_count": 7,
   "metadata": {
    "colab": {
     "base_uri": "https://localhost:8080/",
     "height": 298
    },
    "id": "kIu5E5N3nikU",
    "outputId": "94fa9762-c712-45bc-fa3f-37696264eb6e"
   },
   "outputs": [
    {
     "data": {
      "text/plain": [
       "Text(0.5, 1.0, 'object area: tensor(1., dtype=torch.float64)')"
      ]
     },
     "execution_count": 7,
     "metadata": {},
     "output_type": "execute_result"
    },
    {
     "data": {
      "image/png": "[encoded data removed]",
      "text/plain": [
       "<Figure size 432x288 with 1 Axes>"
      ]
     },
     "metadata": {
      "needs_background": "light"
     },
     "output_type": "display_data"
    }
   ],
   "source": [
    "#examine data\n",
    "idx = np.random.randint(0, train_images.shape[0])\n",
    "plt.imshow(train_images[idx])\n",
    "plt.title('object area: ' + str(train_labels[idx]))"
   ]
  },
  {
   "cell_type": "markdown",
   "metadata": {},
   "source": [
    "## Prepare dataloaders for cnn"
   ]
  },
  {
   "cell_type": "code",
   "execution_count": 8,
   "metadata": {
    "id": "aBzhZSDBnikV"
   },
   "outputs": [],
   "source": [
    "#define the dataset class for our data for use by the dataloader\n",
    "class CustomTensorDataset(torch.utils.data.Dataset):\n",
    "    \"\"\"TensorDataset with support of transforms.\n",
    "    \"\"\"\n",
    "    def __init__(self, images, labels, transform=None, target_transform=None):\n",
    "        # assert all(tensors[0].size[0] == tensor.size[0] for tensor in tensors)\n",
    "        self.images = images\n",
    "        self.img_labels = labels\n",
    "        self.transform = transform\n",
    "        self.target_transform = target_transform\n",
    "\n",
    "    def __getitem__(self, index):\n",
    "        x = self.images[index]\n",
    "\n",
    "        if self.transform:\n",
    "          x = self.transform(x)\n",
    "\n",
    "        y = self.img_labels[index]\n",
    "        if self.target_transform:\n",
    "          y = self.target_transform(y)\n",
    "\n",
    "        return x.float(), y.float(), index\n",
    "\n",
    "    def __len__(self):\n",
    "        return len(self.img_labels)"
   ]
  },
  {
   "cell_type": "code",
   "execution_count": 9,
   "metadata": {
    "id": "ITjabmw5nikW"
   },
   "outputs": [],
   "source": [
    "#instantiate the dataset\n",
    "train_transform = transforms.Compose([\n",
    "     transforms.ToTensor(),\n",
    "     transforms.Normalize((0.5, 0.5, 0.5), (0.5, 0.5, 0.5))\n",
    "     ])\n",
    "\n",
    "train_data =  CustomTensorDataset(train_images, train_labels, transform=train_transform)\n",
    "val_data = CustomTensorDataset(val_images,val_labels,transform=train_transform)"
   ]
  },
  {
   "cell_type": "code",
   "execution_count": 10,
   "metadata": {
    "colab": {
     "base_uri": "https://localhost:8080/"
    },
    "id": "guIE7EjsnikW",
    "outputId": "041172ab-8375-4fb7-dcac-af0fa7f47c1a"
   },
   "outputs": [
    {
     "name": "stdout",
     "output_type": "stream",
     "text": [
      "Random seed 2021 has been set.\n",
      "GPU is enabled in this notebook.\n"
     ]
    }
   ],
   "source": [
    "#instantiate the dataloaders\n",
    "\n",
    "SEED = 2021\n",
    "set_seed(seed=SEED)\n",
    "DEVICE = set_device()\n",
    "# Create the corresponding DataLoaders for training and test\n",
    "g_seed = torch.Generator()\n",
    "g_seed.manual_seed(SEED)\n",
    "\n",
    "BATCH_SIZE = 128  # number of examples per minibatch\n",
    "\n",
    "train_loader = torch.utils.data.DataLoader(train_data,\n",
    "                                           shuffle=True,\n",
    "                                           batch_size=BATCH_SIZE,\n",
    "                                           num_workers=12,\n",
    "                                           worker_init_fn=seed_worker,\n",
    "                                           generator=g_seed)\n",
    "val_loader = torch.utils.data.DataLoader(val_data,\n",
    "                                         shuffle=True,\n",
    "                                         batch_size=BATCH_SIZE,\n",
    "                                         num_workers=12,\n",
    "                                         worker_init_fn=seed_worker,\n",
    "                                         generator=g_seed)"
   ]
  },
  {
   "cell_type": "markdown",
   "metadata": {},
   "source": [
    "## CNN model for regression"
   ]
  },
  {
   "cell_type": "code",
   "execution_count": 11,
   "metadata": {},
   "outputs": [],
   "source": [
    "# Create a sample network\n",
    "class conv_net(nn.Module):\n",
    "    def __init__(self):\n",
    "        super().__init__()\n",
    "        # First define the layers.\n",
    "        self.conv1 = nn.Conv2d(3, 16, kernel_size=4, stride=1, padding=1)\n",
    "        self.conv2 = nn.Conv2d(16, 32, kernel_size=4, stride=1, padding=1)\n",
    "        self.conv3 = nn.Conv2d(32, 64, kernel_size=4, stride=1, padding=1)\n",
    "#         self.conv4 = nn.Conv2d(64, 64, kernel_size=2, stride=1, padding=1)\n",
    "        self.dropout = nn.Dropout(0.5)\n",
    "        self.fc1 = nn.Linear(7*7*64, 256)\n",
    "        self.fc2 = nn.Linear(256, 1)\n",
    "\n",
    "    def forward(self, x):\n",
    "        # Conv layer 1.\n",
    "        x = self.conv1(x)\n",
    "        x = F.relu(x)\n",
    "        x = F.max_pool2d(x, kernel_size=2)\n",
    "    #     x = self.dropout(x)\n",
    "\n",
    "        # Conv layer 2.\n",
    "        x = self.conv2(x)\n",
    "        x = F.relu(x)\n",
    "        x = F.max_pool2d(x, kernel_size=2)\n",
    "        x = self.dropout(x)\n",
    "\n",
    "        # Conv layer 3.\n",
    "        x = self.conv3(x)\n",
    "        x = F.relu(x)\n",
    "        x = F.max_pool2d(x, kernel_size=2)\n",
    "        x = self.dropout(x)\n",
    "\n",
    "        # Fully connected layer 1.\n",
    "        x = torch.flatten(x,1)  # You have to first flatten the ourput from the\n",
    "                                # previous convolution layer.\n",
    "        x = self.fc1(x)\n",
    "        x = F.relu(x)\n",
    "        x = self.dropout(x)\n",
    "\n",
    "        # Fully connected layer 2.\n",
    "        x = self.fc2(x)\n",
    "        x = x.squeeze()\n",
    "\n",
    "        return x"
   ]
  },
  {
   "cell_type": "code",
   "execution_count": 12,
   "metadata": {},
   "outputs": [],
   "source": [
    "# Create a sample network\n",
    "class conv_net1(nn.Module):\n",
    "    def __init__(self):\n",
    "        super().__init__()\n",
    "        # First define the layers.\n",
    "        self.conv1 = nn.Conv2d(3, 32, kernel_size=4, stride=1, padding=1)\n",
    "        self.conv2 = nn.Conv2d(32, 64, kernel_size=4, stride=1, padding=1)\n",
    "        self.conv3 = nn.Conv2d(64, 64, kernel_size=4, stride=1, padding=1)\n",
    "#         self.conv4 = nn.Conv2d(64, 64, kernel_size=2, stride=1, padding=1)\n",
    "        self.dropout = nn.Dropout(0.5)\n",
    "        self.fc1 = nn.Linear(7*7*64, 256)\n",
    "        self.fc2 = nn.Linear(256, 1)\n",
    "\n",
    "    def forward(self, x):\n",
    "        # Conv layer 1.\n",
    "        x = self.conv1(x)\n",
    "        x = F.relu(x)\n",
    "        x = F.max_pool2d(x, kernel_size=2)\n",
    "    #     x = self.dropout(x)\n",
    "\n",
    "        # Conv layer 2.\n",
    "        x = self.conv2(x)\n",
    "        x = F.relu(x)\n",
    "        x = F.max_pool2d(x, kernel_size=2)\n",
    "        x = self.dropout(x)\n",
    "\n",
    "        # Conv layer 3.\n",
    "        x = self.conv3(x)\n",
    "        x = F.relu(x)\n",
    "        x = F.max_pool2d(x, kernel_size=2)\n",
    "        x = self.dropout(x)\n",
    "\n",
    "        # Fully connected layer 1.\n",
    "        x = torch.flatten(x,1)  # You have to first flatten the ourput from the\n",
    "                                # previous convolution layer.\n",
    "        x = self.fc1(x)\n",
    "        x = F.relu(x)\n",
    "        x = self.dropout(x)\n",
    "\n",
    "        # Fully connected layer 2.\n",
    "        x = self.fc2(x)\n",
    "        x = x.squeeze()\n",
    "\n",
    "        return x"
   ]
  },
  {
   "cell_type": "code",
   "execution_count": 13,
   "metadata": {},
   "outputs": [],
   "source": [
    "# Create a sample network\n",
    "class conv_net2(nn.Module):\n",
    "    def __init__(self):\n",
    "        super().__init__()\n",
    "        # First define the layers.\n",
    "        self.conv1 = nn.Conv2d(3, 32, kernel_size=4, stride=1, padding=1)\n",
    "        self.conv2 = nn.Conv2d(32, 64, kernel_size=3, stride=1, padding=1)\n",
    "        self.conv3 = nn.Conv2d(64, 64, kernel_size=2, stride=1, padding=1)\n",
    "        self.conv4 = nn.Conv2d(64, 64, kernel_size=2, stride=1, padding=1)\n",
    "        self.dropout = nn.Dropout(0.5)\n",
    "        self.fc1 = nn.Linear(4*4*64, 256)\n",
    "        self.fc2 = nn.Linear(256, 1)\n",
    "\n",
    "    def forward(self, x):\n",
    "        # Conv layer 1.\n",
    "        x = self.conv1(x)\n",
    "        x = F.relu(x)\n",
    "        x = F.max_pool2d(x, kernel_size=2)\n",
    "    #     x = self.dropout(x)\n",
    "\n",
    "        # Conv layer 2.\n",
    "        x = self.conv2(x)\n",
    "        x = F.relu(x)\n",
    "        x = F.max_pool2d(x, kernel_size=2)\n",
    "        x = self.dropout(x)\n",
    "\n",
    "        # Conv layer 3.\n",
    "        x = self.conv3(x)\n",
    "        x = F.relu(x)\n",
    "        x = F.max_pool2d(x, kernel_size=2)\n",
    "        x = self.dropout(x)\n",
    "        \n",
    "        # Conv layer 4.\n",
    "        x = self.conv4(x)\n",
    "        x = F.relu(x)\n",
    "        x = F.max_pool2d(x, kernel_size=2)\n",
    "#         x = self.dropout(x)\n",
    "\n",
    "        # Fully connected layer 1.\n",
    "        x = torch.flatten(x,1)  # You have to first flatten the ourput from the\n",
    "                                # previous convolution layer.\n",
    "        x = self.fc1(x)\n",
    "        x = F.relu(x)\n",
    "        x = self.dropout(x)\n",
    "\n",
    "        # Fully connected layer 2.\n",
    "        x = self.fc2(x)\n",
    "        x = x.squeeze()\n",
    "\n",
    "        return x"
   ]
  },
  {
   "cell_type": "markdown",
   "metadata": {},
   "source": [
    "Training and testing functions"
   ]
  },
  {
   "cell_type": "code",
   "execution_count": 14,
   "metadata": {},
   "outputs": [],
   "source": [
    "def calc_error(output,target):\n",
    "    return np.abs(output-target)/target"
   ]
  },
  {
   "cell_type": "code",
   "execution_count": 15,
   "metadata": {
    "id": "TLSyRsMgnikX"
   },
   "outputs": [],
   "source": [
    "#define the train and test loops, and a wrapper that will call them to train and collect validation stats\n",
    "\n",
    "def train(args, model, train_loader, optimizer,\n",
    "          reg_function1=None, reg_function2=None, criterion=F.nll_loss):\n",
    "    \"\"\"\n",
    "    Trains the current inpur model using the data\n",
    "    from Train_loader and Updates parameters for a single pass\n",
    "    \"\"\"\n",
    "    device = args['device']\n",
    "    model.train()\n",
    "    for batch_idx, (data, target, index) in enumerate(train_loader):\n",
    "        data, target = data.to(device), target.to(device)\n",
    "        optimizer.zero_grad()\n",
    "        output = model(data)\n",
    "        if reg_function1 is None:\n",
    "            loss = criterion(output, target)\n",
    "        elif reg_function2 is None:\n",
    "            loss = criterion(output, target)+args['lambda']*reg_function1(model)\n",
    "        else:\n",
    "            loss = criterion(output, target) + args['lambda1']*reg_function1(model) + args['lambda2']*reg_function2(model)\n",
    "        loss.backward()\n",
    "        optimizer.step()\n",
    "\n",
    "    return model\n",
    "\n",
    "\n",
    "def test(model, test_loader, criterion=F.nll_loss, device='cpu'):\n",
    "    \"\"\"\n",
    "    Tests the current Model\n",
    "    \"\"\"\n",
    "    model.eval()\n",
    "    test_loss = 0\n",
    "    perc_error = 0\n",
    "    \n",
    "    with torch.no_grad():\n",
    "        for data, target, index in test_loader:\n",
    "            data, target = data.to(device), target.to(device)\n",
    "            output = model(data)\n",
    "            test_loss += criterion(output, target, reduction='sum').item()  # sum up batch loss\n",
    "            perc_error += np.sum(calc_error(output.cpu().detach().numpy(),target.cpu().detach().numpy()))\n",
    "    test_loss /= len(test_loader.dataset)\n",
    "    perc_error /= len(test_loader.dataset)\n",
    "    return test_loss, perc_error\n",
    "\n",
    "\n",
    "# def main(args, model, train_loader, val_loader,\n",
    "#          reg_function1=None, reg_function2=None):\n",
    "#   \"\"\"\n",
    "#   Trains the model with train_loader and tests the learned model using val_loader\n",
    "#   \"\"\"\n",
    "\n",
    "#   device = args['device']\n",
    "\n",
    "#   model = model.to(device)\n",
    "#   optimizer = optim.SGD(model.parameters(), lr=args['lr'],\n",
    "#                         momentum=args['momentum'])\n",
    "\n",
    "#   val_loss_list, train_loss_list,param_norm_list = [], [], []\n",
    "#   for epoch in tqdm(range(args['epochs'])):\n",
    "#     trained_model = train(args, model, train_loader, optimizer,\n",
    "#                           reg_function1=reg_function1,\n",
    "#                           reg_function2=reg_function2)\n",
    "#     train_loss = test(trained_model, train_loader, device=device)\n",
    "#     val_loss = test(trained_model, val_loader, device=device)\n",
    "#     print(train_loss, val_loss)\n",
    "#     # param_norm = calculate_frobenius_norm(trained_model)\n",
    "#     train_loss_list.append(train_loss)\n",
    "#     val_loss_list.append(val_loss)\n",
    "#     # param_norm_list.append(param_norm)\n",
    "\n",
    "#   return val_acc_list, train_acc_list, trained_model\n",
    "\n",
    "def early_stopping_main(args, model, train_loader, val_loader, criterion, reg_function1=None, reg_function2=None):\n",
    "    device = args['device']\n",
    "    model = model.to(device)\n",
    "    optimizer = optim.RMSprop(model.parameters(),\n",
    "                        lr=args['lr'],\n",
    "                        momentum=args['momentum'])\n",
    "\n",
    "    best_acc = 10\n",
    "    best_epoch = 0\n",
    "\n",
    "    # Number of successive epochs that you want to wait before stopping training process\n",
    "    patience = 30\n",
    "\n",
    "    # Keps track of number of epochs during which the val_acc was less than best_acc\n",
    "    wait = 0\n",
    "\n",
    "    val_acc_list, train_acc_list, val_error_list, train_error_list = [], [], [], []\n",
    "    for epoch in tqdm(range(args['epochs'])):\n",
    "\n",
    "        # train the model\n",
    "        trained_model = train(args, model, train_loader, optimizer,\n",
    "                              reg_function1=reg_function1,\n",
    "                              reg_function2=reg_function2,\n",
    "                              criterion=criterion)\n",
    "\n",
    "        # calculate training accuracy\n",
    "        train_acc, train_perc_error = test(trained_model, train_loader, criterion=criterion, device=device)\n",
    "\n",
    "        # calculate validation accuracy\n",
    "        val_acc, val_perc_error = test(trained_model, val_loader, criterion=criterion, device=device)\n",
    "\n",
    "        if (val_acc < best_acc):\n",
    "            best_acc = val_acc\n",
    "            best_epoch = epoch\n",
    "            best_model = copy.deepcopy(trained_model)\n",
    "            wait = 0\n",
    "        else:\n",
    "            wait += 1\n",
    "\n",
    "        if (wait > patience):\n",
    "            print(f'early stopped on epoch: {epoch}')\n",
    "            break\n",
    "\n",
    "        train_acc_list.append(train_acc)\n",
    "        val_acc_list.append(val_acc)\n",
    "        train_error_list.append(train_perc_error)\n",
    "        val_error_list.append(val_perc_error)\n",
    "        print(train_acc, val_acc, train_perc_error, val_perc_error)\n",
    "    #save the model\n",
    "    if('checkpoint_path' in args):\n",
    "        torch.save({\n",
    "          'model_state_dict': best_model.state_dict(),\n",
    "          'optimizer_state_dict': optimizer.state_dict()\n",
    "          }, args['checkpoint_path'])\n",
    "\n",
    "    return val_acc_list, train_acc_list, train_error_list, val_error_list, best_model, best_epoch\n"
   ]
  },
  {
   "cell_type": "code",
   "execution_count": 16,
   "metadata": {
    "scrolled": false
   },
   "outputs": [
    {
     "name": "stdout",
     "output_type": "stream",
     "text": [
      "Random seed 2021 has been set.\n"
     ]
    },
    {
     "data": {
      "application/vnd.jupyter.widget-view+json": {
       "model_id": "f7a6981ab68c4020ad1186da8dc59370",
       "version_major": 2,
       "version_minor": 0
      },
      "text/plain": [
       "HBox(children=(HTML(value=''), FloatProgress(value=0.0, max=200.0), HTML(value='')))"
      ]
     },
     "metadata": {},
     "output_type": "display_data"
    },
    {
     "name": "stdout",
     "output_type": "stream",
     "text": [
      "1.306120313873291 1.307704366493225 0.3363187504196167 0.3376749612569809\n",
      "1.0013520874023438 1.0037745294570923 0.29335666564941404 0.29450476131439207\n",
      "0.5965246719360352 0.6036178615570068 0.2286242706680298 0.2299363757610321\n",
      "0.6422357074737549 0.649132876777649 0.21958284671783448 0.21837848649024963\n",
      "1.3823556182861327 1.381996869468689 0.3546284016418457 0.353631033039093\n",
      "0.48024023307800295 0.4875271335601807 0.18550904092788698 0.1842609085083008\n",
      "0.5225178559112549 0.5296047100067138 0.19189379615783692 0.19094593503475188\n",
      "0.7110181085968018 0.717260670375824 0.2445921071624756 0.24419506063461305\n",
      "0.7932471759033203 0.7996760614395142 0.2502015771865845 0.2501842980861664\n",
      "0.9071704629516602 0.9098737996101379 0.2924642284011841 0.29106749777793883\n",
      "0.3329416458511353 0.3412747541427612 0.15226304077148436 0.15252088668346406\n",
      "0.5282697624969482 0.5351136134624481 0.19702226394653322 0.19595219345092774\n",
      "0.8563848184204101 0.8609146495819092 0.2775210639953613 0.27624284172058106\n",
      "0.5855338907623291 0.590339968585968 0.20587635097503662 0.20399070115089415\n",
      "0.7883355709075928 0.7901616161346435 0.2603165883255005 0.2585198042869568\n",
      "0.5721733867645263 0.5783673845291137 0.20216438556671143 0.20039374511241914\n",
      "0.5537119413757324 0.5593878398418427 0.19921929851531983 0.19754047808647157\n",
      "0.9227688093566895 0.9285954013824463 0.28229520729064944 0.2813762435913086\n",
      "0.9341240119934082 0.932235481262207 0.2881926315689087 0.28443697605133056\n",
      "0.3997260511779785 0.40481106834411623 0.16109904586791993 0.15963480846881867\n",
      "0.5448658601379395 0.5520300810813904 0.19515953519821166 0.19368235528469085\n",
      "0.3958152782440186 0.401791858291626 0.16065742080688478 0.1589191692352295\n",
      "0.49566119537353515 0.49795822143554686 0.19954011821746825 0.19567864558696746\n",
      "0.3670450304031372 0.3754020936965942 0.15459792751312257 0.15376320714950562\n",
      "0.2972293989944458 0.3062046275615692 0.1390239146232605 0.13865895013809204\n",
      "0.4351078855895996 0.44242922058105466 0.1702217421722412 0.16855293431282042\n",
      "0.34934789279937745 0.3584019774913788 0.14856768671035767 0.14786627395153046\n",
      "0.3145145436859131 0.32239757885932924 0.14263629892349244 0.1417429603099823\n",
      "0.37231547859191894 0.380665149307251 0.15456498773574828 0.15358888132572174\n",
      "0.6074495040130615 0.6141844387054444 0.21050485702514649 0.20834396138191222\n",
      "0.28451754035949706 0.292158465385437 0.13807293846130372 0.13752292304039002\n",
      "0.22855044105529784 0.23910587470531464 0.1269118119621277 0.12713557839393616\n",
      "0.31249462413787843 0.32319053049087526 0.14148503078460695 0.14109711775779724\n",
      "0.4830167381286621 0.49075502138137816 0.1819568621444702 0.17970943043231963\n",
      "0.260030465965271 0.27041649446487426 0.1289633597755432 0.12892963576316835\n",
      "0.49740891426086425 0.5059874012470246 0.1841345992088318 0.18230919365882872\n",
      "0.33002163192749023 0.34003429114818573 0.14407384016036986 0.14345152891874313\n",
      "0.25223134765625 0.26332573219537736 0.12414570653915405 0.12448858745098114\n",
      "0.2649373520278931 0.27632754712104796 0.1277113410758972 0.1278639871239662\n",
      "0.20575771492004394 0.21769290943145753 0.1188186505317688 0.12038045763969421\n",
      "0.2263045219039917 0.23768384459018707 0.12233215698242188 0.12294555000066758\n",
      "0.2210666084289551 0.23377424147129058 0.12552300628662108 0.12726261771917344\n",
      "0.1652457593727112 0.1779394316792488 0.1139732597732544 0.11688134610652924\n",
      "0.2820420946121216 0.2942888460159302 0.13060029508590698 0.1306054500102997\n",
      "0.27638215801239013 0.2885752878189087 0.12986439025878907 0.13016551053524017\n",
      "0.1852661689376831 0.1989134835243225 0.10660541564941406 0.10877310554981232\n",
      "0.17034535161972045 0.18320467252731323 0.10304001420974732 0.10547240424156189\n",
      "0.26042361587524415 0.2730748868942261 0.125380500125885 0.12586697483062745\n",
      "0.12606192329406737 0.1407846084713936 0.10424494457244873 0.10904905582666397\n",
      "0.276551344909668 0.2889560552120209 0.12909041557312012 0.1293518716096878\n",
      "0.2515445281982422 0.2656027975559235 0.12127353670120239 0.1221912130832672\n",
      "0.24605825441360474 0.25970502319335936 0.12201819690704346 0.12294902167320251\n",
      "0.12856588901519775 0.14338274315595625 0.10570397594451904 0.11046063492298126\n",
      "0.12489694158554077 0.14034889133572578 0.09594222574234008 0.10050602561235428\n",
      "0.15920141178131103 0.17235301220417024 0.10242429252624512 0.10512058923244476\n",
      "0.22367433876037598 0.23772230200767516 0.11356800573348999 0.11499031620025635\n",
      "0.15111713500976562 0.16648801741600036 0.09829145370483398 0.1017384806394577\n",
      "0.11020812622070313 0.1264833004951477 0.09893153859138488 0.10457278594970704\n",
      "0.11612990212440491 0.13340592371225357 0.09237125219345092 0.09780945444107056\n",
      "0.1851928780555725 0.2013011423587799 0.10370580854415894 0.10660809388160705\n",
      "0.20960400917053224 0.22544365859031676 0.1075204461479187 0.1090340870141983\n",
      "0.1633243197631836 0.17943890695571899 0.09762997789382935 0.10086314532756806\n",
      "0.12219936113357543 0.13888759775161744 0.11368777698516845 0.11982458720207215\n",
      "0.27747102252960204 0.29280486660003663 0.1254593472480774 0.12541098123788832\n",
      "0.13281228092193603 0.15025785596370697 0.10323583518981934 0.10830233924388885\n",
      "0.20383357192993165 0.22435134754180908 0.13351339458465575 0.13929124684333802\n",
      "0.1376490232658386 0.15433260540962218 0.09860018548965455 0.1033615088224411\n",
      "0.13993267253875732 0.1569096340417862 0.09807961822509766 0.10260261180400848\n",
      "0.1346785333442688 0.15196443207263946 0.09582760493278504 0.10055995378494263\n",
      "0.1512114653778076 0.16849665186405183 0.09606849301338195 0.09962394816875458\n",
      "0.13794372699737548 0.15546655955314637 0.09643330265045166 0.10085309836864471\n",
      "0.10602312337875366 0.12497937688827515 0.10892070869445801 0.1163549926519394\n",
      "0.17892072233200074 0.19590993802547454 0.10041325613021851 0.10286008545160294\n",
      "0.15344698413848876 0.17111182534694672 0.09778928463935851 0.10119461791515351\n",
      "0.1198788802909851 0.13813205275535584 0.09496504723548889 0.10057646491527557\n",
      "0.12849101678848265 0.1467853509426117 0.09613363817214966 0.1013953688621521\n",
      "0.13835761733055116 0.1572880024433136 0.09789275506973266 0.10300276350975036\n",
      "0.13090840938568116 0.15028235235214232 0.10693392990112305 0.113023874604702\n",
      "0.13264917625427247 0.1526836015701294 0.09633327020645141 0.10166765761375428\n",
      "0.09921158210754394 0.11997177033424378 0.08859709359169006 0.09573998711109162\n",
      "0.1459354793548584 0.16589181587696075 0.10092108779907226 0.10575974113941193\n",
      "0.15972082538604737 0.17960843439102173 0.1014176876449585 0.10531128900051116\n",
      "0.15142267095565795 0.17203862223625183 0.09880781454086304 0.10334536681175233\n",
      "0.18786030036926268 0.20780104908943176 0.1078036513710022 0.11023998484611511\n",
      "0.14330142826080322 0.1642276435494423 0.09633061000823974 0.10127441711425782\n",
      "0.10333187688827515 0.12440088655948639 0.08627955097198486 0.09345518352985382\n",
      "0.14431430788040162 0.16521566038131713 0.09598241346359253 0.10089511580467224\n",
      "0.09794964674949647 0.11958885264396668 0.0870552259349823 0.0946086011171341\n",
      "0.12464730756759644 0.14531393638849258 0.09582975275039674 0.10127168461084365\n",
      "0.16113886445999145 0.18194031119346618 0.10134060794830323 0.10521802026033401\n",
      "0.11247268409729004 0.1348080307006836 0.08599226551055908 0.09273230307102204\n",
      "0.10147095863342286 0.12309069833755493 0.09609724380493163 0.10371356463432312\n",
      "0.15061549982070924 0.17265531859397887 0.09533816696166993 0.10010534414052963\n",
      "0.11876109558105469 0.14120478518009186 0.09825528255462647 0.10512996735572815\n",
      "0.17169143871307374 0.1937813027381897 0.10681180585861207 0.11019212021827698\n",
      "0.09739002754211426 0.1203347557067871 0.09152156953811645 0.09933188197612762\n",
      "0.09968185789108276 0.12325159478187561 0.09043095735549926 0.09784794790744782\n",
      "0.0819299430847168 0.10511510043144226 0.0878903697013855 0.09710168099403381\n",
      "0.17056355295181275 0.19279705955982207 0.10199447881698609 0.10509851690530778\n",
      "0.1290229246520996 0.1525605854511261 0.09394803993225098 0.09986637752056121\n",
      "0.18597519678115845 0.20982315940856933 0.10338396072387696 0.10612655534744263\n",
      "0.17057117458343507 0.1936870343208313 0.10527290814399719 0.10880534293651581\n",
      "0.11020466170310975 0.1337099654197693 0.0916905661201477 0.09883085086345672\n",
      "0.17566795146942138 0.19903010152578354 0.10152886751174926 0.10491388499736785\n",
      "0.12635740369796752 0.15060669169425964 0.09780966133117676 0.10471868035793304\n"
     ]
    },
    {
     "name": "stdout",
     "output_type": "stream",
     "text": [
      "0.16009676900863648 0.18416551532745362 0.09983634582519531 0.10406489839553833\n",
      "0.11828897212982177 0.14204143272042274 0.10393321702957153 0.11140680758953095\n",
      "0.11113326664924622 0.13538964722156524 0.0932183427810669 0.10044975934028626\n",
      "0.16320872568130493 0.18689388065338136 0.10804958847045898 0.11232373185157776\n",
      "0.09209358639717102 0.11728030546307563 0.09052339184761048 0.0997690075993538\n",
      "0.09096675395965576 0.11548908228874206 0.0939340884590149 0.10335422750711441\n",
      "0.1407753060722351 0.16464307565689087 0.09979352655410767 0.10499891527891159\n",
      "0.1227324931526184 0.14703401839733124 0.09454830018997193 0.10145705010890961\n",
      "0.12947165055274965 0.15497000048160553 0.09290790756225586 0.09909231927394867\n",
      "0.1353957019805908 0.15983187670707702 0.09616783338546753 0.1023316418170929\n",
      "0.16940689182281493 0.19398050961494445 0.10367907587051392 0.10717227792739868\n",
      "0.224161690864563 0.24821344752311705 0.11774946109771728 0.11923931109905243\n",
      "0.10200681973457336 0.12747739177942277 0.08518382238388061 0.09313151733875275\n",
      "0.14507694650650024 0.17095109577178955 0.09497422843933105 0.1005121432542801\n",
      "0.10816994373321533 0.13410635323524475 0.08857981552124024 0.096683811545372\n",
      "0.13747461147308349 0.16333310465812684 0.09136206678390503 0.09728745701313019\n",
      "0.1569348762512207 0.18184736967086793 0.1026590952205658 0.10726942938566209\n",
      "0.13076160301208495 0.15751351387500762 0.09058768877029419 0.09703244397640229\n",
      "0.1216305856513977 0.14883322670459748 0.08928645919799805 0.09619743542671204\n",
      "0.1143515773010254 0.14096793419122697 0.0840033909034729 0.09112982091903686\n",
      "0.1759087290763855 0.20188681277036666 0.10408508680343628 0.10732905757427215\n",
      "0.11738976697921753 0.14415658000707626 0.08372042228698731 0.09064120553731918\n",
      "0.10173057493209839 0.12836666321754456 0.08535589181900025 0.09322508604526519\n",
      "early stopped on epoch: 128\n",
      "\n",
      "Time to memorize the dataset: 1255.6563129425049\n"
     ]
    },
    {
     "data": {
      "image/png": "[encoded data removed]",
      "text/plain": [
       "<Figure size 576x432 with 1 Axes>"
      ]
     },
     "metadata": {
      "needs_background": "light"
     },
     "output_type": "display_data"
    },
    {
     "data": {
      "image/png": "[encoded data removed]",
      "text/plain": [
       "<Figure size 576x432 with 1 Axes>"
      ]
     },
     "metadata": {
      "needs_background": "light"
     },
     "output_type": "display_data"
    }
   ],
   "source": [
    "#set the hyper parameters, run the training and plot results\n",
    "# Set the arguments\n",
    "args = {\n",
    "    'epochs': 200,\n",
    "    'lr': 0.00038413048078536063,\n",
    "    'momentum': 0.04048300142402773,\n",
    "    'device': DEVICE,\n",
    "    'checkpoint_path':'./cnn_reg_objcount_lr0.01_mmt0.8.pt'\n",
    "}\n",
    "\n",
    "\n",
    "# Initialize the network\n",
    "set_seed(seed=SEED)\n",
    "model = conv_net2()\n",
    "\n",
    "start_time = time.time()\n",
    "# Train the network\n",
    "val_loss_pure, train_loss_pure, train_error_list, val_error_list, model, best_epoch= early_stopping_main(args=args,\n",
    "                                                            model=model,\n",
    "                                                            train_loader=train_loader,\n",
    "                                                            val_loader=val_loader,\n",
    "                                                            criterion=F.mse_loss)\n",
    "end_time = time.time()\n",
    "\n",
    "print(f\"Time to memorize the dataset: {end_time - start_time}\")\n",
    "\n",
    "# Train and Test accuracy plot\n",
    "plt.figure(figsize=(8, 6))\n",
    "plt.plot(val_loss_pure, label='Val Loss Pure', c='red', ls='dashed')\n",
    "plt.plot(train_loss_pure, label='Train Loss Pure', c='red', ls='solid')\n",
    "plt.axhline(y=min(val_loss_pure), c='green', ls='dashed',\n",
    "            label='min Val loss pure')\n",
    "plt.title('Object Area Regression')\n",
    "plt.ylabel('Loss')\n",
    "plt.xlabel('Epoch')\n",
    "plt.legend()\n",
    "plt.show()\n",
    "\n",
    "# Train and Test accuracy plot\n",
    "plt.figure(figsize=(8, 6))\n",
    "plt.plot(val_error_list, label='Val Percent Error', c='red', ls='dashed')\n",
    "plt.plot(train_error_list, label='Train Percent Error', c='red', ls='solid')\n",
    "plt.axhline(y=min(val_error_list), c='green', ls='dashed',\n",
    "            label='min Val percent error')\n",
    "plt.title('Object Area Regression')\n",
    "plt.ylabel('Percent error')\n",
    "plt.xlabel('Epoch')\n",
    "plt.legend()\n",
    "plt.show()"
   ]
  },
  {
   "cell_type": "markdown",
   "metadata": {},
   "source": [
    "## Analyze trained models"
   ]
  },
  {
   "cell_type": "code",
   "execution_count": 16,
   "metadata": {},
   "outputs": [],
   "source": [
    "model_path = Path(base_path).joinpath('models/')\n",
    "model1_path = Path(model_path).joinpath('cnn_reg_objarea_lr0.005_mmt0.8.pt')\n",
    "model2_path = Path(model_path).joinpath('cnn2_reg_objarea_lr0.01_mmt0.8.pt')\n",
    "model3_path = Path(model_path).joinpath('cnn3_reg_objarea_lr0.01_mmt0.8.pt')\n",
    "model4_path = Path(model_path).joinpath('cnn3_reg_imgarea_lr0.01_mmt0.8.pt')\n",
    "model5_path = Path(model_path).joinpath('cnn_reg_objcount_lr0.001_mmt0.8.pt')"
   ]
  },
  {
   "cell_type": "code",
   "execution_count": 33,
   "metadata": {},
   "outputs": [
    {
     "data": {
      "text/plain": [
       "<All keys matched successfully>"
      ]
     },
     "execution_count": 33,
     "metadata": {},
     "output_type": "execute_result"
    }
   ],
   "source": [
    "model1 = conv_net()\n",
    "model_state_dict = torch.load(model5_path)['model_state_dict']\n",
    "model1.load_state_dict(model_state_dict)"
   ]
  },
  {
   "cell_type": "code",
   "execution_count": 18,
   "metadata": {},
   "outputs": [],
   "source": [
    "val_loader = torch.utils.data.DataLoader(val_data,\n",
    "                                         shuffle=True,\n",
    "                                         batch_size=200,\n",
    "                                         num_workers=12,\n",
    "                                         worker_init_fn=seed_worker,\n",
    "                                         generator=g_seed)"
   ]
  },
  {
   "cell_type": "code",
   "execution_count": 22,
   "metadata": {},
   "outputs": [],
   "source": [
    "data,target,index = next(iter(val_loader))\n",
    "# data,target = data.to(DEVICE),target.to(DEVICE)"
   ]
  },
  {
   "cell_type": "code",
   "execution_count": 23,
   "metadata": {},
   "outputs": [],
   "source": [
    "output = model1(data)"
   ]
  },
  {
   "cell_type": "code",
   "execution_count": 24,
   "metadata": {},
   "outputs": [
    {
     "data": {
      "text/plain": [
       "Text(0, 0.5, 'predicted object area')"
      ]
     },
     "execution_count": 24,
     "metadata": {},
     "output_type": "execute_result"
    },
    {
     "data": {
      "image/png": "[encoded data removed]",
      "text/plain": [
       "<Figure size 432x288 with 1 Axes>"
      ]
     },
     "metadata": {
      "needs_background": "light"
     },
     "output_type": "display_data"
    }
   ],
   "source": [
    "plt.scatter(target.cpu().detach().numpy(),output.cpu().detach().numpy())\n",
    "plt.plot(np.linspace(0,0.25,10),np.linspace(0,0.25,10))\n",
    "plt.xlabel('target object area')\n",
    "plt.ylabel('predicted object area')"
   ]
  },
  {
   "cell_type": "code",
   "execution_count": 25,
   "metadata": {},
   "outputs": [],
   "source": [
    "perc_occluded = val_imgarea/val_labels.numpy()"
   ]
  },
  {
   "cell_type": "code",
   "execution_count": 27,
   "metadata": {},
   "outputs": [
    {
     "data": {
      "text/plain": [
       "Text(0, 0.5, 'Percent error of area estimation')"
      ]
     },
     "execution_count": 27,
     "metadata": {},
     "output_type": "execute_result"
    },
    {
     "data": {
      "image/png": "[encoded data removed]",
      "text/plain": [
       "<Figure size 432x288 with 1 Axes>"
      ]
     },
     "metadata": {
      "needs_background": "light"
     },
     "output_type": "display_data"
    }
   ],
   "source": [
    "plt.scatter(perc_occluded[index], calc_error(target.cpu().detach().numpy(),output.cpu().detach().numpy()))\n",
    "# plt.plot(np.linspace(0,0.25,10),np.linspace(0,0.25,10))\n",
    "plt.ylim(-0.1,1)\n",
    "plt.xlabel('Percent area visible')\n",
    "plt.ylabel('Percent error of area estimation')"
   ]
  },
  {
   "cell_type": "code",
   "execution_count": 29,
   "metadata": {},
   "outputs": [
    {
     "data": {
      "text/plain": [
       "Text(0, 0.5, 'Predicted area - target area')"
      ]
     },
     "execution_count": 29,
     "metadata": {},
     "output_type": "execute_result"
    },
    {
     "data": {
      "image/png": "[encoded data removed]",
      "text/plain": [
       "<Figure size 432x288 with 1 Axes>"
      ]
     },
     "metadata": {
      "needs_background": "light"
     },
     "output_type": "display_data"
    }
   ],
   "source": [
    "plt.scatter(perc_occluded[index],output.cpu().detach().numpy()- target.cpu().detach().numpy())\n",
    "plt.plot(np.linspace(0.5,1,10),np.zeros(10))\n",
    "# plt.ylim(-0.1,1)\n",
    "plt.xlabel('Percent area visible')\n",
    "plt.ylabel('Predicted area - target area')"
   ]
  },
  {
   "cell_type": "code",
   "execution_count": 29,
   "metadata": {},
   "outputs": [
    {
     "data": {
      "text/plain": [
       "[<matplotlib.lines.Line2D at 0x7f2061eca250>]"
      ]
     },
     "execution_count": 29,
     "metadata": {},
     "output_type": "execute_result"
    },
    {
     "data": {
      "image/png": "[encoded data removed]",
      "text/plain": [
       "<Figure size 432x288 with 1 Axes>"
      ]
     },
     "metadata": {
      "needs_background": "light"
     },
     "output_type": "display_data"
    }
   ],
   "source": [
    "plt.scatter(target.cpu().detach().numpy(), output.cpu().detach().numpy()- target.cpu().detach().numpy())\n",
    "plt.plot(np.linspace(0,0.25,10),np.zeros(10))\n",
    "# plt.ylim(-0.1,1)"
   ]
  },
  {
   "cell_type": "code",
   "execution_count": 30,
   "metadata": {},
   "outputs": [
    {
     "data": {
      "text/plain": [
       "0.18312347"
      ]
     },
     "execution_count": 30,
     "metadata": {},
     "output_type": "execute_result"
    }
   ],
   "source": [
    "np.mean(calc_error(target.cpu().detach().numpy(),output.cpu().detach().numpy()))"
   ]
  },
  {
   "cell_type": "code",
   "execution_count": 31,
   "metadata": {},
   "outputs": [
    {
     "data": {
      "image/png": "[encoded data removed]",
      "text/plain": [
       "<Figure size 576x576 with 32 Axes>"
      ]
     },
     "metadata": {
      "needs_background": "light"
     },
     "output_type": "display_data"
    }
   ],
   "source": [
    "with torch.no_grad():\n",
    "    conv1_weights = model_state_dict['conv1.weight']\n",
    "    fig, axs = plt.subplots(4, 8, figsize=(8, 8))\n",
    "    filters = []\n",
    "    for filter_index in range(conv1_weights.shape[0]):\n",
    "        row_index = filter_index // 8\n",
    "        col_index = filter_index % 8\n",
    "        \n",
    "#         idx = np.random.choice(conv1_weights.shape[1],3)\n",
    "#         print(idx)\n",
    "        filter = conv1_weights[filter_index,:,:,:]\n",
    "        filter_image = filter.permute(1, 2, 0).cpu()\n",
    "        scale = np.abs(filter_image).max()\n",
    "        scaled_image = filter_image / (2 * scale) + 0.5\n",
    "        filters.append(scaled_image.cpu())\n",
    "        axs[row_index, col_index].imshow(scaled_image.cpu())\n",
    "        axs[row_index, col_index].axis('off')\n",
    "    plt.show()"
   ]
  },
  {
   "cell_type": "code",
   "execution_count": null,
   "metadata": {},
   "outputs": [],
   "source": []
  }
 ],
 "metadata": {
  "kernelspec": {
   "display_name": "Python 3 (ipykernel)",
   "language": "python",
   "name": "python3"
  },
  "language_info": {
   "codemirror_mode": {
    "name": "ipython",
    "version": 3
   },
   "file_extension": ".py",
   "mimetype": "text/x-python",
   "name": "python",
   "nbconvert_exporter": "python",
   "pygments_lexer": "ipython3",
   "version": "3.8.10"
  }
 },
 "nbformat": 4,
 "nbformat_minor": 4
}
