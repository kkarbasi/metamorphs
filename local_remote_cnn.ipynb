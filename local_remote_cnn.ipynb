{
 "cells": [
  {
   "cell_type": "code",
   "execution_count": 1,
   "metadata": {},
   "outputs": [],
   "source": [
    "#imports\n",
    "try:\n",
    "    from google.colab import drive\n",
    "    #mount drive, set base path\n",
    "    drive.mount(\"/gdrive\")\n",
    "    base_path = '/gdrive/MyDrive/nma_dl_metamorphs/data/multi_dsprites'\n",
    "except:\n",
    "    base_path = '../'\n",
    "from pathlib import Path\n",
    "import matplotlib.pyplot as plt\n",
    "import random\n",
    "from random import randint, choice\n",
    "\n",
    "import time\n",
    "\n",
    "import torch\n",
    "import torch.optim as optim\n",
    "import torch.nn.functional as F\n",
    "import torch.nn as nn\n",
    "from torchvision import transforms\n",
    "\n",
    "from tqdm.auto import tqdm\n",
    "import numpy as np\n",
    "from PIL import Image\n",
    "import copy"
   ]
  },
  {
   "cell_type": "code",
   "execution_count": 2,
   "metadata": {},
   "outputs": [],
   "source": [
    "#dataset paths\n",
    "#set these paths and file names depending on where you are and which labels you are using\n",
    "\n",
    "data_path = Path(base_path).joinpath('data/')\n",
    "train_images_path = Path(data_path).joinpath('training_images_rand4_unique.npy')\n",
    "train_labels_path = Path(data_path).joinpath('training_objcounts_rand4_unique.npy')\n",
    "val_images_path = Path(data_path).joinpath('validation_images_rand4_unique.npy')\n",
    "val_labels_path = Path(data_path).joinpath('validation_objcounts_rand4_unique.npy')"
   ]
  },
  {
   "cell_type": "code",
   "execution_count": 3,
   "metadata": {},
   "outputs": [],
   "source": [
    "#load the numpy dataset files\n",
    "train_images = np.load(train_images_path)\n",
    "train_labels = np.load(train_labels_path).astype(int)\n",
    "val_images = np.load(val_images_path)\n",
    "val_labels = np.load(val_labels_path).astype(int)\n"
   ]
  },
  {
   "cell_type": "code",
   "execution_count": 4,
   "metadata": {},
   "outputs": [
    {
     "name": "stdout",
     "output_type": "stream",
     "text": [
      "[2 1 1 ... 2 0 1] [1 0 2 ... 0 3 3]\n"
     ]
    }
   ],
   "source": [
    "# change labels so that they start at 0\n",
    "# TODO this is only valid for counts - so we need a flag for this or change the generator or dataloader appropriately\n",
    "train_labels = (train_labels - 1)\n",
    "val_labels = (val_labels - 1)\n",
    "print(train_labels, val_labels)"
   ]
  },
  {
   "cell_type": "code",
   "execution_count": 5,
   "metadata": {},
   "outputs": [],
   "source": [
    "#convert labels to one-hot format\n",
    "#template = [[0, 0, 0, 0], [0, 1, 0, 0], [0, 0, 1, 0], [0, 0, 0, 1]]\n",
    "#tmp_labels = np.zeros_like()\n",
    "#train_labels = np.array([template[i] for _, i in enumerate(train_labels)])\n",
    "#val_labels = np.array([template[i] for _, i in enumerate(val_labels)])\n",
    "#print(train_labels)\n",
    "#print(val_labels)"
   ]
  },
  {
   "cell_type": "code",
   "execution_count": 6,
   "metadata": {},
   "outputs": [
    {
     "data": {
      "text/plain": [
       "Text(0.5, 1.0, 'count: 0')"
      ]
     },
     "execution_count": 6,
     "metadata": {},
     "output_type": "execute_result"
    },
    {
     "data": {
      "image/png": "[encoded data removed]",
      "text/plain": [
       "<Figure size 432x288 with 1 Axes>"
      ]
     },
     "metadata": {
      "needs_background": "light"
     },
     "output_type": "display_data"
    }
   ],
   "source": [
    "#examine data\n",
    "idx = np.random.randint(0, train_images.shape[0])\n",
    "plt.imshow(train_images[idx])\n",
    "plt.title('count: ' + str(train_labels[idx]))"
   ]
  },
  {
   "cell_type": "code",
   "execution_count": 7,
   "metadata": {},
   "outputs": [],
   "source": [
    "#utility functions for:\n",
    "# setting the seed\n",
    "# ensuring randomness of worker in data loader (overkill?)\n",
    "# setting the device based on GPU availability\n",
    "\n",
    "def set_seed(seed=None, seed_torch=True):\n",
    "  if seed is None:\n",
    "    seed = np.random.choice(2 ** 32)\n",
    "  random.seed(seed)\n",
    "  np.random.seed(seed)\n",
    "  if seed_torch:\n",
    "    torch.manual_seed(seed)\n",
    "    torch.cuda.manual_seed_all(seed)\n",
    "    torch.cuda.manual_seed(seed)\n",
    "    torch.backends.cudnn.benchmark = False\n",
    "    torch.backends.cudnn.deterministic = True\n",
    "\n",
    "  print(f'Random seed {seed} has been set.')\n",
    "\n",
    "\n",
    "# In case that `DataLoader` is used\n",
    "def seed_worker(worker_id):\n",
    "  worker_seed = torch.initial_seed() % 2**32\n",
    "  np.random.seed(worker_seed)\n",
    "  random.seed(worker_seed)\n",
    "\n",
    "# @title Set device (GPU or CPU). Execute `set_device()`\n",
    "# especially if torch modules used.\n",
    "\n",
    "# inform the user if the notebook uses GPU or CPU.\n",
    "\n",
    "def set_device():\n",
    "  device = \"cuda\" if torch.cuda.is_available() else \"cpu\"\n",
    "  if device != \"cuda\":\n",
    "    print(\"WARNING: For this notebook to perform best, \"\n",
    "        \"if possible, in the menu under `Runtime` -> \"\n",
    "        \"`Change runtime type.`  select `GPU` \")\n",
    "  else:\n",
    "    print(\"GPU is enabled in this notebook.\")\n",
    "\n",
    "  return device"
   ]
  },
  {
   "cell_type": "code",
   "execution_count": 8,
   "metadata": {},
   "outputs": [],
   "source": [
    "#define the dataset class for our data for use by the dataloader\n",
    "class CustomTensorDataset(torch.utils.data.Dataset):\n",
    "    \"\"\"TensorDataset with support of transforms.\n",
    "    \"\"\"\n",
    "    def __init__(self, images, labels, transform=None, target_transform=None):\n",
    "        # assert all(tensors[0].size[0] == tensor.size[0] for tensor in tensors)\n",
    "        self.images = images\n",
    "        self.img_labels = labels\n",
    "        self.transform = transform\n",
    "        self.target_transform = target_transform\n",
    "\n",
    "    def __getitem__(self, index):\n",
    "        x = self.images[index]\n",
    "\n",
    "        if self.transform:\n",
    "          x = self.transform(x)\n",
    "\n",
    "        y = self.img_labels[index]\n",
    "        if self.target_transform:\n",
    "          y = self.target_transform(y)\n",
    "\n",
    "        return x, y\n",
    "\n",
    "    def __len__(self):\n",
    "        return len(self.img_labels)"
   ]
  },
  {
   "cell_type": "code",
   "execution_count": 9,
   "metadata": {},
   "outputs": [],
   "source": [
    "#instantiate the dataset\n",
    "train_transform = transforms.Compose([\n",
    "     transforms.ToTensor(),\n",
    "     transforms.Normalize((0.5, 0.5, 0.5), (0.5, 0.5, 0.5))\n",
    "     ])\n",
    "\n",
    "train_data =  CustomTensorDataset(train_images, train_labels, transform=train_transform)\n",
    "val_data = CustomTensorDataset(val_images,val_labels,transform=train_transform)"
   ]
  },
  {
   "cell_type": "code",
   "execution_count": 10,
   "metadata": {},
   "outputs": [
    {
     "name": "stdout",
     "output_type": "stream",
     "text": [
      "Random seed 2021 has been set.\n",
      "GPU is enabled in this notebook.\n"
     ]
    },
    {
     "name": "stderr",
     "output_type": "stream",
     "text": [
      "/opt/conda/lib/python3.8/site-packages/torch/utils/data/dataloader.py:478: UserWarning: This DataLoader will create 16 worker processes in total. Our suggested max number of worker in current system is 12, which is smaller than what this DataLoader is going to create. Please be aware that excessive worker creation might get DataLoader running slow or even freeze, lower the worker number to avoid potential slowness/freeze if necessary.\n",
      "  warnings.warn(_create_warning_msg(\n"
     ]
    }
   ],
   "source": [
    "#instantiate the dataloaders\n",
    "\n",
    "SEED = 2021\n",
    "set_seed(seed=SEED)\n",
    "DEVICE = set_device()\n",
    "# Create the corresponding DataLoaders for training and test\n",
    "g_seed = torch.Generator()\n",
    "g_seed.manual_seed(SEED)\n",
    "\n",
    "BATCH_SIZE = 128  # number of examples per minibatch\n",
    "\n",
    "train_loader = torch.utils.data.DataLoader(train_data,\n",
    "                                           batch_size=BATCH_SIZE,\n",
    "                                           num_workers=16,\n",
    "                                           worker_init_fn=seed_worker,\n",
    "                                           generator=g_seed)\n",
    "val_loader = torch.utils.data.DataLoader(val_data,\n",
    "                                         batch_size=BATCH_SIZE,\n",
    "                                         num_workers=16,\n",
    "                                         worker_init_fn=seed_worker,\n",
    "                                         generator=g_seed)"
   ]
  },
  {
   "cell_type": "code",
   "execution_count": 11,
   "metadata": {},
   "outputs": [],
   "source": [
    "#define the train and test loops, and a wrapper that will call them to train and collect validation stats\n",
    "\n",
    "def train(args, model, train_loader, optimizer,\n",
    "          reg_function1=None, reg_function2=None, criterion=F.nll_loss):\n",
    "  \"\"\"\n",
    "  Trains the current inpur model using the data\n",
    "  from Train_loader and Updates parameters for a single pass\n",
    "  \"\"\"\n",
    "  device = args['device']\n",
    "  model.train()\n",
    "  for batch_idx, (data, target) in enumerate(train_loader):\n",
    "    data, target = data.to(device), target.to(device)\n",
    "    optimizer.zero_grad()\n",
    "    output = model(data)\n",
    "    #print(\"target\")\n",
    "    #print(target)\n",
    "    #print(\"output\")\n",
    "    #print(output)\n",
    "    if reg_function1 is None:\n",
    "      loss = criterion(output, target)\n",
    "    elif reg_function2 is None:\n",
    "      loss = criterion(output, target)+args['lambda']*reg_function1(model)\n",
    "    else:\n",
    "      loss = criterion(output, target) + args['lambda1']*reg_function1(model) + args['lambda2']*reg_function2(model)\n",
    "    loss.backward()\n",
    "    optimizer.step()\n",
    "\n",
    "  return model\n",
    "\n",
    "\n",
    "def test(model, test_loader, criterion=F.nll_loss, device='cpu'):\n",
    "  \"\"\"\n",
    "  Tests the current Model\n",
    "  \"\"\"\n",
    "  model.eval()\n",
    "  test_loss = 0\n",
    "  correct = 0\n",
    "  with torch.no_grad():\n",
    "    for data, target in test_loader:\n",
    "      data, target = data.to(device), target.to(device)\n",
    "      output = model(data)\n",
    "      test_loss += criterion(output, target, reduction='sum').item()  # sum up batch loss\n",
    "      pred = output.argmax(dim=1, keepdim=True)  # get the index of the max log-probability\n",
    "      correct += pred.eq(target.view_as(pred)).sum().item()\n",
    "\n",
    "  test_loss /= len(test_loader.dataset)\n",
    "  return 100. * correct / len(test_loader.dataset)\n",
    "\n"
   ]
  },
  {
   "cell_type": "code",
   "execution_count": 12,
   "metadata": {},
   "outputs": [],
   "source": [
    "def early_stopping_main(args, model, train_loader, val_loader, reg_function1=None, reg_function2=None):\n",
    "  device = args['device']\n",
    "  model = model.to(device)\n",
    "  optimizer = optim.SGD(model.parameters(),\n",
    "                        lr=args['lr'],\n",
    "                        momentum=args['momentum'])\n",
    "\n",
    "  best_acc = 0.0\n",
    "  best_epoch = 0\n",
    "\n",
    "  # Number of successive epochs that you want to wait before stopping training process\n",
    "  patience = 20\n",
    "\n",
    "  # Keps track of number of epochs during which the val_acc was less than best_acc\n",
    "  wait = 0\n",
    "\n",
    "  val_acc_list, train_acc_list = [], []\n",
    "  for epoch in tqdm(range(args['epochs'])):\n",
    "\n",
    "    # train the model\n",
    "    trained_model = train(args, model, train_loader, optimizer,\n",
    "                          reg_function1=reg_function1,\n",
    "                          reg_function2=reg_function2)\n",
    "\n",
    "    # calculate training accuracy\n",
    "    train_acc = test(trained_model, train_loader, device=device)\n",
    "\n",
    "    # calculate validation accuracy\n",
    "    val_acc = test(trained_model, val_loader, device=device)\n",
    "\n",
    "    if (val_acc > best_acc):\n",
    "      best_acc = val_acc\n",
    "      best_epoch = epoch\n",
    "      best_model = copy.deepcopy(trained_model)\n",
    "      wait = 0\n",
    "    else:\n",
    "      wait += 1\n",
    "\n",
    "    if (wait > patience):\n",
    "      print(f'early stopped on epoch: {epoch}')\n",
    "      break\n",
    "\n",
    "    train_acc_list.append(train_acc)\n",
    "    val_acc_list.append(val_acc)\n",
    "    #save the model\n",
    "    if('checkpoint_path' in args):\n",
    "        torch.save({\n",
    "          'model_state_dict': model.state_dict(),\n",
    "          'optimizer_state_dict': optimizer.state_dict()\n",
    "          }, args['checkpoint_path'])\n",
    "    \n",
    "  return val_acc_list, train_acc_list, best_model, best_epoch\n",
    "\n"
   ]
  },
  {
   "cell_type": "code",
   "execution_count": 13,
   "metadata": {},
   "outputs": [],
   "source": [
    "#define the MLP model\n",
    "class simpleCNN(nn.Module):\n",
    "  def __init__(self):\n",
    "    super(simpleCNN, self).__init__()\n",
    "    self.conv1 = nn.Conv2d(in_channels=3, out_channels=16, kernel_size=4, stride=2, padding=1)\n",
    "    self.conv2 = nn.Conv2d(in_channels=16, out_channels=32, kernel_size=4, stride=2, padding=1)\n",
    "    self.conv3 = nn.Conv2d(in_channels=32, out_channels=64, kernel_size=4, stride=2, padding=1)\n",
    "    self.fc1 = nn.Linear(4096, 256)\n",
    "    self.fc2 = nn.Linear(256, 4)\n",
    "    self.dropout1 = nn.Dropout(0.75)\n",
    "    self.dropout2 = nn.Dropout(0.75)\n",
    "\n",
    "  def forward(self, x):\n",
    "    x = F.relu(self.conv1(x))\n",
    "    x = F.relu(self.conv2(x))\n",
    "    x = self.dropout1(x)\n",
    "    x = F.relu(self.conv3(x))\n",
    "    x = self.dropout2(x)\n",
    "    x = torch.flatten(x, 1)\n",
    "    x = F.relu(self.fc1(x))\n",
    "    x = self.fc2(x)\n",
    "    output = F.log_softmax(x, dim=1)\n",
    "    return output"
   ]
  },
  {
   "cell_type": "code",
   "execution_count": 14,
   "metadata": {},
   "outputs": [
    {
     "name": "stdout",
     "output_type": "stream",
     "text": [
      "simpleCNN(\n",
      "  (conv1): Conv2d(3, 16, kernel_size=(4, 4), stride=(2, 2), padding=(1, 1))\n",
      "  (conv2): Conv2d(16, 32, kernel_size=(4, 4), stride=(2, 2), padding=(1, 1))\n",
      "  (conv3): Conv2d(32, 64, kernel_size=(4, 4), stride=(2, 2), padding=(1, 1))\n",
      "  (fc1): Linear(in_features=4096, out_features=256, bias=True)\n",
      "  (fc2): Linear(in_features=256, out_features=4, bias=True)\n",
      "  (dropout1): Dropout(p=0.75, inplace=False)\n",
      "  (dropout2): Dropout(p=0.75, inplace=False)\n",
      ")\n",
      "torch.Size([1, 3, 64, 64])\n"
     ]
    },
    {
     "data": {
      "text/plain": [
       "tensor([[-1.4218, -1.3859, -1.3680, -1.3704]], grad_fn=<LogSoftmaxBackward>)"
      ]
     },
     "execution_count": 14,
     "metadata": {},
     "output_type": "execute_result"
    }
   ],
   "source": [
    "model = simpleCNN()\n",
    "print(model)\n",
    "im = torch.Tensor(np.random.rand(1, 3, 64, 64))\n",
    "print(im.shape)\n",
    "model(im)"
   ]
  },
  {
   "cell_type": "code",
   "execution_count": 15,
   "metadata": {
    "scrolled": false
   },
   "outputs": [
    {
     "name": "stdout",
     "output_type": "stream",
     "text": [
      "Random seed 2021 has been set.\n"
     ]
    },
    {
     "data": {
      "application/vnd.jupyter.widget-view+json": {
       "model_id": "795f4ef061764a02a4e275decf842910",
       "version_major": 2,
       "version_minor": 0
      },
      "text/plain": [
       "HBox(children=(HTML(value=''), FloatProgress(value=0.0, max=200.0), HTML(value='')))"
      ]
     },
     "metadata": {},
     "output_type": "display_data"
    },
    {
     "name": "stdout",
     "output_type": "stream",
     "text": [
      "early stopped on epoch: 119\n",
      "\n",
      "Maximum Validation Accuracy is reached at epoch: 98\n",
      "Time to memorize the dataset: 798.1573450565338\n"
     ]
    },
    {
     "data": {
      "image/png": "[encoded data removed]",
      "text/plain": [
       "<Figure size 576x432 with 1 Axes>"
      ]
     },
     "metadata": {
      "needs_background": "light"
     },
     "output_type": "display_data"
    }
   ],
   "source": [
    "#set the hyper parameters, run the training and plot results\n",
    "# Set the arguments\n",
    "args = {\n",
    "    'epochs': 200,\n",
    "    'lr': 5e-3,\n",
    "    'momentum': 0.9,\n",
    "    'device': DEVICE,\n",
    "    'checkpoint_path': './simpleCNN.pt'\n",
    "}\n",
    "\n",
    "\n",
    "# Initialize the network\n",
    "set_seed(seed=SEED)\n",
    "model = simpleCNN()\n",
    "\n",
    "start_time = time.time()\n",
    "# Train the network\n",
    "\n",
    "val_acc_earlystop, train_acc_earlystop, best_model, best_epoch = early_stopping_main(args, model, train_loader, val_loader)\n",
    "print(f'Maximum Validation Accuracy is reached at epoch: {best_epoch:2d}')\n",
    "\n",
    "end_time = time.time()\n",
    "\n",
    "print(f\"Time to memorize the dataset: {end_time - start_time}\")\n",
    "\n",
    "# Train and Test accuracy plot\n",
    "plt.figure(figsize=(8, 6))\n",
    "plt.plot(val_acc_earlystop, label='Val Accuracy Pure', c='red', ls='dashed')\n",
    "plt.plot(train_acc_earlystop, label='Train Accuracy Pure', c='red', ls='solid')\n",
    "plt.axhline(y=max(val_acc_earlystop), c='green', ls='dashed',\n",
    "            label='max Val accuracy pure')\n",
    "plt.title(f'Best epoch = {best_epoch}')\n",
    "plt.ylabel('Accuracy (%)')\n",
    "plt.xlabel('Epoch')\n",
    "plt.legend()\n",
    "plt.show()"
   ]
  },
  {
   "cell_type": "code",
   "execution_count": 16,
   "metadata": {},
   "outputs": [
    {
     "name": "stdout",
     "output_type": "stream",
     "text": [
      "81.27\n"
     ]
    }
   ],
   "source": [
    "#validate we can load the checkpoint and use it\n",
    "model = simpleCNN()\n",
    "\n",
    "if ('checkpoint_path' in args):\n",
    "    checkpoint = torch.load(args['checkpoint_path'])\n",
    "    model.load_state_dict(checkpoint['model_state_dict'])\n",
    "    model.to(args['device'])\n",
    "    model.eval()\n",
    "    val_acc = test(model, val_loader, device=args['device'])\n",
    "    print(val_acc)\n",
    "else:\n",
    "    print('No checkpoint was saved')\n"
   ]
  },
  {
   "cell_type": "code",
   "execution_count": null,
   "metadata": {},
   "outputs": [],
   "source": []
  }
 ],
 "metadata": {
  "kernelspec": {
   "display_name": "Python 3 (ipykernel)",
   "language": "python",
   "name": "python3"
  },
  "language_info": {
   "codemirror_mode": {
    "name": "ipython",
    "version": 3
   },
   "file_extension": ".py",
   "mimetype": "text/x-python",
   "name": "python",
   "nbconvert_exporter": "python",
   "pygments_lexer": "ipython3",
   "version": "3.8.10"
  }
 },
 "nbformat": 4,
 "nbformat_minor": 4
}
