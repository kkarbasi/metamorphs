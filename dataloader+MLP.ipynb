{
  "nbformat": 4,
  "nbformat_minor": 0,
  "metadata": {
    "colab": {
      "name": "dataloader+MLP.ipynb",
      "provenance": [],
      "collapsed_sections": [],
      "toc_visible": true
    },
    "kernelspec": {
      "name": "python3",
      "display_name": "Python 3"
    },
    "language_info": {
      "name": "python"
    },
    "accelerator": "GPU",
    "widgets": {
      "application/vnd.jupyter.widget-state+json": {
        "7cd60489aab349e8b34216c864ecb016": {
          "model_module": "@jupyter-widgets/controls",
          "model_name": "HBoxModel",
          "state": {
            "_view_name": "HBoxView",
            "_dom_classes": [],
            "_model_name": "HBoxModel",
            "_view_module": "@jupyter-widgets/controls",
            "_model_module_version": "1.5.0",
            "_view_count": null,
            "_view_module_version": "1.5.0",
            "box_style": "",
            "layout": "IPY_MODEL_621b5ed55a6e4301bebbfdafacedfcfa",
            "_model_module": "@jupyter-widgets/controls",
            "children": [
              "IPY_MODEL_e80cb264533e4b28aad0568ba508181b",
              "IPY_MODEL_5962ad0ee43d4e9cb5d1283b762d5660"
            ]
          }
        },
        "621b5ed55a6e4301bebbfdafacedfcfa": {
          "model_module": "@jupyter-widgets/base",
          "model_name": "LayoutModel",
          "state": {
            "_view_name": "LayoutView",
            "grid_template_rows": null,
            "right": null,
            "justify_content": null,
            "_view_module": "@jupyter-widgets/base",
            "overflow": null,
            "_model_module_version": "1.2.0",
            "_view_count": null,
            "flex_flow": null,
            "width": null,
            "min_width": null,
            "border": null,
            "align_items": null,
            "bottom": null,
            "_model_module": "@jupyter-widgets/base",
            "top": null,
            "grid_column": null,
            "overflow_y": null,
            "overflow_x": null,
            "grid_auto_flow": null,
            "grid_area": null,
            "grid_template_columns": null,
            "flex": null,
            "_model_name": "LayoutModel",
            "justify_items": null,
            "grid_row": null,
            "max_height": null,
            "align_content": null,
            "visibility": null,
            "align_self": null,
            "height": null,
            "min_height": null,
            "padding": null,
            "grid_auto_rows": null,
            "grid_gap": null,
            "max_width": null,
            "order": null,
            "_view_module_version": "1.2.0",
            "grid_template_areas": null,
            "object_position": null,
            "object_fit": null,
            "grid_auto_columns": null,
            "margin": null,
            "display": null,
            "left": null
          }
        },
        "e80cb264533e4b28aad0568ba508181b": {
          "model_module": "@jupyter-widgets/controls",
          "model_name": "FloatProgressModel",
          "state": {
            "_view_name": "ProgressView",
            "style": "IPY_MODEL_6dff3cd716c1459d941d0c3e946228d8",
            "_dom_classes": [],
            "description": "100%",
            "_model_name": "FloatProgressModel",
            "bar_style": "success",
            "max": 200,
            "_view_module": "@jupyter-widgets/controls",
            "_model_module_version": "1.5.0",
            "value": 200,
            "_view_count": null,
            "_view_module_version": "1.5.0",
            "orientation": "horizontal",
            "min": 0,
            "description_tooltip": null,
            "_model_module": "@jupyter-widgets/controls",
            "layout": "IPY_MODEL_dddb63067c494e099d67c5fec7246201"
          }
        },
        "5962ad0ee43d4e9cb5d1283b762d5660": {
          "model_module": "@jupyter-widgets/controls",
          "model_name": "HTMLModel",
          "state": {
            "_view_name": "HTMLView",
            "style": "IPY_MODEL_c5ea04fa86b9408685fee5a1d26fcb10",
            "_dom_classes": [],
            "description": "",
            "_model_name": "HTMLModel",
            "placeholder": "​",
            "_view_module": "@jupyter-widgets/controls",
            "_model_module_version": "1.5.0",
            "value": " 200/200 [06:42&lt;00:00,  2.01s/it]",
            "_view_count": null,
            "_view_module_version": "1.5.0",
            "description_tooltip": null,
            "_model_module": "@jupyter-widgets/controls",
            "layout": "IPY_MODEL_10cb23864b2149038012208b816c10a5"
          }
        },
        "6dff3cd716c1459d941d0c3e946228d8": {
          "model_module": "@jupyter-widgets/controls",
          "model_name": "ProgressStyleModel",
          "state": {
            "_view_name": "StyleView",
            "_model_name": "ProgressStyleModel",
            "description_width": "initial",
            "_view_module": "@jupyter-widgets/base",
            "_model_module_version": "1.5.0",
            "_view_count": null,
            "_view_module_version": "1.2.0",
            "bar_color": null,
            "_model_module": "@jupyter-widgets/controls"
          }
        },
        "dddb63067c494e099d67c5fec7246201": {
          "model_module": "@jupyter-widgets/base",
          "model_name": "LayoutModel",
          "state": {
            "_view_name": "LayoutView",
            "grid_template_rows": null,
            "right": null,
            "justify_content": null,
            "_view_module": "@jupyter-widgets/base",
            "overflow": null,
            "_model_module_version": "1.2.0",
            "_view_count": null,
            "flex_flow": null,
            "width": null,
            "min_width": null,
            "border": null,
            "align_items": null,
            "bottom": null,
            "_model_module": "@jupyter-widgets/base",
            "top": null,
            "grid_column": null,
            "overflow_y": null,
            "overflow_x": null,
            "grid_auto_flow": null,
            "grid_area": null,
            "grid_template_columns": null,
            "flex": null,
            "_model_name": "LayoutModel",
            "justify_items": null,
            "grid_row": null,
            "max_height": null,
            "align_content": null,
            "visibility": null,
            "align_self": null,
            "height": null,
            "min_height": null,
            "padding": null,
            "grid_auto_rows": null,
            "grid_gap": null,
            "max_width": null,
            "order": null,
            "_view_module_version": "1.2.0",
            "grid_template_areas": null,
            "object_position": null,
            "object_fit": null,
            "grid_auto_columns": null,
            "margin": null,
            "display": null,
            "left": null
          }
        },
        "c5ea04fa86b9408685fee5a1d26fcb10": {
          "model_module": "@jupyter-widgets/controls",
          "model_name": "DescriptionStyleModel",
          "state": {
            "_view_name": "StyleView",
            "_model_name": "DescriptionStyleModel",
            "description_width": "",
            "_view_module": "@jupyter-widgets/base",
            "_model_module_version": "1.5.0",
            "_view_count": null,
            "_view_module_version": "1.2.0",
            "_model_module": "@jupyter-widgets/controls"
          }
        },
        "10cb23864b2149038012208b816c10a5": {
          "model_module": "@jupyter-widgets/base",
          "model_name": "LayoutModel",
          "state": {
            "_view_name": "LayoutView",
            "grid_template_rows": null,
            "right": null,
            "justify_content": null,
            "_view_module": "@jupyter-widgets/base",
            "overflow": null,
            "_model_module_version": "1.2.0",
            "_view_count": null,
            "flex_flow": null,
            "width": null,
            "min_width": null,
            "border": null,
            "align_items": null,
            "bottom": null,
            "_model_module": "@jupyter-widgets/base",
            "top": null,
            "grid_column": null,
            "overflow_y": null,
            "overflow_x": null,
            "grid_auto_flow": null,
            "grid_area": null,
            "grid_template_columns": null,
            "flex": null,
            "_model_name": "LayoutModel",
            "justify_items": null,
            "grid_row": null,
            "max_height": null,
            "align_content": null,
            "visibility": null,
            "align_self": null,
            "height": null,
            "min_height": null,
            "padding": null,
            "grid_auto_rows": null,
            "grid_gap": null,
            "max_width": null,
            "order": null,
            "_view_module_version": "1.2.0",
            "grid_template_areas": null,
            "object_position": null,
            "object_fit": null,
            "grid_auto_columns": null,
            "margin": null,
            "display": null,
            "left": null
          }
        }
      }
    }
  },
  "cells": [
    {
      "cell_type": "code",
      "metadata": {
        "id": "EN1sg0Bqr2Ax"
      },
      "source": [
        "from google.colab import drive\n"
      ],
      "execution_count": 1,
      "outputs": []
    },
    {
      "cell_type": "code",
      "metadata": {
        "colab": {
          "base_uri": "https://localhost:8080/"
        },
        "id": "PAXYhcuGvcvs",
        "outputId": "22617f4c-fa52-46d3-90e0-a95f765ec746"
      },
      "source": [
        "drive.mount(\"/gdrive\")\n"
      ],
      "execution_count": 2,
      "outputs": [
        {
          "output_type": "stream",
          "text": [
            "Mounted at /gdrive\n"
          ],
          "name": "stdout"
        }
      ]
    },
    {
      "cell_type": "code",
      "metadata": {
        "id": "x4LAXGVsxEV5"
      },
      "source": [
        "base_path = '/gdrive/MyDrive/nma_dl_metamorphs/'"
      ],
      "execution_count": 3,
      "outputs": []
    },
    {
      "cell_type": "code",
      "metadata": {
        "colab": {
          "base_uri": "https://localhost:8080/"
        },
        "id": "2px8f_CYvhLe",
        "outputId": "abc49444-836d-44e8-d68d-c959df764e89"
      },
      "source": [
        "!ls $base_path"
      ],
      "execution_count": 4,
      "outputs": [
        {
          "output_type": "stream",
          "text": [
            "code  data  dsprite_data_generation.ipynb\n"
          ],
          "name": "stdout"
        }
      ]
    },
    {
      "cell_type": "markdown",
      "metadata": {
        "id": "7l1JwEP37ghK"
      },
      "source": [
        "# Visualize data"
      ]
    },
    {
      "cell_type": "code",
      "metadata": {
        "colab": {
          "base_uri": "https://localhost:8080/"
        },
        "id": "3IIsx4iJ3NS4",
        "outputId": "473774cb-c38d-42cb-9c03-639706f8ce82"
      },
      "source": [
        "!ls $base_path"
      ],
      "execution_count": 5,
      "outputs": [
        {
          "output_type": "stream",
          "text": [
            "code  data  dsprite_data_generation.ipynb\n"
          ],
          "name": "stdout"
        }
      ]
    },
    {
      "cell_type": "code",
      "metadata": {
        "id": "APtON0ti_JQC"
      },
      "source": [
        "from pathlib import Path"
      ],
      "execution_count": 6,
      "outputs": []
    },
    {
      "cell_type": "code",
      "metadata": {
        "id": "iDUT5UZ2-udj"
      },
      "source": [
        "data_path = Path(base_path).joinpath('data/multi_dsprites/processed')\n"
      ],
      "execution_count": 7,
      "outputs": []
    },
    {
      "cell_type": "code",
      "metadata": {
        "colab": {
          "base_uri": "https://localhost:8080/"
        },
        "id": "tAaHOdZq-8pC",
        "outputId": "d5b5d09c-24b7-47bd-d769-218c8ca8c820"
      },
      "source": [
        "data_path"
      ],
      "execution_count": 8,
      "outputs": [
        {
          "output_type": "execute_result",
          "data": {
            "text/plain": [
              "PosixPath('/gdrive/MyDrive/nma_dl_metamorphs/data/multi_dsprites/processed')"
            ]
          },
          "metadata": {
            "tags": []
          },
          "execution_count": 8
        }
      ]
    },
    {
      "cell_type": "code",
      "metadata": {
        "colab": {
          "base_uri": "https://localhost:8080/"
        },
        "id": "E3cSCZEe_TwK",
        "outputId": "8a0a5fe7-93d0-4488-bbc8-42c65b99e584"
      },
      "source": [
        "data_files = list(data_path.glob('*'))\n",
        "print(*data_files, sep=\"\\n\") "
      ],
      "execution_count": 9,
      "outputs": [
        {
          "output_type": "stream",
          "text": [
            "/gdrive/MyDrive/nma_dl_metamorphs/data/multi_dsprites/processed/training_objcounts_rand4.npy\n",
            "/gdrive/MyDrive/nma_dl_metamorphs/data/multi_dsprites/processed/training_objareas_rand4.npy\n",
            "/gdrive/MyDrive/nma_dl_metamorphs/data/multi_dsprites/processed/training_imgareas_rand4.npy\n",
            "/gdrive/MyDrive/nma_dl_metamorphs/data/multi_dsprites/processed/validation_objcounts_rand4.npy\n",
            "/gdrive/MyDrive/nma_dl_metamorphs/data/multi_dsprites/processed/validation_objareas_rand4.npy\n",
            "/gdrive/MyDrive/nma_dl_metamorphs/data/multi_dsprites/processed/validation_imgareas_rand4.npy\n",
            "/gdrive/MyDrive/nma_dl_metamorphs/data/multi_dsprites/processed/test_objcounts_rand4.npy\n",
            "/gdrive/MyDrive/nma_dl_metamorphs/data/multi_dsprites/processed/test_objareas_rand4.npy\n",
            "/gdrive/MyDrive/nma_dl_metamorphs/data/multi_dsprites/processed/test_imgareas_rand4.npy\n",
            "/gdrive/MyDrive/nma_dl_metamorphs/data/multi_dsprites/processed/training_images_rand4.npy\n",
            "/gdrive/MyDrive/nma_dl_metamorphs/data/multi_dsprites/processed/training_masks_rand4.npy\n",
            "/gdrive/MyDrive/nma_dl_metamorphs/data/multi_dsprites/processed/validation_images_rand4.npy\n",
            "/gdrive/MyDrive/nma_dl_metamorphs/data/multi_dsprites/processed/validation_masks_rand4.npy\n",
            "/gdrive/MyDrive/nma_dl_metamorphs/data/multi_dsprites/processed/test_images_rand4.npy\n",
            "/gdrive/MyDrive/nma_dl_metamorphs/data/multi_dsprites/processed/test_masks_rand4.npy\n",
            "/gdrive/MyDrive/nma_dl_metamorphs/data/multi_dsprites/processed/training_images_rand4_unique.npy\n",
            "/gdrive/MyDrive/nma_dl_metamorphs/data/multi_dsprites/processed/training_masks_rand4_unique.npy\n",
            "/gdrive/MyDrive/nma_dl_metamorphs/data/multi_dsprites/processed/training_objcounts_rand4_unique.npy\n",
            "/gdrive/MyDrive/nma_dl_metamorphs/data/multi_dsprites/processed/training_objareas_rand4_unique.npy\n",
            "/gdrive/MyDrive/nma_dl_metamorphs/data/multi_dsprites/processed/training_imgareas_rand4_unique.npy\n",
            "/gdrive/MyDrive/nma_dl_metamorphs/data/multi_dsprites/processed/validation_images_rand4_unique.npy\n",
            "/gdrive/MyDrive/nma_dl_metamorphs/data/multi_dsprites/processed/validation_masks_rand4_unique.npy\n",
            "/gdrive/MyDrive/nma_dl_metamorphs/data/multi_dsprites/processed/validation_objcounts_rand4_unique.npy\n",
            "/gdrive/MyDrive/nma_dl_metamorphs/data/multi_dsprites/processed/validation_objareas_rand4_unique.npy\n",
            "/gdrive/MyDrive/nma_dl_metamorphs/data/multi_dsprites/processed/validation_imgareas_rand4_unique.npy\n",
            "/gdrive/MyDrive/nma_dl_metamorphs/data/multi_dsprites/processed/test_images_rand4_unique.npy\n",
            "/gdrive/MyDrive/nma_dl_metamorphs/data/multi_dsprites/processed/test_masks_rand4_unique.npy\n",
            "/gdrive/MyDrive/nma_dl_metamorphs/data/multi_dsprites/processed/test_objcounts_rand4_unique.npy\n",
            "/gdrive/MyDrive/nma_dl_metamorphs/data/multi_dsprites/processed/test_objareas_rand4_unique.npy\n",
            "/gdrive/MyDrive/nma_dl_metamorphs/data/multi_dsprites/processed/test_imgareas_rand4_unique.npy\n"
          ],
          "name": "stdout"
        }
      ]
    },
    {
      "cell_type": "code",
      "metadata": {
        "id": "T0L73BM0_aEW"
      },
      "source": [
        "import numpy as np\n",
        "train_images = np.load(data_files[-15])\n",
        "train_labels = np.load(data_files[-13])\n",
        "val_images = np.load(data_files[-10])\n",
        "val_labels = np.load(data_files[-8])"
      ],
      "execution_count": 17,
      "outputs": []
    },
    {
      "cell_type": "code",
      "metadata": {
        "colab": {
          "base_uri": "https://localhost:8080/"
        },
        "id": "MPazYARW3fQo",
        "outputId": "8c75b924-9a1d-47a0-8fc4-82a219f1a5e0"
      },
      "source": [
        "# change labels so that they start at 0\n",
        "train_labels = train_labels.long()-1\n",
        "val_labels = torch.tensor(val_labels)\n",
        "val_labels = val_labels.long()-1"
      ],
      "execution_count": 118,
      "outputs": [
        {
          "output_type": "stream",
          "text": [
            "/usr/local/lib/python3.7/dist-packages/ipykernel_launcher.py:2: UserWarning: To copy construct from a tensor, it is recommended to use sourceTensor.clone().detach() or sourceTensor.clone().detach().requires_grad_(True), rather than torch.tensor(sourceTensor).\n",
            "  \n"
          ],
          "name": "stderr"
        }
      ]
    },
    {
      "cell_type": "code",
      "metadata": {
        "colab": {
          "base_uri": "https://localhost:8080/"
        },
        "id": "hbXvOr0b3qD8",
        "outputId": "5de1c6d8-315a-41ff-9a9b-41ede3c8bdfe"
      },
      "source": [
        "val_labels"
      ],
      "execution_count": 119,
      "outputs": [
        {
          "output_type": "execute_result",
          "data": {
            "text/plain": [
              "tensor([1, 0, 2,  ..., 0, 3, 3])"
            ]
          },
          "metadata": {
            "tags": []
          },
          "execution_count": 119
        }
      ]
    },
    {
      "cell_type": "code",
      "metadata": {
        "colab": {
          "base_uri": "https://localhost:8080/"
        },
        "id": "RDRvQaEaAZgN",
        "outputId": "53bc4038-ed64-4e8e-ee8a-8b2d9ab1a6a6"
      },
      "source": [
        "train_images.shape"
      ],
      "execution_count": 18,
      "outputs": [
        {
          "output_type": "execute_result",
          "data": {
            "text/plain": [
              "(50000, 64, 64, 3)"
            ]
          },
          "metadata": {
            "tags": []
          },
          "execution_count": 18
        }
      ]
    },
    {
      "cell_type": "code",
      "metadata": {
        "colab": {
          "base_uri": "https://localhost:8080/"
        },
        "id": "Kdou7lKvpSY4",
        "outputId": "1e53052c-82b9-403c-b9c8-8c096ff9a9f0"
      },
      "source": [
        "train_labels.shape"
      ],
      "execution_count": 89,
      "outputs": [
        {
          "output_type": "execute_result",
          "data": {
            "text/plain": [
              "tensor(1)"
            ]
          },
          "metadata": {
            "tags": []
          },
          "execution_count": 89
        }
      ]
    },
    {
      "cell_type": "code",
      "metadata": {
        "id": "Rh9AEErKAvQY"
      },
      "source": [
        "import matplotlib.pyplot as plt"
      ],
      "execution_count": 20,
      "outputs": []
    },
    {
      "cell_type": "code",
      "metadata": {
        "colab": {
          "base_uri": "https://localhost:8080/",
          "height": 298
        },
        "id": "jTjCBzetAy7L",
        "outputId": "b065780c-ccdf-4614-cbbe-2df45be37bec"
      },
      "source": [
        "idx = np.random.randint(0, train_images.shape[0])\n",
        "plt.imshow(train_images[idx])\n",
        "plt.title('count: ' + str(train_labels[idx]))"
      ],
      "execution_count": 21,
      "outputs": [
        {
          "output_type": "execute_result",
          "data": {
            "text/plain": [
              "Text(0.5, 1.0, 'count: 4.0')"
            ]
          },
          "metadata": {
            "tags": []
          },
          "execution_count": 21
        },
        {
          "output_type": "display_data",
          "data": {
            "image/png": "[encoded data removed]",
            "text/plain": [
              "<Figure size 432x288 with 1 Axes>"
            ]
          },
          "metadata": {
            "tags": [],
            "needs_background": "light"
          }
        }
      ]
    },
    {
      "cell_type": "markdown",
      "metadata": {
        "id": "wUxPHEftW9-B"
      },
      "source": [
        "**Poke around the sprites**"
      ]
    },
    {
      "cell_type": "code",
      "metadata": {
        "id": "kuKWDKEIYjJ1"
      },
      "source": [
        "import random\n",
        "from random import randint, choice\n",
        "\n",
        "import time\n",
        "\n",
        "import torch\n",
        "import torch.optim as optim\n",
        "import torch.nn.functional as F\n",
        "import torch.nn as nn\n",
        "from torchvision import transforms\n",
        "\n",
        "from tqdm.auto import tqdm\n",
        "import numpy as np\n",
        "from PIL import Image\n",
        "\n",
        "# Set manual seed\n",
        "torch.manual_seed(0)\n",
        "np.random.seed(0)\n",
        "random.seed(0)\n",
        "# Make CUDA operations deterministic\n",
        "torch.backends.cudnn.deterministic = True\n",
        "torch.backends.cudnn.benchmark = False\n"
      ],
      "execution_count": 64,
      "outputs": []
    },
    {
      "cell_type": "code",
      "metadata": {
        "id": "mTI5pgmkXV2k"
      },
      "source": [
        "data_path = Path(base_path).joinpath('data/multi_dsprites/dsprites-dataset')"
      ],
      "execution_count": 18,
      "outputs": []
    },
    {
      "cell_type": "code",
      "metadata": {
        "colab": {
          "base_uri": "https://localhost:8080/"
        },
        "id": "Lx2zCh4cXhr7",
        "outputId": "1dd2f099-305e-417a-8c3e-0c6a4cc22212"
      },
      "source": [
        "data_files = list(data_path.glob('*'))\n",
        "print(*data_files, sep=\"\\n\") "
      ],
      "execution_count": 41,
      "outputs": [
        {
          "output_type": "stream",
          "text": [
            "/gdrive/MyDrive/nma_dl_metamorphs/data/multi_dsprites/dsprites-dataset/.git\n",
            "/gdrive/MyDrive/nma_dl_metamorphs/data/multi_dsprites/dsprites-dataset/dsprites_ndarray_co1sh3sc6or40x32y32_64x64.npz\n",
            "/gdrive/MyDrive/nma_dl_metamorphs/data/multi_dsprites/dsprites-dataset/dsprites_reloading_example.ipynb\n",
            "/gdrive/MyDrive/nma_dl_metamorphs/data/multi_dsprites/dsprites-dataset/README.md\n",
            "/gdrive/MyDrive/nma_dl_metamorphs/data/multi_dsprites/dsprites-dataset/CONTRIBUTING.md\n",
            "/gdrive/MyDrive/nma_dl_metamorphs/data/multi_dsprites/dsprites-dataset/dsprites_ndarray_co1sh3sc6or40x32y32_64x64.hdf5\n",
            "/gdrive/MyDrive/nma_dl_metamorphs/data/multi_dsprites/dsprites-dataset/dsprites.gif\n",
            "/gdrive/MyDrive/nma_dl_metamorphs/data/multi_dsprites/dsprites-dataset/LICENSE\n"
          ],
          "name": "stdout"
        }
      ]
    },
    {
      "cell_type": "code",
      "metadata": {
        "id": "5An4UGgGErhu"
      },
      "source": [
        "dataset_zip = np.load('/gdrive/MyDrive/nma_dl_metamorphs/data/multi_dsprites/dsprites-dataset/dsprites_ndarray_co1sh3sc6or40x32y32_64x64.npz', encoding=\"latin1\")\n",
        "sprites = dataset_zip['imgs']"
      ],
      "execution_count": 42,
      "outputs": []
    },
    {
      "cell_type": "code",
      "metadata": {
        "id": "Nxs_Q8jJYWH3"
      },
      "source": [
        "def rand_rgb_tuple():\n",
        "    val = [0, 63, 127, 191, 255]\n",
        "    return choice(val), choice(val), choice(val)"
      ],
      "execution_count": 43,
      "outputs": []
    },
    {
      "cell_type": "code",
      "metadata": {
        "id": "mMZaGaZGXL0X"
      },
      "source": [
        "# params\n",
        "dataset_size = 64\n",
        "num_objects = 2\n",
        "unique = False\n",
        "\n",
        "# Initialise\n",
        "all_images = np.zeros((dataset_size, 64, 64, 3))\n",
        "all_instance_masks = np.zeros((dataset_size, 64, 64, 1))\n",
        "\n",
        "# Create images\n",
        "for i in range(dataset_size):\n",
        "    if (i+1)%10000 == 0:\n",
        "        print(f\"Processing [{i+1} | {dataset_size}]\")\n",
        "\n",
        "    # Create background\n",
        "    background_colour = rand_rgb_tuple()\n",
        "    image = np.array(Image.new('RGB', (64, 64), background_colour))\n",
        "    # Initialise instance masks\n",
        "    instance_masks = np.zeros((64, 64, 1)).astype('int')\n",
        "\n",
        "    img_colours = [background_colour]\n",
        "\n",
        "    # Add objects\n",
        "    if num_objects is None:\n",
        "        num_sprites = randint(1, 4)\n",
        "    else:\n",
        "        num_sprites = num_objects\n",
        "    for obj_idx in range(num_sprites):\n",
        "        object_index = randint(0, 737279)\n",
        "        sprite_mask = np.array(sprites[object_index], dtype=bool)\n",
        "        crop_index = np.where(sprite_mask == True)\n",
        "        object_colour = rand_rgb_tuple()\n",
        "        # Optional: get new random colour if colour has already been used\n",
        "        while unique and object_colour in img_colours:\n",
        "            object_colour = rand_rgb_tuple()\n",
        "        image[crop_index] = object_colour\n",
        "        instance_masks[crop_index] = obj_idx + 1\n",
        "        img_colours.append(object_colour)\n",
        "    # Collate\n",
        "    all_images[i] = image\n",
        "    all_instance_masks[i] = instance_masks\n",
        "\n",
        "all_images = all_images.astype('float32') / 255.0"
      ],
      "execution_count": 48,
      "outputs": []
    },
    {
      "cell_type": "code",
      "metadata": {
        "colab": {
          "base_uri": "https://localhost:8080/",
          "height": 285
        },
        "id": "o1EpmWobYQiE",
        "outputId": "ddbf0ba2-2e80-4e9e-fdd8-e401bfe68645"
      },
      "source": [
        "plt.imshow(all_instance_masks[0,:,:,:].squeeze())"
      ],
      "execution_count": 49,
      "outputs": [
        {
          "output_type": "execute_result",
          "data": {
            "text/plain": [
              "<matplotlib.image.AxesImage at 0x7f45c75a77d0>"
            ]
          },
          "metadata": {
            "tags": []
          },
          "execution_count": 49
        },
        {
          "output_type": "display_data",
          "data": {
            "image/png": "[encoded data removed]",
            "text/plain": [
              "<Figure size 432x288 with 1 Axes>"
            ]
          },
          "metadata": {
            "tags": [],
            "needs_background": "light"
          }
        }
      ]
    },
    {
      "cell_type": "code",
      "metadata": {
        "id": "xuZXWYy8Y18j",
        "colab": {
          "base_uri": "https://localhost:8080/"
        },
        "outputId": "8ba9481d-e752-4d07-8255-94aee911bf2d"
      },
      "source": [
        "!mkdir -p $base_path/code/github\n",
        "!cd \"$base_path/code/github\"; git clone https://github.com/kkarbasi/metamorphs.git "
      ],
      "execution_count": 13,
      "outputs": [
        {
          "output_type": "stream",
          "text": [
            "fatal: not a git repository (or any parent up to mount point /)\n",
            "Stopping at filesystem boundary (GIT_DISCOVERY_ACROSS_FILESYSTEM not set).\n"
          ],
          "name": "stdout"
        }
      ]
    },
    {
      "cell_type": "markdown",
      "metadata": {
        "id": "l1wXSV0EeQop"
      },
      "source": [
        "**Data Loader**"
      ]
    },
    {
      "cell_type": "code",
      "metadata": {
        "id": "64IxujykfveB"
      },
      "source": [
        "# @title Set random seed\n",
        "\n",
        "# @markdown Executing `set_seed(seed=seed)` you are setting the seed\n",
        "\n",
        "# for DL its critical to set the random seed so that students can have a\n",
        "# baseline to compare their results to expected results.\n",
        "# Read more here: https://pytorch.org/docs/stable/notes/randomness.html\n",
        "\n",
        "# Call `set_seed` function in the exercises to ensure reproducibility.\n",
        "import random\n",
        "import torch\n",
        "\n",
        "def set_seed(seed=None, seed_torch=True):\n",
        "  if seed is None:\n",
        "    seed = np.random.choice(2 ** 32)\n",
        "  random.seed(seed)\n",
        "  np.random.seed(seed)\n",
        "  if seed_torch:\n",
        "    torch.manual_seed(seed)\n",
        "    torch.cuda.manual_seed_all(seed)\n",
        "    torch.cuda.manual_seed(seed)\n",
        "    torch.backends.cudnn.benchmark = False\n",
        "    torch.backends.cudnn.deterministic = True\n",
        "\n",
        "  print(f'Random seed {seed} has been set.')\n",
        "\n",
        "\n",
        "# In case that `DataLoader` is used\n",
        "def seed_worker(worker_id):\n",
        "  worker_seed = torch.initial_seed() % 2**32\n",
        "  np.random.seed(worker_seed)\n",
        "  random.seed(worker_seed)\n",
        "\n",
        "# @title Set device (GPU or CPU). Execute `set_device()`\n",
        "# especially if torch modules used.\n",
        "\n",
        "# inform the user if the notebook uses GPU or CPU.\n",
        "\n",
        "def set_device():\n",
        "  device = \"cuda\" if torch.cuda.is_available() else \"cpu\"\n",
        "  if device != \"cuda\":\n",
        "    print(\"WARNING: For this notebook to perform best, \"\n",
        "        \"if possible, in the menu under `Runtime` -> \"\n",
        "        \"`Change runtime type.`  select `GPU` \")\n",
        "  else:\n",
        "    print(\"GPU is enabled in this notebook.\")\n",
        "\n",
        "  return device\n",
        "\n",
        "def train(args, model, train_loader, optimizer,\n",
        "          reg_function1=None, reg_function2=None, criterion=F.nll_loss):\n",
        "  \"\"\"\n",
        "  Trains the current inpur model using the data\n",
        "  from Train_loader and Updates parameters for a single pass\n",
        "  \"\"\"\n",
        "  device = args['device']\n",
        "  model.train()\n",
        "  for batch_idx, (data, target) in enumerate(train_loader):\n",
        "    data, target = data.to(device), target.to(device)\n",
        "    optimizer.zero_grad()\n",
        "    output = model(data)\n",
        "    if reg_function1 is None:\n",
        "      loss = criterion(output, target)\n",
        "    elif reg_function2 is None:\n",
        "      loss = criterion(output, target)+args['lambda']*reg_function1(model)\n",
        "    else:\n",
        "      loss = criterion(output, target) + args['lambda1']*reg_function1(model) + args['lambda2']*reg_function2(model)\n",
        "    loss.backward()\n",
        "    optimizer.step()\n",
        "\n",
        "  return model\n",
        "\n",
        "\n",
        "def test(model, test_loader, criterion=F.nll_loss, device='cpu'):\n",
        "  \"\"\"\n",
        "  Tests the current Model\n",
        "  \"\"\"\n",
        "  model.eval()\n",
        "  test_loss = 0\n",
        "  correct = 0\n",
        "  with torch.no_grad():\n",
        "    for data, target in test_loader:\n",
        "      data, target = data.to(device), target.to(device)\n",
        "      output = model(data)\n",
        "      test_loss += criterion(output, target, reduction='sum').item()  # sum up batch loss\n",
        "      pred = output.argmax(dim=1, keepdim=True)  # get the index of the max log-probability\n",
        "      correct += pred.eq(target.view_as(pred)).sum().item()\n",
        "\n",
        "  test_loss /= len(test_loader.dataset)\n",
        "  return 100. * correct / len(test_loader.dataset)\n",
        "\n",
        "\n",
        "def main(args, model, train_loader, val_loader,\n",
        "         reg_function1=None, reg_function2=None):\n",
        "  \"\"\"\n",
        "  Trains the model with train_loader and tests the learned model using val_loader\n",
        "  \"\"\"\n",
        "\n",
        "  device = args['device']\n",
        "\n",
        "  model = model.to(device)\n",
        "  optimizer = optim.SGD(model.parameters(), lr=args['lr'],\n",
        "                        momentum=args['momentum'])\n",
        "\n",
        "  val_acc_list, train_acc_list,param_norm_list = [], [], []\n",
        "  for epoch in tqdm(range(args['epochs'])):\n",
        "    trained_model = train(args, model, train_loader, optimizer,\n",
        "                          reg_function1=reg_function1,\n",
        "                          reg_function2=reg_function2)\n",
        "    train_acc = test(trained_model, train_loader, device=device)\n",
        "    val_acc = test(trained_model, val_loader, device=device)\n",
        "    # param_norm = calculate_frobenius_norm(trained_model)\n",
        "    train_acc_list.append(train_acc)\n",
        "    val_acc_list.append(val_acc)\n",
        "    # param_norm_list.append(param_norm)\n",
        "\n",
        "  return val_acc_list, train_acc_list, trained_model"
      ],
      "execution_count": 125,
      "outputs": []
    },
    {
      "cell_type": "code",
      "metadata": {
        "id": "dsLQitNSu3ko"
      },
      "source": [
        "class CustomTensorDataset(torch.utils.data.Dataset):\n",
        "    \"\"\"TensorDataset with support of transforms.\n",
        "    \"\"\"\n",
        "    def __init__(self, images, labels, transform=None, target_transform=None):\n",
        "        # assert all(tensors[0].size[0] == tensor.size[0] for tensor in tensors)\n",
        "        self.images = images\n",
        "        self.img_labels = labels\n",
        "        self.transform = transform\n",
        "        self.target_transform = target_transform\n",
        "\n",
        "    def __getitem__(self, index):\n",
        "        x = self.images[index]\n",
        "\n",
        "        if self.transform:\n",
        "          x = self.transform(x)\n",
        "\n",
        "        y = self.img_labels[index]\n",
        "        if self.target_transform:\n",
        "          y = self.target_transform(y)\n",
        "\n",
        "        return x, y\n",
        "\n",
        "    def __len__(self):\n",
        "        return len(self.img_labels)"
      ],
      "execution_count": 81,
      "outputs": []
    },
    {
      "cell_type": "code",
      "metadata": {
        "id": "V1sbcsUKtTk7"
      },
      "source": [
        "train_transform = transforms.Compose([\n",
        "     transforms.ToTensor(),\n",
        "     transforms.Normalize((0.5, 0.5, 0.5), (0.5, 0.5, 0.5))\n",
        "     ])"
      ],
      "execution_count": 82,
      "outputs": []
    },
    {
      "cell_type": "code",
      "metadata": {
        "id": "u-5O9bvOoZ8F"
      },
      "source": [
        "# put data into \n",
        "train_data =  CustomTensorDataset(train_images, train_labels, transform=train_transform)\n",
        "val_data = CustomTensorDataset(val_images,val_labels,transform=train_transform)"
      ],
      "execution_count": 120,
      "outputs": []
    },
    {
      "cell_type": "code",
      "metadata": {
        "colab": {
          "base_uri": "https://localhost:8080/"
        },
        "id": "2VhY5Si8eSNQ",
        "outputId": "9e2ec0ca-f751-497a-b0af-f61c3caa5463"
      },
      "source": [
        "SEED = 2021\n",
        "set_seed(seed=SEED)\n",
        "DEVICE = set_device()\n",
        "# Create the corresponding DataLoaders for training and test\n",
        "g_seed = torch.Generator()\n",
        "g_seed.manual_seed(SEED)\n",
        "\n",
        "BATCH_SIZE = 128  # number of examples per minibatch\n",
        "\n",
        "train_loader = torch.utils.data.DataLoader(train_data,\n",
        "                                           batch_size=BATCH_SIZE,\n",
        "                                           num_workers=0,\n",
        "                                           worker_init_fn=seed_worker,\n",
        "                                           generator=g_seed)\n",
        "val_loader = torch.utils.data.DataLoader(val_data,\n",
        "                                         batch_size=1000,\n",
        "                                         num_workers=0,\n",
        "                                         worker_init_fn=seed_worker,\n",
        "                                         generator=g_seed)"
      ],
      "execution_count": 127,
      "outputs": [
        {
          "output_type": "stream",
          "text": [
            "Random seed 2021 has been set.\n",
            "WARNING: For this notebook to perform best, if possible, in the menu under `Runtime` -> `Change runtime type.`  select `GPU` \n"
          ],
          "name": "stdout"
        }
      ]
    },
    {
      "cell_type": "code",
      "metadata": {
        "colab": {
          "base_uri": "https://localhost:8080/"
        },
        "id": "92JLbsMqf__N",
        "outputId": "345dd41c-7fbd-404c-9b60-38e28e8c89b7"
      },
      "source": [
        "train_features, train_labels = next(iter(train_loader))\n",
        "print(f\"Feature batch shape: {train_features.size()}\")\n",
        "print(f\"Labels batch shape: {train_labels.size()}\")"
      ],
      "execution_count": 128,
      "outputs": [
        {
          "output_type": "stream",
          "text": [
            "Feature batch shape: torch.Size([16, 3, 64, 64])\n",
            "Labels batch shape: torch.Size([16])\n"
          ],
          "name": "stdout"
        }
      ]
    },
    {
      "cell_type": "code",
      "metadata": {
        "id": "vH3zW_Tl1GAq"
      },
      "source": [
        "class AnimalNet(nn.Module):\n",
        "  def __init__(self):\n",
        "    super(AnimalNet, self).__init__()\n",
        "    self.fc1 = nn.Linear(3 * 64 * 64, 128)\n",
        "    self.fc2 = nn.Linear(128, 32)\n",
        "    self.fc3 = nn.Linear(32, 4)\n",
        "\n",
        "  def forward(self, x):\n",
        "    x = x.view(x.shape[0],-1)\n",
        "    x = F.relu(self.fc1(x))\n",
        "    x = F.relu(self.fc2(x))\n",
        "    x = self.fc3(x)\n",
        "    output = F.log_softmax(x, dim=1)\n",
        "    return output"
      ],
      "execution_count": 129,
      "outputs": []
    },
    {
      "cell_type": "code",
      "metadata": {
        "colab": {
          "base_uri": "https://localhost:8080/",
          "height": 488,
          "referenced_widgets": [
            "7cd60489aab349e8b34216c864ecb016",
            "621b5ed55a6e4301bebbfdafacedfcfa",
            "e80cb264533e4b28aad0568ba508181b",
            "5962ad0ee43d4e9cb5d1283b762d5660",
            "6dff3cd716c1459d941d0c3e946228d8",
            "dddb63067c494e099d67c5fec7246201",
            "c5ea04fa86b9408685fee5a1d26fcb10",
            "10cb23864b2149038012208b816c10a5"
          ]
        },
        "id": "p4m52hO34uE6",
        "outputId": "5b8825f0-3ee3-4bcc-8333-8238eb9fbeed"
      },
      "source": [
        "# Here we have 100 true train data.\n",
        "\n",
        "# Set the arguments\n",
        "args = {\n",
        "    'epochs': 200,\n",
        "    'lr': 5e-3,\n",
        "    'momentum': 0.9,\n",
        "    'device': DEVICE\n",
        "}\n",
        "\n",
        "\n",
        "# Initialize the network\n",
        "set_seed(seed=SEED)\n",
        "model = AnimalNet()\n",
        "\n",
        "start_time = time.time()\n",
        "# Train the network\n",
        "val_acc_pure, train_acc_pure, model = main(args=args,\n",
        "                                              model=model,\n",
        "                                              train_loader=train_loader,\n",
        "                                              val_loader=val_loader)\n",
        "end_time = time.time()\n",
        "\n",
        "print(f\"Time to memorize the dataset: {end_time - start_time}\")\n",
        "\n",
        "# Train and Test accuracy plot\n",
        "plt.figure(figsize=(8, 6))\n",
        "plt.plot(val_acc_pure, label='Val Accuracy Pure', c='red', ls='dashed')\n",
        "plt.plot(train_acc_pure, label='Train Accuracy Pure', c='red', ls='solid')\n",
        "plt.axhline(y=max(val_acc_pure), c='green', ls='dashed',\n",
        "            label='max Val accuracy pure')\n",
        "plt.title('Memorization')\n",
        "plt.ylabel('Accuracy (%)')\n",
        "plt.xlabel('Epoch')\n",
        "plt.legend()\n",
        "plt.show()"
      ],
      "execution_count": 132,
      "outputs": [
        {
          "output_type": "stream",
          "text": [
            "Random seed 2021 has been set.\n"
          ],
          "name": "stdout"
        },
        {
          "output_type": "display_data",
          "data": {
            "application/vnd.jupyter.widget-view+json": {
              "model_id": "7cd60489aab349e8b34216c864ecb016",
              "version_minor": 0,
              "version_major": 2
            },
            "text/plain": [
              "HBox(children=(FloatProgress(value=0.0, max=200.0), HTML(value='')))"
            ]
          },
          "metadata": {
            "tags": []
          }
        },
        {
          "output_type": "stream",
          "text": [
            "\n",
            "Time to memorize the dataset: 402.36112451553345\n"
          ],
          "name": "stdout"
        },
        {
          "output_type": "display_data",
          "data": {
            "image/png": "[encoded data removed]",
            "text/plain": [
              "<Figure size 576x432 with 1 Axes>"
            ]
          },
          "metadata": {
            "tags": [],
            "needs_background": "light"
          }
        }
      ]
    },
    {
      "cell_type": "code",
      "metadata": {
        "id": "ESR-fgH24stc"
      },
      "source": [
        ""
      ],
      "execution_count": null,
      "outputs": []
    }
  ]
}