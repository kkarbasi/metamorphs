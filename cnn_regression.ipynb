{
 "cells": [
  {
   "cell_type": "code",
   "execution_count": 1,
   "metadata": {
    "colab": {
     "base_uri": "https://localhost:8080/"
    },
    "id": "6g1j2nzJnikP",
    "outputId": "384b8412-2873-4753-f26a-a89959dded35"
   },
   "outputs": [],
   "source": [
    "#imports\n",
    "try:\n",
    "    from google.colab import drive\n",
    "    #mount drive, set base path\n",
    "    drive.mount(\"/gdrive\")\n",
    "    base_path = '/gdrive/MyDrive/nma_dl_metamorphs/data/multi_dsprites'\n",
    "except:\n",
    "    base_path = './'\n",
    "from pathlib import Path\n",
    "import matplotlib.pyplot as plt\n",
    "import random\n",
    "from random import randint, choice\n",
    "\n",
    "import time\n",
    "\n",
    "import torch\n",
    "import torch.optim as optim\n",
    "import torch.nn.functional as F\n",
    "import torch.nn as nn\n",
    "from torchvision import transforms\n",
    "\n",
    "from tqdm.auto import tqdm\n",
    "import numpy as np\n",
    "from PIL import Image\n",
    "\n",
    "import copy"
   ]
  },
  {
   "cell_type": "code",
   "execution_count": 2,
   "metadata": {},
   "outputs": [
    {
     "data": {
      "text/plain": [
       "True"
      ]
     },
     "execution_count": 2,
     "metadata": {},
     "output_type": "execute_result"
    }
   ],
   "source": [
    "torch.cuda.is_available()"
   ]
  },
  {
   "cell_type": "code",
   "execution_count": 3,
   "metadata": {
    "id": "zocXzzDDnikU"
   },
   "outputs": [],
   "source": [
    "#utility functions for:\n",
    "# setting the seed\n",
    "# ensuring randomness of worker in data loader (overkill?)\n",
    "# setting the device based on GPU availability\n",
    "\n",
    "def set_seed(seed=None, seed_torch=True):\n",
    "  if seed is None:\n",
    "    seed = np.random.choice(2 ** 32)\n",
    "  random.seed(seed)\n",
    "  np.random.seed(seed)\n",
    "  if seed_torch:\n",
    "    torch.manual_seed(seed)\n",
    "    torch.cuda.manual_seed_all(seed)\n",
    "    torch.cuda.manual_seed(seed)\n",
    "    torch.backends.cudnn.benchmark = False\n",
    "    torch.backends.cudnn.deterministic = True\n",
    "\n",
    "  print(f'Random seed {seed} has been set.')\n",
    "\n",
    "\n",
    "# In case that `DataLoader` is used\n",
    "def seed_worker(worker_id):\n",
    "  worker_seed = torch.initial_seed() % 2**32\n",
    "  np.random.seed(worker_seed)\n",
    "  random.seed(worker_seed)\n",
    "\n",
    "# @title Set device (GPU or CPU). Execute `set_device()`\n",
    "# especially if torch modules used.\n",
    "\n",
    "# inform the user if the notebook uses GPU or CPU.\n",
    "\n",
    "def set_device():\n",
    "  device = \"cuda\" if torch.cuda.is_available() else \"cpu\"\n",
    "  if device != \"cuda\":\n",
    "    print(\"WARNING: For this notebook to perform best, \"\n",
    "        \"if possible, in the menu under `Runtime` -> \"\n",
    "        \"`Change runtime type.`  select `GPU` \")\n",
    "  else:\n",
    "    print(\"GPU is enabled in this notebook.\")\n",
    "\n",
    "  return device"
   ]
  },
  {
   "cell_type": "code",
   "execution_count": 4,
   "metadata": {
    "id": "v0FXC_m1nikS"
   },
   "outputs": [],
   "source": [
    "#dataset paths\n",
    "#set these paths and file names depending on where you are and which labels you are using\n",
    "\n",
    "data_path = Path(base_path).joinpath('processed/')\n",
    "train_images_path = Path(data_path).joinpath('training_images_rand4_unique.npy')\n",
    "train_labels_path = Path(data_path).joinpath('training_objcounts_rand4_unique.npy')\n",
    "val_images_path = Path(data_path).joinpath('validation_images_rand4_unique.npy')\n",
    "val_labels_path = Path(data_path).joinpath('validation_objcounts_rand4_unique.npy')\n",
    "\n",
    "#get image area\n",
    "train_imgarea_path = Path(data_path).joinpath('training_imgareas_rand4_unique.npy')\n",
    "val_imgarea_path = Path(data_path).joinpath('validation_imgareas_rand4_unique.npy')"
   ]
  },
  {
   "cell_type": "code",
   "execution_count": 5,
   "metadata": {
    "id": "4UTTBcBMnikT"
   },
   "outputs": [],
   "source": [
    "#load the numpy dataset files\n",
    "train_images = np.load(train_images_path).astype(float)\n",
    "train_labels = torch.tensor(np.load(train_labels_path).astype(float))\n",
    "val_images = np.load(val_images_path).astype(float)\n",
    "val_labels = torch.tensor(np.load(val_labels_path).astype(float))\n",
    "\n",
    "#load image area files\n",
    "train_imgarea = np.load(train_imgarea_path).astype(float)\n",
    "val_imgarea = np.load(val_imgarea_path).astype(float)"
   ]
  },
  {
   "cell_type": "code",
   "execution_count": 6,
   "metadata": {
    "colab": {
     "base_uri": "https://localhost:8080/"
    },
    "id": "_WBZMmPtnikT",
    "outputId": "17d24dc1-1b04-4040-b114-d6775606eae6"
   },
   "outputs": [
    {
     "name": "stdout",
     "output_type": "stream",
     "text": [
      "tensor([3., 2., 2.,  ..., 3., 1., 2.], dtype=torch.float64) tensor([2., 1., 3.,  ..., 1., 4., 4.], dtype=torch.float64)\n"
     ]
    }
   ],
   "source": [
    "# change labels so that they start at 0\n",
    "# TODO this is only valid for counts - so we need a flag for this or change the generator or dataloader appropriately\n",
    "train_labels = (train_labels)\n",
    "val_labels = (val_labels)\n",
    "print(train_labels, val_labels)"
   ]
  },
  {
   "cell_type": "code",
   "execution_count": 7,
   "metadata": {
    "colab": {
     "base_uri": "https://localhost:8080/",
     "height": 298
    },
    "id": "kIu5E5N3nikU",
    "outputId": "94fa9762-c712-45bc-fa3f-37696264eb6e"
   },
   "outputs": [
    {
     "data": {
      "text/plain": [
       "Text(0.5, 1.0, 'object area: tensor(1., dtype=torch.float64)')"
      ]
     },
     "execution_count": 7,
     "metadata": {},
     "output_type": "execute_result"
    },
    {
     "data": {
      "image/png": "[encoded data removed]",
      "text/plain": [
       "<Figure size 432x288 with 1 Axes>"
      ]
     },
     "metadata": {
      "needs_background": "light"
     },
     "output_type": "display_data"
    }
   ],
   "source": [
    "#examine data\n",
    "idx = np.random.randint(0, train_images.shape[0])\n",
    "plt.imshow(train_images[idx])\n",
    "plt.title('object area: ' + str(train_labels[idx]))"
   ]
  },
  {
   "cell_type": "markdown",
   "metadata": {},
   "source": [
    "## Prepare dataloaders for cnn"
   ]
  },
  {
   "cell_type": "code",
   "execution_count": 8,
   "metadata": {
    "id": "aBzhZSDBnikV"
   },
   "outputs": [],
   "source": [
    "#define the dataset class for our data for use by the dataloader\n",
    "class CustomTensorDataset(torch.utils.data.Dataset):\n",
    "    \"\"\"TensorDataset with support of transforms.\n",
    "    \"\"\"\n",
    "    def __init__(self, images, labels, transform=None, target_transform=None):\n",
    "        # assert all(tensors[0].size[0] == tensor.size[0] for tensor in tensors)\n",
    "        self.images = images\n",
    "        self.img_labels = labels\n",
    "        self.transform = transform\n",
    "        self.target_transform = target_transform\n",
    "\n",
    "    def __getitem__(self, index):\n",
    "        x = self.images[index]\n",
    "\n",
    "        if self.transform:\n",
    "          x = self.transform(x)\n",
    "\n",
    "        y = self.img_labels[index]\n",
    "        if self.target_transform:\n",
    "          y = self.target_transform(y)\n",
    "\n",
    "        return x.float(), y.float(), index\n",
    "\n",
    "    def __len__(self):\n",
    "        return len(self.img_labels)"
   ]
  },
  {
   "cell_type": "code",
   "execution_count": 9,
   "metadata": {
    "id": "ITjabmw5nikW"
   },
   "outputs": [],
   "source": [
    "#instantiate the dataset\n",
    "train_transform = transforms.Compose([\n",
    "     transforms.ToTensor(),\n",
    "     transforms.Normalize((0.5, 0.5, 0.5), (0.5, 0.5, 0.5))\n",
    "     ])\n",
    "\n",
    "train_data =  CustomTensorDataset(train_images, train_labels, transform=train_transform)\n",
    "val_data = CustomTensorDataset(val_images,val_labels,transform=train_transform)"
   ]
  },
  {
   "cell_type": "code",
   "execution_count": 10,
   "metadata": {
    "colab": {
     "base_uri": "https://localhost:8080/"
    },
    "id": "guIE7EjsnikW",
    "outputId": "041172ab-8375-4fb7-dcac-af0fa7f47c1a"
   },
   "outputs": [
    {
     "name": "stdout",
     "output_type": "stream",
     "text": [
      "Random seed 2021 has been set.\n",
      "GPU is enabled in this notebook.\n"
     ]
    }
   ],
   "source": [
    "#instantiate the dataloaders\n",
    "\n",
    "SEED = 2021\n",
    "set_seed(seed=SEED)\n",
    "DEVICE = set_device()\n",
    "# Create the corresponding DataLoaders for training and test\n",
    "g_seed = torch.Generator()\n",
    "g_seed.manual_seed(SEED)\n",
    "\n",
    "BATCH_SIZE = 128  # number of examples per minibatch\n",
    "\n",
    "train_loader = torch.utils.data.DataLoader(train_data,\n",
    "                                           shuffle=True,\n",
    "                                           batch_size=BATCH_SIZE,\n",
    "                                           num_workers=12,\n",
    "                                           worker_init_fn=seed_worker,\n",
    "                                           generator=g_seed)\n",
    "val_loader = torch.utils.data.DataLoader(val_data,\n",
    "                                         shuffle=True,\n",
    "                                         batch_size=BATCH_SIZE,\n",
    "                                         num_workers=12,\n",
    "                                         worker_init_fn=seed_worker,\n",
    "                                         generator=g_seed)"
   ]
  },
  {
   "cell_type": "markdown",
   "metadata": {},
   "source": [
    "## CNN model for regression"
   ]
  },
  {
   "cell_type": "code",
   "execution_count": 11,
   "metadata": {},
   "outputs": [],
   "source": [
    "# Create a sample network\n",
    "class conv_net(nn.Module):\n",
    "    def __init__(self):\n",
    "        super().__init__()\n",
    "        # First define the layers.\n",
    "        self.conv1 = nn.Conv2d(3, 16, kernel_size=4, stride=1, padding=1)\n",
    "        self.conv2 = nn.Conv2d(16, 32, kernel_size=4, stride=1, padding=1)\n",
    "        self.conv3 = nn.Conv2d(32, 64, kernel_size=4, stride=1, padding=1)\n",
    "#         self.conv4 = nn.Conv2d(64, 64, kernel_size=2, stride=1, padding=1)\n",
    "        self.dropout = nn.Dropout(0.5)\n",
    "        self.fc1 = nn.Linear(7*7*64, 256)\n",
    "        self.fc2 = nn.Linear(256, 1)\n",
    "\n",
    "    def forward(self, x):\n",
    "        # Conv layer 1.\n",
    "        x = self.conv1(x)\n",
    "        x = F.relu(x)\n",
    "        x = F.max_pool2d(x, kernel_size=2)\n",
    "    #     x = self.dropout(x)\n",
    "\n",
    "        # Conv layer 2.\n",
    "        x = self.conv2(x)\n",
    "        x = F.relu(x)\n",
    "        x = F.max_pool2d(x, kernel_size=2)\n",
    "        x = self.dropout(x)\n",
    "\n",
    "        # Conv layer 3.\n",
    "        x = self.conv3(x)\n",
    "        x = F.relu(x)\n",
    "        x = F.max_pool2d(x, kernel_size=2)\n",
    "        x = self.dropout(x)\n",
    "\n",
    "        # Fully connected layer 1.\n",
    "        x = torch.flatten(x,1)  # You have to first flatten the ourput from the\n",
    "                                # previous convolution layer.\n",
    "        x = self.fc1(x)\n",
    "        x = F.relu(x)\n",
    "        x = self.dropout(x)\n",
    "\n",
    "        # Fully connected layer 2.\n",
    "        x = self.fc2(x)\n",
    "        x = x.squeeze()\n",
    "\n",
    "        return x"
   ]
  },
  {
   "cell_type": "code",
   "execution_count": 12,
   "metadata": {},
   "outputs": [],
   "source": [
    "# Create a sample network\n",
    "class conv_net1(nn.Module):\n",
    "    def __init__(self):\n",
    "        super().__init__()\n",
    "        # First define the layers.\n",
    "        self.conv1 = nn.Conv2d(3, 32, kernel_size=4, stride=1, padding=1)\n",
    "        self.conv2 = nn.Conv2d(32, 64, kernel_size=4, stride=1, padding=1)\n",
    "        self.conv3 = nn.Conv2d(64, 64, kernel_size=4, stride=1, padding=1)\n",
    "#         self.conv4 = nn.Conv2d(64, 64, kernel_size=2, stride=1, padding=1)\n",
    "        self.dropout = nn.Dropout(0.5)\n",
    "        self.fc1 = nn.Linear(7*7*64, 256)\n",
    "        self.fc2 = nn.Linear(256, 1)\n",
    "\n",
    "    def forward(self, x):\n",
    "        # Conv layer 1.\n",
    "        x = self.conv1(x)\n",
    "        x = F.relu(x)\n",
    "        x = F.max_pool2d(x, kernel_size=2)\n",
    "    #     x = self.dropout(x)\n",
    "\n",
    "        # Conv layer 2.\n",
    "        x = self.conv2(x)\n",
    "        x = F.relu(x)\n",
    "        x = F.max_pool2d(x, kernel_size=2)\n",
    "        x = self.dropout(x)\n",
    "\n",
    "        # Conv layer 3.\n",
    "        x = self.conv3(x)\n",
    "        x = F.relu(x)\n",
    "        x = F.max_pool2d(x, kernel_size=2)\n",
    "        x = self.dropout(x)\n",
    "\n",
    "        # Fully connected layer 1.\n",
    "        x = torch.flatten(x,1)  # You have to first flatten the ourput from the\n",
    "                                # previous convolution layer.\n",
    "        x = self.fc1(x)\n",
    "        x = F.relu(x)\n",
    "        x = self.dropout(x)\n",
    "\n",
    "        # Fully connected layer 2.\n",
    "        x = self.fc2(x)\n",
    "        x = x.squeeze()\n",
    "\n",
    "        return x"
   ]
  },
  {
   "cell_type": "code",
   "execution_count": 13,
   "metadata": {},
   "outputs": [],
   "source": [
    "# Create a sample network\n",
    "class conv_net2(nn.Module):\n",
    "    def __init__(self):\n",
    "        super().__init__()\n",
    "        # First define the layers.\n",
    "        self.conv1 = nn.Conv2d(3, 32, kernel_size=4, stride=1, padding=1)\n",
    "        self.conv2 = nn.Conv2d(32, 64, kernel_size=3, stride=1, padding=1)\n",
    "        self.conv3 = nn.Conv2d(64, 64, kernel_size=2, stride=1, padding=1)\n",
    "        self.conv4 = nn.Conv2d(64, 64, kernel_size=2, stride=1, padding=1)\n",
    "        self.dropout = nn.Dropout(0.5)\n",
    "        self.fc1 = nn.Linear(4*4*64, 256)\n",
    "        self.fc2 = nn.Linear(256, 1)\n",
    "\n",
    "    def forward(self, x):\n",
    "        # Conv layer 1.\n",
    "        x = self.conv1(x)\n",
    "        x = F.relu(x)\n",
    "        x = F.max_pool2d(x, kernel_size=2)\n",
    "    #     x = self.dropout(x)\n",
    "\n",
    "        # Conv layer 2.\n",
    "        x = self.conv2(x)\n",
    "        x = F.relu(x)\n",
    "        x = F.max_pool2d(x, kernel_size=2)\n",
    "        x = self.dropout(x)\n",
    "\n",
    "        # Conv layer 3.\n",
    "        x = self.conv3(x)\n",
    "        x = F.relu(x)\n",
    "        x = F.max_pool2d(x, kernel_size=2)\n",
    "        x = self.dropout(x)\n",
    "        \n",
    "        # Conv layer 4.\n",
    "        x = self.conv4(x)\n",
    "        x = F.relu(x)\n",
    "        x = F.max_pool2d(x, kernel_size=2)\n",
    "#         x = self.dropout(x)\n",
    "\n",
    "        # Fully connected layer 1.\n",
    "        x = torch.flatten(x,1)  # You have to first flatten the ourput from the\n",
    "                                # previous convolution layer.\n",
    "        x = self.fc1(x)\n",
    "        x = F.relu(x)\n",
    "        x = self.dropout(x)\n",
    "\n",
    "        # Fully connected layer 2.\n",
    "        x = self.fc2(x)\n",
    "        x = x.squeeze()\n",
    "\n",
    "        return x"
   ]
  },
  {
   "cell_type": "markdown",
   "metadata": {},
   "source": [
    "Training and testing functions"
   ]
  },
  {
   "cell_type": "code",
   "execution_count": 14,
   "metadata": {},
   "outputs": [],
   "source": [
    "def calc_error(output,target):\n",
    "    return np.abs(output-target)/target"
   ]
  },
  {
   "cell_type": "code",
   "execution_count": 15,
   "metadata": {
    "id": "TLSyRsMgnikX"
   },
   "outputs": [],
   "source": [
    "#define the train and test loops, and a wrapper that will call them to train and collect validation stats\n",
    "\n",
    "def train(args, model, train_loader, optimizer,\n",
    "          reg_function1=None, reg_function2=None, criterion=F.nll_loss):\n",
    "    \"\"\"\n",
    "    Trains the current inpur model using the data\n",
    "    from Train_loader and Updates parameters for a single pass\n",
    "    \"\"\"\n",
    "    device = args['device']\n",
    "    model.train()\n",
    "    for batch_idx, (data, target, index) in enumerate(train_loader):\n",
    "        data, target = data.to(device), target.to(device)\n",
    "        optimizer.zero_grad()\n",
    "        output = model(data)\n",
    "        if reg_function1 is None:\n",
    "            loss = criterion(output, target)\n",
    "        elif reg_function2 is None:\n",
    "            loss = criterion(output, target)+args['lambda']*reg_function1(model)\n",
    "        else:\n",
    "            loss = criterion(output, target) + args['lambda1']*reg_function1(model) + args['lambda2']*reg_function2(model)\n",
    "        loss.backward()\n",
    "        optimizer.step()\n",
    "\n",
    "    return model\n",
    "\n",
    "\n",
    "def test(model, test_loader, criterion=F.nll_loss, device='cpu'):\n",
    "    \"\"\"\n",
    "    Tests the current Model\n",
    "    \"\"\"\n",
    "    model.eval()\n",
    "    test_loss = 0\n",
    "    perc_error = 0\n",
    "    \n",
    "    with torch.no_grad():\n",
    "        for data, target, index in test_loader:\n",
    "            data, target = data.to(device), target.to(device)\n",
    "            output = model(data)\n",
    "            test_loss += criterion(output, target, reduction='sum').item()  # sum up batch loss\n",
    "            perc_error += np.sum(calc_error(output.cpu().detach().numpy(),target.cpu().detach().numpy()))\n",
    "    test_loss /= len(test_loader.dataset)\n",
    "    perc_error /= len(test_loader.dataset)\n",
    "    return test_loss, perc_error\n",
    "\n",
    "\n",
    "# def main(args, model, train_loader, val_loader,\n",
    "#          reg_function1=None, reg_function2=None):\n",
    "#   \"\"\"\n",
    "#   Trains the model with train_loader and tests the learned model using val_loader\n",
    "#   \"\"\"\n",
    "\n",
    "#   device = args['device']\n",
    "\n",
    "#   model = model.to(device)\n",
    "#   optimizer = optim.SGD(model.parameters(), lr=args['lr'],\n",
    "#                         momentum=args['momentum'])\n",
    "\n",
    "#   val_loss_list, train_loss_list,param_norm_list = [], [], []\n",
    "#   for epoch in tqdm(range(args['epochs'])):\n",
    "#     trained_model = train(args, model, train_loader, optimizer,\n",
    "#                           reg_function1=reg_function1,\n",
    "#                           reg_function2=reg_function2)\n",
    "#     train_loss = test(trained_model, train_loader, device=device)\n",
    "#     val_loss = test(trained_model, val_loader, device=device)\n",
    "#     print(train_loss, val_loss)\n",
    "#     # param_norm = calculate_frobenius_norm(trained_model)\n",
    "#     train_loss_list.append(train_loss)\n",
    "#     val_loss_list.append(val_loss)\n",
    "#     # param_norm_list.append(param_norm)\n",
    "\n",
    "#   return val_acc_list, train_acc_list, trained_model\n",
    "\n",
    "def early_stopping_main(args, model, train_loader, val_loader, criterion, reg_function1=None, reg_function2=None):\n",
    "    device = args['device']\n",
    "    model = model.to(device)\n",
    "    optimizer = optim.SGD(model.parameters(),\n",
    "                        lr=args['lr'],\n",
    "                        momentum=args['momentum'])\n",
    "\n",
    "    best_acc = 10\n",
    "    best_epoch = 0\n",
    "\n",
    "    # Number of successive epochs that you want to wait before stopping training process\n",
    "    patience = 30\n",
    "\n",
    "    # Keps track of number of epochs during which the val_acc was less than best_acc\n",
    "    wait = 0\n",
    "\n",
    "    val_acc_list, train_acc_list, val_error_list, train_error_list = [], [], [], []\n",
    "    for epoch in tqdm(range(args['epochs'])):\n",
    "\n",
    "        # train the model\n",
    "        trained_model = train(args, model, train_loader, optimizer,\n",
    "                              reg_function1=reg_function1,\n",
    "                              reg_function2=reg_function2,\n",
    "                              criterion=criterion)\n",
    "\n",
    "        # calculate training accuracy\n",
    "        train_acc, train_perc_error = test(trained_model, train_loader, criterion=criterion, device=device)\n",
    "\n",
    "        # calculate validation accuracy\n",
    "        val_acc, val_perc_error = test(trained_model, val_loader, criterion=criterion, device=device)\n",
    "\n",
    "        if (val_acc < best_acc):\n",
    "            best_acc = val_acc\n",
    "            best_epoch = epoch\n",
    "            best_model = copy.deepcopy(trained_model)\n",
    "            wait = 0\n",
    "        else:\n",
    "            wait += 1\n",
    "\n",
    "        if (wait > patience):\n",
    "            print(f'early stopped on epoch: {epoch}')\n",
    "            break\n",
    "\n",
    "        train_acc_list.append(train_acc)\n",
    "        val_acc_list.append(val_acc)\n",
    "        train_error_list.append(train_perc_error)\n",
    "        val_error_list.append(val_perc_error)\n",
    "        print(train_acc, val_acc, train_perc_error, val_perc_error)\n",
    "    #save the model\n",
    "    if('checkpoint_path' in args):\n",
    "        torch.save({\n",
    "          'model_state_dict': best_model.state_dict(),\n",
    "          'optimizer_state_dict': optimizer.state_dict()\n",
    "          }, args['checkpoint_path'])\n",
    "\n",
    "    return val_acc_list, train_acc_list, train_error_list, val_error_list, best_model, best_epoch\n"
   ]
  },
  {
   "cell_type": "code",
   "execution_count": 16,
   "metadata": {},
   "outputs": [
    {
     "name": "stdout",
     "output_type": "stream",
     "text": [
      "Random seed 2021 has been set.\n"
     ]
    },
    {
     "data": {
      "application/vnd.jupyter.widget-view+json": {
       "model_id": "fafcee62d71649bd87171e2a66ee2017",
       "version_major": 2,
       "version_minor": 0
      },
      "text/plain": [
       "HBox(children=(FloatProgress(value=0.0, max=300.0), HTML(value='')))"
      ]
     },
     "metadata": {},
     "output_type": "display_data"
    },
    {
     "name": "stderr",
     "output_type": "stream",
     "text": [
      "/home/lilyzhang/anaconda3/lib/python3.7/site-packages/torch/nn/functional.py:718: UserWarning: Named tensors and all their associated APIs are an experimental feature and subject to change. Please do not use them for anything important until they are released as stable. (Triggered internally at  /pytorch/c10/core/TensorImpl.h:1156.)\n",
      "  return torch.max_pool2d(input, kernel_size, stride, padding, dilation, ceil_mode)\n"
     ]
    },
    {
     "name": "stdout",
     "output_type": "stream",
     "text": [
      "1.2085746339416503 1.2073834915161132 0.3299077613449097 0.32988501086235045\n",
      "0.948174790649414 0.9508956337928772 0.2960534546661377 0.2969801028251648\n",
      "1.1376620007324219 1.138973378753662 0.3077760926437378 0.3086437397956848\n",
      "0.982104292755127 0.9854531736373902 0.2911796206665039 0.2920900971412659\n",
      "0.9401253033447265 0.9455495908737183 0.2837917782211304 0.28488826704025266\n",
      "0.9667637796020507 0.9722301460266113 0.28214659004211423 0.2831921904563904\n",
      "0.980397642364502 0.9860257042884827 0.2767460822296143 0.2773258180618286\n",
      "1.0425117083740234 1.0466094486236572 0.27890209899902346 0.2790424852371216\n",
      "1.0861432382202147 1.0868004276275636 0.29249815536499024 0.29166744465827943\n",
      "1.1611281010437011 1.1616643535614013 0.3104096104431152 0.309343825340271\n",
      "0.980186996459961 0.9821519508361817 0.28296513481140134 0.2819426475048065\n",
      "1.1441702243041991 1.1428647629737854 0.31134495162963866 0.3097116941452026\n",
      "1.3723192120361327 1.372175366783142 0.34875571090698243 0.34772087354660036\n",
      "1.2379771939086914 1.2381489297866821 0.3262911877441406 0.32525439410209656\n",
      "1.158857374420166 1.1580377975463867 0.31237356163024904 0.3109609632492065\n",
      "1.155590851287842 1.1544800971984863 0.3114472441482544 0.3098214818954468\n",
      "1.0902839213562012 1.090534893989563 0.2957462208557129 0.2941789482831955\n",
      "1.1243985823059082 1.126254349708557 0.2998437759399414 0.2987550943374634\n",
      "1.1639474978637696 1.1649599054336548 0.3049710682678223 0.30349323396682737\n",
      "1.024065565032959 1.0235106922149657 0.2798891759490967 0.27805667448043825\n",
      "1.5012546298217773 1.498517018890381 0.35075035591125486 0.3486954830169678\n",
      "1.1208832643127442 1.122051912498474 0.2955015259552002 0.29391125960350034\n",
      "1.2851498539733888 1.2859542585372925 0.31822468521118163 0.3163908308982849\n",
      "1.0847154081726074 1.0855687963485718 0.2875039934539795 0.2857930241584778\n",
      "1.1245504962158204 1.125175972366333 0.293793158531189 0.2917934146881104\n",
      "1.456523271179199 1.4528155223846435 0.33838294715881345 0.3356706133842468\n",
      "1.1625148855590821 1.1619273111343384 0.3010804288482666 0.2990106601715088\n",
      "1.4255146501159668 1.4213497825622559 0.3391511771392822 0.33677818670272824\n",
      "1.4877218048095704 1.484687615776062 0.3483015417098999 0.34627815294265746\n",
      "1.4517934672546386 1.4498233533859253 0.34231555366516114 0.33970722274780274\n",
      "1.4264475924682618 1.4237956100463867 0.34201565612792967 0.3397523265838623\n",
      "1.2195786878967285 1.2186686031341554 0.31474141944885253 0.3124508085727692\n",
      "1.1040239738464355 1.102921502304077 0.2979112438201904 0.29558757548332215\n",
      "1.533615838317871 1.5297003440856933 0.36081218490600586 0.35853654451370237\n",
      "1.3811027241516114 1.3788997628211974 0.3422838940811157 0.3403101438522339\n",
      "early stopped on epoch: 35\n",
      "\n",
      "Time to memorize the dataset: 936.4900116920471\n"
     ]
    },
    {
     "data": {
      "image/png": "[encoded data removed]",
      "text/plain": [
       "<Figure size 576x432 with 1 Axes>"
      ]
     },
     "metadata": {
      "needs_background": "light"
     },
     "output_type": "display_data"
    },
    {
     "data": {
      "image/png": "[encoded data removed]",
      "text/plain": [
       "<Figure size 576x432 with 1 Axes>"
      ]
     },
     "metadata": {
      "needs_background": "light"
     },
     "output_type": "display_data"
    }
   ],
   "source": [
    "#set the hyper parameters, run the training and plot results\n",
    "# Set the arguments\n",
    "args = {\n",
    "    'epochs': 300,\n",
    "    'lr': 0.001,\n",
    "    'momentum': 0.8,\n",
    "    'device': DEVICE,\n",
    "    'checkpoint_path':'/mnt/Data/Neuromatch/metamorphs/models/cnn_reg_objcount_lr0.01_mmt0.8.pt'\n",
    "}\n",
    "\n",
    "\n",
    "# Initialize the network\n",
    "set_seed(seed=SEED)\n",
    "model = conv_net2()\n",
    "\n",
    "start_time = time.time()\n",
    "# Train the network\n",
    "val_loss_pure, train_loss_pure, train_error_list, val_error_list, model, best_epoch= early_stopping_main(args=args,\n",
    "                                                            model=model,\n",
    "                                                            train_loader=train_loader,\n",
    "                                                            val_loader=val_loader,\n",
    "                                                            criterion=F.mse_loss)\n",
    "end_time = time.time()\n",
    "\n",
    "print(f\"Time to memorize the dataset: {end_time - start_time}\")\n",
    "\n",
    "# Train and Test accuracy plot\n",
    "plt.figure(figsize=(8, 6))\n",
    "plt.plot(val_loss_pure, label='Val Loss Pure', c='red', ls='dashed')\n",
    "plt.plot(train_loss_pure, label='Train Loss Pure', c='red', ls='solid')\n",
    "plt.axhline(y=min(val_loss_pure), c='green', ls='dashed',\n",
    "            label='min Val loss pure')\n",
    "plt.title('Object Area Regression')\n",
    "plt.ylabel('Loss')\n",
    "plt.xlabel('Epoch')\n",
    "plt.legend()\n",
    "plt.show()\n",
    "\n",
    "# Train and Test accuracy plot\n",
    "plt.figure(figsize=(8, 6))\n",
    "plt.plot(val_error_list, label='Val Percent Error', c='red', ls='dashed')\n",
    "plt.plot(train_error_list, label='Train Percent Error', c='red', ls='solid')\n",
    "plt.axhline(y=min(val_error_list), c='green', ls='dashed',\n",
    "            label='min Val percent error')\n",
    "plt.title('Object Area Regression')\n",
    "plt.ylabel('Percent error')\n",
    "plt.xlabel('Epoch')\n",
    "plt.legend()\n",
    "plt.show()"
   ]
  },
  {
   "cell_type": "markdown",
   "metadata": {},
   "source": [
    "## Analyze trained models"
   ]
  },
  {
   "cell_type": "code",
   "execution_count": 16,
   "metadata": {},
   "outputs": [],
   "source": [
    "model_path = Path(base_path).joinpath('models/')\n",
    "model1_path = Path(model_path).joinpath('cnn_reg_objarea_lr0.005_mmt0.8.pt')\n",
    "model2_path = Path(model_path).joinpath('cnn2_reg_objarea_lr0.01_mmt0.8.pt')\n",
    "model3_path = Path(model_path).joinpath('cnn3_reg_objarea_lr0.01_mmt0.8.pt')\n",
    "model4_path = Path(model_path).joinpath('cnn3_reg_imgarea_lr0.01_mmt0.8.pt')\n",
    "model5_path = Path(model_path).joinpath('cnn_reg_objcount_lr0.001_mmt0.8.pt')"
   ]
  },
  {
   "cell_type": "code",
   "execution_count": 33,
   "metadata": {},
   "outputs": [
    {
     "data": {
      "text/plain": [
       "<All keys matched successfully>"
      ]
     },
     "execution_count": 33,
     "metadata": {},
     "output_type": "execute_result"
    }
   ],
   "source": [
    "model1 = conv_net()\n",
    "model_state_dict = torch.load(model5_path)['model_state_dict']\n",
    "model1.load_state_dict(model_state_dict)"
   ]
  },
  {
   "cell_type": "code",
   "execution_count": 18,
   "metadata": {},
   "outputs": [],
   "source": [
    "val_loader = torch.utils.data.DataLoader(val_data,\n",
    "                                         shuffle=True,\n",
    "                                         batch_size=200,\n",
    "                                         num_workers=12,\n",
    "                                         worker_init_fn=seed_worker,\n",
    "                                         generator=g_seed)"
   ]
  },
  {
   "cell_type": "code",
   "execution_count": 22,
   "metadata": {},
   "outputs": [],
   "source": [
    "data,target,index = next(iter(val_loader))\n",
    "# data,target = data.to(DEVICE),target.to(DEVICE)"
   ]
  },
  {
   "cell_type": "code",
   "execution_count": 23,
   "metadata": {},
   "outputs": [],
   "source": [
    "output = model1(data)"
   ]
  },
  {
   "cell_type": "code",
   "execution_count": 24,
   "metadata": {},
   "outputs": [
    {
     "data": {
      "text/plain": [
       "Text(0, 0.5, 'predicted object area')"
      ]
     },
     "execution_count": 24,
     "metadata": {},
     "output_type": "execute_result"
    },
    {
     "data": {
      "image/png": "[encoded data removed]",
      "text/plain": [
       "<Figure size 432x288 with 1 Axes>"
      ]
     },
     "metadata": {
      "needs_background": "light"
     },
     "output_type": "display_data"
    }
   ],
   "source": [
    "plt.scatter(target.cpu().detach().numpy(),output.cpu().detach().numpy())\n",
    "plt.plot(np.linspace(0,0.25,10),np.linspace(0,0.25,10))\n",
    "plt.xlabel('target object area')\n",
    "plt.ylabel('predicted object area')"
   ]
  },
  {
   "cell_type": "code",
   "execution_count": 25,
   "metadata": {},
   "outputs": [],
   "source": [
    "perc_occluded = val_imgarea/val_labels.numpy()"
   ]
  },
  {
   "cell_type": "code",
   "execution_count": 27,
   "metadata": {},
   "outputs": [
    {
     "data": {
      "text/plain": [
       "Text(0, 0.5, 'Percent error of area estimation')"
      ]
     },
     "execution_count": 27,
     "metadata": {},
     "output_type": "execute_result"
    },
    {
     "data": {
      "image/png": "[encoded data removed]",
      "text/plain": [
       "<Figure size 432x288 with 1 Axes>"
      ]
     },
     "metadata": {
      "needs_background": "light"
     },
     "output_type": "display_data"
    }
   ],
   "source": [
    "plt.scatter(perc_occluded[index], calc_error(target.cpu().detach().numpy(),output.cpu().detach().numpy()))\n",
    "# plt.plot(np.linspace(0,0.25,10),np.linspace(0,0.25,10))\n",
    "plt.ylim(-0.1,1)\n",
    "plt.xlabel('Percent area visible')\n",
    "plt.ylabel('Percent error of area estimation')"
   ]
  },
  {
   "cell_type": "code",
   "execution_count": 29,
   "metadata": {},
   "outputs": [
    {
     "data": {
      "text/plain": [
       "Text(0, 0.5, 'Predicted area - target area')"
      ]
     },
     "execution_count": 29,
     "metadata": {},
     "output_type": "execute_result"
    },
    {
     "data": {
      "image/png": "[encoded data removed]",
      "text/plain": [
       "<Figure size 432x288 with 1 Axes>"
      ]
     },
     "metadata": {
      "needs_background": "light"
     },
     "output_type": "display_data"
    }
   ],
   "source": [
    "plt.scatter(perc_occluded[index],output.cpu().detach().numpy()- target.cpu().detach().numpy())\n",
    "plt.plot(np.linspace(0.5,1,10),np.zeros(10))\n",
    "# plt.ylim(-0.1,1)\n",
    "plt.xlabel('Percent area visible')\n",
    "plt.ylabel('Predicted area - target area')"
   ]
  },
  {
   "cell_type": "code",
   "execution_count": 29,
   "metadata": {},
   "outputs": [
    {
     "data": {
      "text/plain": [
       "[<matplotlib.lines.Line2D at 0x7f2061eca250>]"
      ]
     },
     "execution_count": 29,
     "metadata": {},
     "output_type": "execute_result"
    },
    {
     "data": {
      "image/png": "[encoded data removed]",
      "text/plain": [
       "<Figure size 432x288 with 1 Axes>"
      ]
     },
     "metadata": {
      "needs_background": "light"
     },
     "output_type": "display_data"
    }
   ],
   "source": [
    "plt.scatter(target.cpu().detach().numpy(), output.cpu().detach().numpy()- target.cpu().detach().numpy())\n",
    "plt.plot(np.linspace(0,0.25,10),np.zeros(10))\n",
    "# plt.ylim(-0.1,1)"
   ]
  },
  {
   "cell_type": "code",
   "execution_count": 30,
   "metadata": {},
   "outputs": [
    {
     "data": {
      "text/plain": [
       "0.18312347"
      ]
     },
     "execution_count": 30,
     "metadata": {},
     "output_type": "execute_result"
    }
   ],
   "source": [
    "np.mean(calc_error(target.cpu().detach().numpy(),output.cpu().detach().numpy()))"
   ]
  },
  {
   "cell_type": "code",
   "execution_count": 31,
   "metadata": {},
   "outputs": [
    {
     "data": {
      "image/png": "[encoded data removed]",
      "text/plain": [
       "<Figure size 576x576 with 32 Axes>"
      ]
     },
     "metadata": {
      "needs_background": "light"
     },
     "output_type": "display_data"
    }
   ],
   "source": [
    "with torch.no_grad():\n",
    "    conv1_weights = model_state_dict['conv1.weight']\n",
    "    fig, axs = plt.subplots(4, 8, figsize=(8, 8))\n",
    "    filters = []\n",
    "    for filter_index in range(conv1_weights.shape[0]):\n",
    "        row_index = filter_index // 8\n",
    "        col_index = filter_index % 8\n",
    "        \n",
    "#         idx = np.random.choice(conv1_weights.shape[1],3)\n",
    "#         print(idx)\n",
    "        filter = conv1_weights[filter_index,:,:,:]\n",
    "        filter_image = filter.permute(1, 2, 0).cpu()\n",
    "        scale = np.abs(filter_image).max()\n",
    "        scaled_image = filter_image / (2 * scale) + 0.5\n",
    "        filters.append(scaled_image.cpu())\n",
    "        axs[row_index, col_index].imshow(scaled_image.cpu())\n",
    "        axs[row_index, col_index].axis('off')\n",
    "    plt.show()"
   ]
  },
  {
   "cell_type": "code",
   "execution_count": null,
   "metadata": {},
   "outputs": [],
   "source": []
  }
 ],
 "metadata": {
  "kernelspec": {
   "display_name": "Python 3",
   "language": "python",
   "name": "python3"
  },
  "language_info": {
   "codemirror_mode": {
    "name": "ipython",
    "version": 3
   },
   "file_extension": ".py",
   "mimetype": "text/x-python",
   "name": "python",
   "nbconvert_exporter": "python",
   "pygments_lexer": "ipython3",
   "version": "3.7.7"
  }
 },
 "nbformat": 4,
 "nbformat_minor": 4
}
