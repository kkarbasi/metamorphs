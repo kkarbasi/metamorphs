{
 "cells": [
  {
   "cell_type": "code",
   "execution_count": 1,
   "metadata": {
    "colab": {
     "base_uri": "https://localhost:8080/"
    },
    "id": "6g1j2nzJnikP",
    "outputId": "384b8412-2873-4753-f26a-a89959dded35"
   },
   "outputs": [],
   "source": [
    "#imports\n",
    "try:\n",
    "    from google.colab import drive\n",
    "    #mount drive, set base path\n",
    "    drive.mount(\"/gdrive\")\n",
    "    base_path = '/gdrive/MyDrive/nma_dl_metamorphs/data/multi_dsprites'\n",
    "except:\n",
    "    base_path = './'\n",
    "from pathlib import Path\n",
    "import matplotlib.pyplot as plt\n",
    "import random\n",
    "from random import randint, choice\n",
    "\n",
    "import time\n",
    "\n",
    "import torch\n",
    "import torch.optim as optim\n",
    "import torch.nn.functional as F\n",
    "import torch.nn as nn\n",
    "from torchvision import transforms\n",
    "\n",
    "from tqdm.auto import tqdm\n",
    "import numpy as np\n",
    "from PIL import Image\n",
    "\n",
    "import copy\n"
   ]
  },
  {
   "cell_type": "code",
   "execution_count": 2,
   "metadata": {},
   "outputs": [
    {
     "data": {
      "text/plain": [
       "True"
      ]
     },
     "execution_count": 2,
     "metadata": {},
     "output_type": "execute_result"
    }
   ],
   "source": [
    "torch.cuda.is_available()"
   ]
  },
  {
   "cell_type": "code",
   "execution_count": 3,
   "metadata": {
    "id": "v0FXC_m1nikS"
   },
   "outputs": [],
   "source": [
    "#dataset paths\n",
    "#set these paths and file names depending on where you are and which labels you are using\n",
    "#Maximum categories to bin the data\n",
    "MAXCATEGORIES = 10\n",
    "MAXROSCATEGORIES = 6\n",
    "train_images_prefix = 'training_images'\n",
    "val_images_prefix = 'validation_images'\n",
    "test_images_prefix = 'test_images'\n",
    "\n",
    "\n",
    "\n",
    "train_obj_prefix = 'training_objareas'\n",
    "val_obj_prefix = 'validation_objareas'\n",
    "test_obj_prefix = 'test_objareas'\n",
    "train_img_prefix = 'training_imgareas'\n",
    "val_img_prefix = 'validation_imgareas'\n",
    "test_img_prefix = 'test_imgareas'\n",
    "\n",
    "suffix = '_rand4_unique.npy'\n",
    "catstr = f'_cat{MAXCATEGORIES}'\n",
    "rosstr = f'_ros{MAXROSCATEGORIES}'\n",
    "\n",
    "\n",
    "data_path = Path(base_path).joinpath('processed/')\n",
    "\n",
    "train_images_path = Path(data_path).joinpath(train_images_prefix + suffix)\n",
    "train_labels_path = Path(data_path).joinpath(train_obj_prefix + catstr + suffix)\n",
    "\n",
    "val_images_path = Path(data_path).joinpath(val_images_prefix + suffix)\n",
    "val_labels_path = Path(data_path).joinpath(val_obj_prefix + catstr + suffix)"
   ]
  },
  {
   "cell_type": "code",
   "execution_count": 4,
   "metadata": {
    "id": "4UTTBcBMnikT"
   },
   "outputs": [],
   "source": [
    "#load the numpy dataset files\n",
    "train_images = np.load(train_images_path)\n",
    "train_labels = np.load(train_labels_path).astype(int)\n",
    "val_images = np.load(val_images_path)\n",
    "val_labels = np.load(val_labels_path).astype(int)\n"
   ]
  },
  {
   "cell_type": "code",
   "execution_count": 5,
   "metadata": {},
   "outputs": [
    {
     "data": {
      "text/plain": [
       "9949"
      ]
     },
     "execution_count": 5,
     "metadata": {},
     "output_type": "execute_result"
    }
   ],
   "source": [
    "np.sum(train_labels==0)"
   ]
  },
  {
   "cell_type": "code",
   "execution_count": 6,
   "metadata": {
    "colab": {
     "base_uri": "https://localhost:8080/"
    },
    "id": "_WBZMmPtnikT",
    "outputId": "17d24dc1-1b04-4040-b114-d6775606eae6"
   },
   "outputs": [
    {
     "name": "stdout",
     "output_type": "stream",
     "text": [
      "[3 0 6 ... 1 0 2] [3 5 3 ... 3 2 1]\n"
     ]
    }
   ],
   "source": [
    "# change labels so that they start at 0\n",
    "# TODO this is only valid for counts - so we need a flag for this or change the generator or dataloader appropriately\n",
    "#train_labels = (train_labels-1)\n",
    "#val_labels = (val_labels-1)\n",
    "print(train_labels, val_labels)"
   ]
  },
  {
   "cell_type": "code",
   "execution_count": 7,
   "metadata": {
    "colab": {
     "base_uri": "https://localhost:8080/",
     "height": 298
    },
    "id": "kIu5E5N3nikU",
    "outputId": "94fa9762-c712-45bc-fa3f-37696264eb6e"
   },
   "outputs": [
    {
     "data": {
      "text/plain": [
       "Text(0.5, 1.0, 'count: 1')"
      ]
     },
     "execution_count": 7,
     "metadata": {},
     "output_type": "execute_result"
    },
    {
     "data": {
      "image/png": "[encoded data removed]",
      "text/plain": [
       "<Figure size 432x288 with 1 Axes>"
      ]
     },
     "metadata": {
      "needs_background": "light"
     },
     "output_type": "display_data"
    }
   ],
   "source": [
    "#examine data\n",
    "idx = np.random.randint(0, train_images.shape[0])\n",
    "plt.imshow(train_images[idx])\n",
    "plt.title('count: ' + str(train_labels[idx]+1))"
   ]
  },
  {
   "cell_type": "code",
   "execution_count": 25,
   "metadata": {
    "id": "zocXzzDDnikU"
   },
   "outputs": [],
   "source": [
    "#utility functions for:\n",
    "# setting the seed\n",
    "# ensuring randomness of worker in data loader (overkill?)\n",
    "# setting the device based on GPU availability\n",
    "\n",
    "def set_seed(seed=None, seed_torch=True):\n",
    "  if seed is None:\n",
    "    seed = np.random.choice(2 ** 32)\n",
    "  random.seed(seed)\n",
    "  np.random.seed(seed)\n",
    "  if seed_torch:\n",
    "    torch.manual_seed(seed)\n",
    "    torch.cuda.manual_seed_all(seed)\n",
    "    torch.cuda.manual_seed(seed)\n",
    "    torch.backends.cudnn.benchmark = False\n",
    "    torch.backends.cudnn.deterministic = True\n",
    "\n",
    "  print(f'Random seed {seed} has been set.')\n",
    "\n",
    "\n",
    "# In case that `DataLoader` is used\n",
    "def seed_worker(worker_id):\n",
    "  worker_seed = torch.initial_seed() % 2**32\n",
    "  np.random.seed(worker_seed)\n",
    "  random.seed(worker_seed)\n",
    "\n",
    "# @title Set device (GPU or CPU). Execute `set_device()`\n",
    "# especially if torch modules used.\n",
    "\n",
    "# inform the user if the notebook uses GPU or CPU.\n",
    "\n",
    "def set_device():\n",
    "  device = \"cuda:0\" if torch.cuda.is_available() else \"cpu\"\n",
    "  if device != \"cuda:0\":\n",
    "    print(\"WARNING: For this notebook to perform best, \"\n",
    "        \"if possible, in the menu under `Runtime` -> \"\n",
    "        \"`Change runtime type.`  select `GPU` \")\n",
    "  else:\n",
    "    print(\"GPU is enabled in this notebook.\")\n",
    "\n",
    "  return device"
   ]
  },
  {
   "cell_type": "code",
   "execution_count": 9,
   "metadata": {
    "id": "aBzhZSDBnikV"
   },
   "outputs": [],
   "source": [
    "#define the dataset class for our data for use by the dataloader\n",
    "class CustomTensorDataset(torch.utils.data.Dataset):\n",
    "    \"\"\"TensorDataset with support of transforms.\n",
    "    \"\"\"\n",
    "    def __init__(self, images, labels, transform=None, target_transform=None):\n",
    "        # assert all(tensors[0].size[0] == tensor.size[0] for tensor in tensors)\n",
    "        self.images = images\n",
    "        self.img_labels = labels\n",
    "        self.transform = transform\n",
    "        self.target_transform = target_transform\n",
    "\n",
    "    def __getitem__(self, index):\n",
    "        x = self.images[index]\n",
    "\n",
    "        if self.transform:\n",
    "          x = self.transform(x)\n",
    "\n",
    "        y = self.img_labels[index]\n",
    "        if self.target_transform:\n",
    "          y = self.target_transform(y)\n",
    "\n",
    "        return x, y\n",
    "\n",
    "    def __len__(self):\n",
    "        return len(self.img_labels)"
   ]
  },
  {
   "cell_type": "code",
   "execution_count": 10,
   "metadata": {
    "id": "ITjabmw5nikW"
   },
   "outputs": [],
   "source": [
    "#instantiate the dataset\n",
    "train_transform = transforms.Compose([\n",
    "     transforms.ToTensor(),\n",
    "     transforms.Normalize((0.5, 0.5, 0.5), (0.5, 0.5, 0.5))\n",
    "     ])\n",
    "\n",
    "train_data =  CustomTensorDataset(train_images, train_labels, transform=train_transform)\n",
    "val_data = CustomTensorDataset(val_images,val_labels,transform=train_transform)"
   ]
  },
  {
   "cell_type": "code",
   "execution_count": 11,
   "metadata": {
    "colab": {
     "base_uri": "https://localhost:8080/"
    },
    "id": "guIE7EjsnikW",
    "outputId": "041172ab-8375-4fb7-dcac-af0fa7f47c1a"
   },
   "outputs": [
    {
     "name": "stdout",
     "output_type": "stream",
     "text": [
      "Random seed 2021 has been set.\n",
      "GPU is enabled in this notebook.\n"
     ]
    }
   ],
   "source": [
    "#instantiate the dataloaders\n",
    "\n",
    "SEED = 2021\n",
    "set_seed(seed=SEED)\n",
    "DEVICE = set_device()\n",
    "# Create the corresponding DataLoaders for training and test\n",
    "g_seed = torch.Generator()\n",
    "g_seed.manual_seed(SEED)\n",
    "\n",
    "BATCH_SIZE = 128  # number of examples per minibatch\n",
    "\n",
    "train_loader = torch.utils.data.DataLoader(train_data,\n",
    "                                           shuffle=True,\n",
    "                                           batch_size=BATCH_SIZE,\n",
    "                                           num_workers=12,\n",
    "                                           worker_init_fn=seed_worker,\n",
    "                                           generator=g_seed)\n",
    "val_loader = torch.utils.data.DataLoader(val_data,\n",
    "                                         shuffle=True,\n",
    "                                         batch_size=BATCH_SIZE,\n",
    "                                         num_workers=12,\n",
    "                                         worker_init_fn=seed_worker,\n",
    "                                         generator=g_seed)"
   ]
  },
  {
   "cell_type": "code",
   "execution_count": 24,
   "metadata": {
    "id": "TLSyRsMgnikX"
   },
   "outputs": [],
   "source": [
    "#define the train and test loops, and a wrapper that will call them to train and collect validation stats\n",
    "def calc_error(output,target):\n",
    "    return np.abs(output-target)/target\n",
    "\n",
    "def train(args, model, train_loader, optimizer,\n",
    "          reg_function1=None, reg_function2=None, criterion=F.nll_loss):\n",
    "  \"\"\"\n",
    "  Trains the current inpur model using the data\n",
    "  from Train_loader and Updates parameters for a single pass\n",
    "  \"\"\"\n",
    "  device = args['device']\n",
    "  model.train()\n",
    "  for batch_idx, (data, target) in enumerate(train_loader):\n",
    "    data, target = data.to(device), target.to(device)\n",
    "    optimizer.zero_grad()\n",
    "    output = model(data)\n",
    "    if reg_function1 is None:\n",
    "      loss = criterion(output, target)\n",
    "    elif reg_function2 is None:\n",
    "      loss = criterion(output, target)+args['lambda']*reg_function1(model)\n",
    "    else:\n",
    "      loss = criterion(output, target) + args['lambda1']*reg_function1(model) + args['lambda2']*reg_function2(model)\n",
    "    loss.backward()\n",
    "    optimizer.step()\n",
    "\n",
    "  return model\n",
    "\n",
    "\n",
    "def test(model, test_loader, criterion=F.nll_loss, device='cpu'):\n",
    "  \"\"\"\n",
    "  Tests the current Model\n",
    "  \"\"\"\n",
    "  model.eval()\n",
    "  test_loss = 0\n",
    "  correct = 0\n",
    "  with torch.no_grad():\n",
    "    for data, target in test_loader:\n",
    "      data, target = data.to(device), target.to(device)\n",
    "      output = model(data)\n",
    "      test_loss += criterion(output, target, reduction='sum').item()  # sum up batch loss\n",
    "      pred = output.argmax(dim=1, keepdim=True)  # get the index of the max log-probability\n",
    "      correct += pred.eq(target.view_as(pred)).sum().item()\n",
    "\n",
    "  test_loss /= len(test_loader.dataset)\n",
    "  return test_loss, 100. * correct / len(test_loader.dataset)\n",
    "\n",
    "\n",
    "\n",
    "def main(args, model, train_loader, val_loader,\n",
    "         criterion=F.nll_loss, reg_function1=None, reg_function2=None):\n",
    "  \"\"\"\n",
    "  Trains the model with train_loader and tests the learned model using val_loader\n",
    "  \"\"\"\n",
    "\n",
    "  device = args['device']\n",
    "\n",
    "  model = model.to(device)\n",
    "  optimizer = optim.SGD(model.parameters(), lr=args['lr'],\n",
    "                        momentum=args['momentum'])\n",
    "\n",
    "  val_acc_list, train_acc_list, val_loss_list, train_lost_list = [], [], [], []\n",
    "  for epoch in tqdm(range(args['epochs'])):\n",
    "    trained_model = train(args, model, train_loader, optimizer,\n",
    "                          reg_function1=reg_function1,\n",
    "                          reg_function2=reg_function2)\n",
    "    train_loss, train_acc = test(trained_model, train_loader, device=device)\n",
    "    val_loss, val_acc = test(trained_model, val_loader, device=device)\n",
    "    print(train_acc, val_acc)\n",
    "    # param_norm = calculate_frobenius_norm(trained_model)\n",
    "    train_acc_list.append(train_acc)\n",
    "    val_acc_list.append(val_acc)\n",
    "    train_loss_list.append(train_loss)\n",
    "    val_loss_list.append(val_loss)\n",
    "    # param_norm_list.append(param_norm)\n",
    "\n",
    "  return val_acc_list, train_acc_list, trained_model\n",
    "\n",
    "def early_stopping_main(args, model, train_loader, val_loader, criterion=F.nll_loss, reg_function1=None, reg_function2=None):\n",
    "  device = args['device']\n",
    "  model = model.to(device)\n",
    "  #optimizer = optim.RMSprop(model.parameters(),\n",
    "  #                      lr=args['lr'],\n",
    "  #                      momentum=args['momentum'])\n",
    "  optimizer = optim.SGD(model.parameters(), lr=args['lr'],\n",
    "                        momentum=args['momentum'])\n",
    "  best_acc = 0.0\n",
    "  best_epoch = 0\n",
    "\n",
    "  # Number of successive epochs that you want to wait before stopping training process\n",
    "  patience = 300\n",
    "\n",
    "  # Keps track of number of epochs during which the val_acc was less than best_acc\n",
    "  wait = 0\n",
    "\n",
    "  val_acc_list, train_acc_list, val_loss_list, train_loss_list = [], [], [], []\n",
    "\n",
    "  for epoch in tqdm(range(args['epochs'])):\n",
    "\n",
    "    # train the model\n",
    "    trained_model = train(args, model, train_loader, optimizer,\n",
    "                          reg_function1=reg_function1,\n",
    "                          reg_function2=reg_function2)\n",
    "\n",
    "    # calculate training accuracy\n",
    "    train_loss, train_acc = test(trained_model, train_loader, device=device)\n",
    "\n",
    "    # calculate validation accuracy\n",
    "    val_loss, val_acc = test(trained_model, val_loader, device=device)\n",
    "\n",
    "    if (val_acc > best_acc):\n",
    "      best_acc = val_acc\n",
    "      best_epoch = epoch\n",
    "      best_model = copy.deepcopy(trained_model)\n",
    "      wait = 0\n",
    "    else:\n",
    "      wait += 1\n",
    "\n",
    "    if (wait > patience):\n",
    "      print(f'early stopped on epoch: {epoch}')\n",
    "      break\n",
    "    \n",
    "    if(epoch % 10 == 0):\n",
    "        print(f'Epoch {epoch}, train acc {train_acc}, val acc {val_acc}, {train_loss}, {val_loss}')\n",
    "    train_acc_list.append(train_acc)\n",
    "    val_acc_list.append(val_acc)\n",
    "    train_loss_list.append(train_loss)\n",
    "    val_loss_list.append(val_loss)\n",
    "  #save the model\n",
    "  if('checkpoint_path' in args):\n",
    "    torch.save({\n",
    "        'model_state_dict': best_model.state_dict(),\n",
    "        'optimizer_state_dict': optimizer.state_dict()\n",
    "        }, args['checkpoint_path'])\n",
    "    \n",
    "  return val_acc_list, train_acc_list, val_loss_list, train_loss_list, best_model, best_epoch"
   ]
  },
  {
   "cell_type": "code",
   "execution_count": 13,
   "metadata": {
    "id": "dj3DtAgcFsVb"
   },
   "outputs": [],
   "source": [
    "# Regularization functions\n",
    "def l1_reg(model):\n",
    "  \"\"\"\n",
    "    Inputs: Pytorch model\n",
    "    This function calculates the l1 norm of the all the tensors in the model\n",
    "  \"\"\"\n",
    "  l1 = 0.0\n",
    "  for param in model.parameters():\n",
    "    l1 += torch.sum(torch.abs(param))\n",
    "\n",
    "  return l1\n",
    "\n",
    "def l2_reg(model):\n",
    "  \"\"\"\n",
    "    Inputs: Pytorch model\n",
    "    This function calculates the l1 norm of the all the tensors in the model\n",
    "  \"\"\"\n",
    "  l2 = 0.0\n",
    "  for param in model.parameters():\n",
    "    l2 += torch.sum(param**2)\n",
    "\n",
    "  return l2"
   ]
  },
  {
   "cell_type": "code",
   "execution_count": 14,
   "metadata": {
    "id": "050ED1y-nikY"
   },
   "outputs": [],
   "source": [
    "#define the MLP model\n",
    "class AnimalNet(nn.Module):\n",
    "  def __init__(self):\n",
    "    super(AnimalNet, self).__init__()\n",
    "    self.fc1 = nn.Linear(3 * 64 * 64, 128)\n",
    "    self.fc2 = nn.Linear(128, 32)\n",
    "    self.fc3 = nn.Linear(32, 4)\n",
    "\n",
    "  def forward(self, x):\n",
    "    x = x.view(x.shape[0],-1)\n",
    "    x = F.relu(self.fc1(x))\n",
    "    x = F.relu(self.fc2(x))\n",
    "    x = self.fc3(x)\n",
    "    output = F.log_softmax(x, dim=1)\n",
    "    return output"
   ]
  },
  {
   "cell_type": "markdown",
   "metadata": {
    "id": "Uhq7v6CE6gvF"
   },
   "source": [
    "CNN model"
   ]
  },
  {
   "cell_type": "code",
   "execution_count": 15,
   "metadata": {
    "id": "wNJVgkRy5kWl"
   },
   "outputs": [],
   "source": [
    "# Create a sample network\n",
    "class conv_net(nn.Module):\n",
    "  def __init__(self):\n",
    "    super().__init__()\n",
    "    # First define the layers.\n",
    "    self.conv1 = nn.Conv2d(3, 16, kernel_size=4, stride=1, padding=1)\n",
    "    self.conv2 = nn.Conv2d(16, 32, kernel_size=4, stride=1, padding=1)\n",
    "    self.conv3 = nn.Conv2d(32, 64, kernel_size=4, stride=1, padding=1)\n",
    "    self.dropout = nn.Dropout(0.5)\n",
    "    self.fc1 = nn.Linear(7*7*64, 256)\n",
    "    self.fc2 = nn.Linear(256, 4)\n",
    "\n",
    "  def forward(self, x):\n",
    "    # Conv layer 1.\n",
    "    x = self.conv1(x)\n",
    "    x = F.relu(x)\n",
    "    x = F.max_pool2d(x, kernel_size=2)\n",
    "#     x = self.dropout(x)\n",
    "\n",
    "    # Conv layer 2.\n",
    "    x = self.conv2(x)\n",
    "    x = F.relu(x)\n",
    "    x = F.max_pool2d(x, kernel_size=2)\n",
    "    x = self.dropout(x)\n",
    "    \n",
    "    # Conv layer 3.\n",
    "    x = self.conv3(x)\n",
    "    x = F.relu(x)\n",
    "    x = F.max_pool2d(x, kernel_size=2)\n",
    "    x = self.dropout(x)\n",
    "\n",
    "    # Fully connected layer 1.\n",
    "    x = torch.flatten(x,1)  # You have to first flatten the ourput from the\n",
    "                            # previous convolution layer.\n",
    "    x = self.fc1(x)\n",
    "    x = F.relu(x)\n",
    "    x = self.dropout(x)\n",
    "\n",
    "    # Fully connected layer 2.\n",
    "    x = self.fc2(x)\n",
    "    x = F.log_softmax(x,dim=1)\n",
    "\n",
    "    return x"
   ]
  },
  {
   "cell_type": "code",
   "execution_count": 16,
   "metadata": {},
   "outputs": [],
   "source": [
    "# Create a sample network\n",
    "class conv_net1(nn.Module):\n",
    "  def __init__(self):\n",
    "    super().__init__()\n",
    "    # First define the layers.\n",
    "    self.conv1 = nn.Conv2d(3, 32, kernel_size=4, stride=1, padding=1)\n",
    "    self.conv2 = nn.Conv2d(32, 64, kernel_size=4, stride=1, padding=1)\n",
    "    self.conv3 = nn.Conv2d(64, 64, kernel_size=4, stride=1, padding=1)\n",
    "    self.dropout = nn.Dropout(0.5)\n",
    "    self.fc1 = nn.Linear(7*7*64, 256)\n",
    "    self.fc2 = nn.Linear(256, 4)\n",
    "\n",
    "  def forward(self, x):\n",
    "    # Conv layer 1.\n",
    "    x = self.conv1(x)\n",
    "    x = F.relu(x)\n",
    "    x = F.max_pool2d(x, kernel_size=2)\n",
    "#     x = self.dropout(x)\n",
    "\n",
    "    # Conv layer 2.\n",
    "    x = self.conv2(x)\n",
    "    x = F.relu(x)\n",
    "    x = F.max_pool2d(x, kernel_size=2)\n",
    "    x = self.dropout(x)\n",
    "    \n",
    "    # Conv layer 3.\n",
    "    x = self.conv3(x)\n",
    "    x = F.relu(x)\n",
    "    x = F.max_pool2d(x, kernel_size=2)\n",
    "    x = self.dropout(x)\n",
    "\n",
    "    # Fully connected layer 1.\n",
    "    x = torch.flatten(x,1)  # You have to first flatten the ourput from the\n",
    "                            # previous convolution layer.\n",
    "    x = self.fc1(x)\n",
    "    x = F.relu(x)\n",
    "    x = self.dropout(x)\n",
    "\n",
    "    # Fully connected layer 2.\n",
    "    x = self.fc2(x)\n",
    "    x = F.log_softmax(x,dim=1)\n",
    "\n",
    "    return x"
   ]
  },
  {
   "cell_type": "code",
   "execution_count": 17,
   "metadata": {},
   "outputs": [],
   "source": [
    "# Create a sample network\n",
    "class conv_net2(nn.Module):\n",
    "    def __init__(self):\n",
    "        super().__init__()\n",
    "        # First define the layers.\n",
    "        self.conv1 = nn.Conv2d(3, 32, kernel_size=4, stride=1, padding=1)\n",
    "        self.conv2 = nn.Conv2d(32, 64, kernel_size=3, stride=1, padding=1)\n",
    "        self.conv3 = nn.Conv2d(64, 64, kernel_size=2, stride=1, padding=1)\n",
    "        self.conv4 = nn.Conv2d(64, 64, kernel_size=2, stride=1, padding=1)\n",
    "        self.dropout = nn.Dropout(0.5)\n",
    "        self.fc1 = nn.Linear(4*4*64, 256)\n",
    "        self.fc2 = nn.Linear(256, 4)\n",
    "\n",
    "    def forward(self, x):\n",
    "        # Conv layer 1.\n",
    "        x = self.conv1(x)\n",
    "        x = F.relu(x)\n",
    "        x = F.max_pool2d(x, kernel_size=2)\n",
    "    #     x = self.dropout(x)\n",
    "\n",
    "        # Conv layer 2.\n",
    "        x = self.conv2(x)\n",
    "        x = F.relu(x)\n",
    "        x = F.max_pool2d(x, kernel_size=2)\n",
    "        x = self.dropout(x)\n",
    "\n",
    "        # Conv layer 3.\n",
    "        x = self.conv3(x)\n",
    "        x = F.relu(x)\n",
    "        x = F.max_pool2d(x, kernel_size=2)\n",
    "        x = self.dropout(x)\n",
    "        \n",
    "        # Conv layer 4.\n",
    "        x = self.conv4(x)\n",
    "        x = F.relu(x)\n",
    "        x = F.max_pool2d(x, kernel_size=2)\n",
    "#         x = self.dropout(x)\n",
    "\n",
    "        # Fully connected layer 1.\n",
    "        x = torch.flatten(x,1)  # You have to first flatten the ourput from the\n",
    "                                # previous convolution layer.\n",
    "        x = self.fc1(x)\n",
    "        x = F.relu(x)\n",
    "        x = self.dropout(x)\n",
    "\n",
    "        # Fully connected layer 2.\n",
    "        x = self.fc2(x)\n",
    "        x = F.log_softmax(x,dim=1)\n",
    "\n",
    "        return x"
   ]
  },
  {
   "cell_type": "code",
   "execution_count": 18,
   "metadata": {},
   "outputs": [],
   "source": [
    "# Create a sample network\n",
    "class conv_net3(nn.Module):\n",
    "    def __init__(self):\n",
    "        super().__init__()\n",
    "        # First define the layers.\n",
    "        self.conv1 = nn.Conv2d(3, 32, kernel_size=4, stride=1, padding=1)\n",
    "        self.conv2 = nn.Conv2d(32, 64, kernel_size=3, stride=1, padding=1)\n",
    "        self.conv3 = nn.Conv2d(64, 64, kernel_size=2, stride=1, padding=1)\n",
    "        self.conv4 = nn.Conv2d(64, 64, kernel_size=2, stride=1, padding=1)\n",
    "        self.dropout = nn.Dropout(0.5)\n",
    "        self.fc1 = nn.Linear(69696, 256)\n",
    "        self.fc2 = nn.Linear(256, 4)\n",
    "\n",
    "    def forward(self, x):\n",
    "        # Conv layer 1.\n",
    "        x = self.conv1(x)\n",
    "        x = F.relu(x)\n",
    "        x = F.max_pool2d(x, kernel_size=2)\n",
    "    #     x = self.dropout(x)\n",
    "\n",
    "        # Conv layer 2.\n",
    "        x = self.conv2(x)\n",
    "        x = F.relu(x)\n",
    "#         x = F.max_pool2d(x, kernel_size=2)\n",
    "        x = self.dropout(x)\n",
    "\n",
    "        # Conv layer 3.\n",
    "        x = self.conv3(x)\n",
    "        x = F.relu(x)\n",
    "#         x = F.max_pool2d(x, kernel_size=2)\n",
    "        x = self.dropout(x)\n",
    "        \n",
    "        # Conv layer 4.\n",
    "        x = self.conv4(x)\n",
    "        x = F.relu(x)\n",
    "#         x = F.max_pool2d(x, kernel_size=2)\n",
    "#         x = self.dropout(x)\n",
    "\n",
    "        # Fully connected layer 1.\n",
    "        x = torch.flatten(x,1)  # You have to first flatten the ourput from the\n",
    "                                # previous convolution layer.\n",
    "        x = self.fc1(x)\n",
    "        x = F.relu(x)\n",
    "        x = self.dropout(x)\n",
    "\n",
    "        # Fully connected layer 2.\n",
    "        x = self.fc2(x)\n",
    "        x = F.log_softmax(x,dim=1)\n",
    "\n",
    "        return x"
   ]
  },
  {
   "cell_type": "code",
   "execution_count": 19,
   "metadata": {},
   "outputs": [],
   "source": [
    "#set the hyper parameters\n",
    "# Set the arguments\n",
    "args = {\n",
    "    'epochs': 300,\n",
    "    'lr': 0.005,\n",
    "    'momentum': 0.8,\n",
    "    'device': DEVICE,\n",
    "    'checkpoint_path':'./pretrained/cnn2_cat_obj2area_naive_cat10_lr0.005_mmt0.8.pt'\n",
    "}\n",
    "\n"
   ]
  },
  {
   "cell_type": "code",
   "execution_count": 26,
   "metadata": {
    "colab": {
     "base_uri": "https://localhost:8080/",
     "height": 472,
     "referenced_widgets": [
      "0f52c6077e2a430f910581373a90f5bd",
      "0926051cb8dc4d0d9e6f80dab88e41ec",
      "0a4a6d0939c944f48e10b3d4d1f1b68e",
      "0f03808fa6e243499d490465d4a9a34f",
      "fb7455d6ca3b4f7eb171d80f5632a7f4",
      "a21891f649074632a870d20be81ab4e7",
      "79392e3c7a8d4cb181928b8481a84969",
      "a29c0c64342748feaac6346cfef9bca0"
     ]
    },
    "id": "OzeYyp69nikY",
    "outputId": "f416bf04-e61f-43f8-cdc1-3d4eca6621c5"
   },
   "outputs": [
    {
     "name": "stdout",
     "output_type": "stream",
     "text": [
      "Random seed 2021 has been set.\n"
     ]
    },
    {
     "data": {
      "application/vnd.jupyter.widget-view+json": {
       "model_id": "95ed37377083492fa08e602f9f1e69a8",
       "version_major": 2,
       "version_minor": 0
      },
      "text/plain": [
       "HBox(children=(FloatProgress(value=0.0, max=300.0), HTML(value='')))"
      ]
     },
     "metadata": {},
     "output_type": "display_data"
    },
    {
     "name": "stdout",
     "output_type": "stream",
     "text": [
      "Epoch 0, train acc 23.002, val acc 22.12, 1.8202633822631835, 1.8197779777526855\n",
      "Epoch 10, train acc 49.734, val acc 49.8, 1.1176018641662597, 1.121518397140503\n",
      "Epoch 20, train acc 59.02, val acc 59.13, 0.9278036207580567, 0.933539157485962\n",
      "Epoch 30, train acc 64.044, val acc 63.89, 0.8314589790344238, 0.8401647087097168\n",
      "Epoch 40, train acc 55.406, val acc 54.99, 0.9493904879760742, 0.9645553647994995\n",
      "Epoch 50, train acc 63.03, val acc 62.93, 0.8031185398864746, 0.8235319719314576\n",
      "Epoch 60, train acc 71.736, val acc 70.6, 0.659899262008667, 0.6862295742034912\n",
      "Epoch 70, train acc 66.394, val acc 65.96, 0.7445794912719726, 0.7731829587936402\n",
      "Epoch 80, train acc 69.656, val acc 68.83, 0.6743437281036377, 0.7082255069255828\n",
      "Epoch 90, train acc 74.386, val acc 72.39, 0.594562505569458, 0.6339869040489197\n",
      "Epoch 100, train acc 70.24, val acc 68.78, 0.6566964443206788, 0.7005293333053589\n",
      "Epoch 110, train acc 75.488, val acc 73.35, 0.5623478894042969, 0.6130609901428222\n",
      "Epoch 120, train acc 74.468, val acc 72.61, 0.5872886716461182, 0.6380882195949554\n",
      "Epoch 130, train acc 79.646, val acc 76.54, 0.49774416610717775, 0.5554909802436828\n",
      "Epoch 140, train acc 74.934, val acc 72.14, 0.5701487480926514, 0.6275985684394837\n",
      "Epoch 150, train acc 74.438, val acc 72.15, 0.5700704913330078, 0.6409185387611389\n",
      "Epoch 160, train acc 75.41, val acc 72.9, 0.5468309062957764, 0.6202668327331543\n",
      "Epoch 170, train acc 74.026, val acc 71.59, 0.5703996546936035, 0.6514354835987091\n",
      "Epoch 180, train acc 74.628, val acc 71.51, 0.5539330655670166, 0.6435004050254822\n",
      "Epoch 190, train acc 78.824, val acc 75.35, 0.4857736995697021, 0.577323038482666\n",
      "Epoch 200, train acc 83.762, val acc 78.91, 0.4073297371673584, 0.5029635378837586\n",
      "Epoch 210, train acc 81.96, val acc 77.36, 0.4336636315155029, 0.537298750114441\n",
      "Epoch 220, train acc 81.062, val acc 76.68, 0.4436783437347412, 0.5522827683448791\n",
      "Epoch 230, train acc 77.08, val acc 72.9, 0.5078145179748536, 0.6315037692070007\n",
      "Epoch 240, train acc 79.9, val acc 75.23, 0.4629006969451904, 0.5810316143989563\n",
      "Epoch 250, train acc 74.908, val acc 71.25, 0.5400396350860596, 0.6691779722213745\n",
      "Epoch 260, train acc 81.78, val acc 76.33, 0.42199886306762696, 0.558726640701294\n",
      "Epoch 270, train acc 81.212, val acc 76.25, 0.4303904026031494, 0.5719216932296753\n",
      "Epoch 280, train acc 86.764, val acc 79.79, 0.35102836532592774, 0.48987048535346983\n",
      "Epoch 290, train acc 83.754, val acc 77.8, 0.38438381244659425, 0.5325632059574127\n",
      "\n",
      "Time to memorize the dataset: 2653.2716829776764\n"
     ]
    },
    {
     "data": {
      "image/png": "[encoded data removed]",
      "text/plain": [
       "<Figure size 576x432 with 1 Axes>"
      ]
     },
     "metadata": {
      "needs_background": "light"
     },
     "output_type": "display_data"
    }
   ],
   "source": [
    "#run the training and plot results\n",
    "\n",
    "# Initialize the network\n",
    "set_seed(seed=SEED)\n",
    "model = conv_net2()\n",
    "if ('pretrained_path' in args):\n",
    "    checkpoint = torch.load(args['pretrained_path'])\n",
    "    model.load_state_dict(checkpoint['model_state_dict'])\n",
    "#This will be the naive model, so we only overwrite the last fc2, since everything is being trained\n",
    "#for param in model.parameters():\n",
    "#  param.requires_grad = False\n",
    "num_ftrs = model.fc2.in_features\n",
    "model.fc2 = nn.Linear(num_ftrs, MAXCATEGORIES)\n",
    "\n",
    "start_time = time.time()\n",
    "# Train the network\n",
    "val_acc_pure,train_acc_pure,val_loss_list, train_loss_list, best_model,best_epoch = early_stopping_main(args=args,\n",
    "                                                                          model=model,\n",
    "                                                                          train_loader=train_loader,\n",
    "                                                                          val_loader=val_loader)\n",
    "end_time = time.time()\n",
    "\n",
    "print(f\"Time to memorize the dataset: {end_time - start_time}\")\n",
    "\n",
    "# Train and Test accuracy plot\n",
    "plt.figure(figsize=(8, 6))\n",
    "plt.plot(val_acc_pure, label='Val Accuracy Pure', c='red', ls='dashed')\n",
    "plt.plot(train_acc_pure, label='Train Accuracy Pure', c='red', ls='solid')\n",
    "plt.axhline(y=max(val_acc_pure), c='green', ls='dashed',\n",
    "            label='max Val accuracy pure')\n",
    "plt.title('Memorization')\n",
    "plt.ylabel('Accuracy (%)')\n",
    "plt.xlabel('Epoch')\n",
    "plt.legend()\n",
    "plt.show()"
   ]
  },
  {
   "cell_type": "code",
   "execution_count": 24,
   "metadata": {},
   "outputs": [
    {
     "name": "stdout",
     "output_type": "stream",
     "text": [
      "89.47\n"
     ]
    }
   ],
   "source": [
    "#validate we can load the pretrained weights and use them\n",
    "model = conv_net2()\n",
    "\n",
    "if ('pretrained_path' in args):\n",
    "    checkpoint = torch.load(args['pretrained_path'])\n",
    "    model.load_state_dict(checkpoint['model_state_dict'])\n",
    "    model.to(args['device'])\n",
    "    model.eval()\n",
    "    val_acc = test(model, val_loader, device=args['device'])\n",
    "    print(val_acc)\n",
    "else:\n",
    "    print('No checkpoint was saved')\n",
    "\n"
   ]
  },
  {
   "cell_type": "code",
   "execution_count": 31,
   "metadata": {},
   "outputs": [
    {
     "name": "stdout",
     "output_type": "stream",
     "text": [
      "79.79\n",
      "79.79\n"
     ]
    }
   ],
   "source": [
    "#validate we can load the saves weights and use them\n",
    "val_model = conv_net2()\n",
    "num_ftrs = val_model.fc2.in_features\n",
    "val_model.fc2 = nn.Linear(num_ftrs, MAXCATEGORIES)\n",
    "if ('checkpoint_path' in args):\n",
    "    checkpoint = torch.load(args['checkpoint_path'])\n",
    "    val_model.load_state_dict(checkpoint['model_state_dict'])\n",
    "    val_model.to(args['device'])\n",
    "    val_model.eval()\n",
    "    _,val_acc = test(val_model, val_loader, device=args['device'])\n",
    "    print(val_acc)\n",
    "else:\n",
    "    print('No checkpoint was saved')\n",
    "\n",
    "_,val_acc = test(best_model, val_loader, device=args['device'])\n",
    "print(val_acc)"
   ]
  },
  {
   "cell_type": "code",
   "execution_count": 27,
   "metadata": {},
   "outputs": [],
   "source": [
    "#for unknown reasons, the best model isn't being saved, so force it here.\n",
    "#save the model\n",
    "if('checkpoint_path' in args):\n",
    "    torch.save({\n",
    "        'model_state_dict': best_model.state_dict(),\n",
    "        }, args['checkpoint_path'])"
   ]
  },
  {
   "cell_type": "code",
   "execution_count": 28,
   "metadata": {},
   "outputs": [
    {
     "name": "stdout",
     "output_type": "stream",
     "text": [
      "cuda:1\n"
     ]
    }
   ],
   "source": [
    "print(args['device'])"
   ]
  },
  {
   "cell_type": "code",
   "execution_count": 29,
   "metadata": {},
   "outputs": [
    {
     "name": "stdout",
     "output_type": "stream",
     "text": [
      "conv_net2(\n",
      "  (conv1): Conv2d(3, 32, kernel_size=(4, 4), stride=(1, 1), padding=(1, 1))\n",
      "  (conv2): Conv2d(32, 64, kernel_size=(3, 3), stride=(1, 1), padding=(1, 1))\n",
      "  (conv3): Conv2d(64, 64, kernel_size=(2, 2), stride=(1, 1), padding=(1, 1))\n",
      "  (conv4): Conv2d(64, 64, kernel_size=(2, 2), stride=(1, 1), padding=(1, 1))\n",
      "  (dropout): Dropout(p=0.5, inplace=False)\n",
      "  (fc1): Linear(in_features=1024, out_features=256, bias=True)\n",
      "  (fc2): Linear(in_features=256, out_features=4, bias=True)\n",
      ")\n",
      "torch.Size([1, 3, 64, 64])\n"
     ]
    },
    {
     "data": {
      "text/plain": [
       "==========================================================================================\n",
       "Layer (type:depth-idx)                   Output Shape              Param #\n",
       "==========================================================================================\n",
       "conv_net2                                --                        --\n",
       "├─Conv2d: 1-1                            [1, 32, 63, 63]           1,568\n",
       "├─Conv2d: 1-2                            [1, 64, 31, 31]           18,496\n",
       "├─Dropout: 1-3                           [1, 64, 15, 15]           --\n",
       "├─Conv2d: 1-4                            [1, 64, 16, 16]           16,448\n",
       "├─Dropout: 1-5                           [1, 64, 8, 8]             --\n",
       "├─Conv2d: 1-6                            [1, 64, 9, 9]             16,448\n",
       "├─Linear: 1-7                            [1, 256]                  262,400\n",
       "├─Dropout: 1-8                           [1, 256]                  --\n",
       "├─Linear: 1-9                            [1, 4]                    1,028\n",
       "==========================================================================================\n",
       "Total params: 316,388\n",
       "Trainable params: 316,388\n",
       "Non-trainable params: 0\n",
       "Total mult-adds (M): 29.80\n",
       "==========================================================================================\n",
       "Input size (MB): 0.05\n",
       "Forward/backward pass size (MB): 1.68\n",
       "Params size (MB): 1.27\n",
       "Estimated Total Size (MB): 3.00\n",
       "=========================================================================================="
      ]
     },
     "execution_count": 29,
     "metadata": {},
     "output_type": "execute_result"
    }
   ],
   "source": [
    "from torchinfo import summary\n",
    "print(model)\n",
    "im = torch.Tensor(np.random.rand(1, 3, 64, 64))\n",
    "im = im.to(args['device'])\n",
    "print(im.shape)\n",
    "model(im)\n",
    "summary(model, input_size=(1, 3, 64, 64))"
   ]
  },
  {
   "cell_type": "code",
   "execution_count": null,
   "metadata": {},
   "outputs": [],
   "source": []
  }
 ],
 "metadata": {
  "accelerator": "GPU",
  "colab": {
   "collapsed_sections": [],
   "name": "convnet.ipynb",
   "provenance": []
  },
  "kernelspec": {
   "display_name": "Python 3",
   "language": "python",
   "name": "python3"
  },
  "language_info": {
   "codemirror_mode": {
    "name": "ipython",
    "version": 3
   },
   "file_extension": ".py",
   "mimetype": "text/x-python",
   "name": "python",
   "nbconvert_exporter": "python",
   "pygments_lexer": "ipython3",
   "version": "3.6.9"
  },
  "widgets": {
   "application/vnd.jupyter.widget-state+json": {
    "0417552b81624a09a503c69481d3f893": {
     "model_module": "@jupyter-widgets/base",
     "model_module_version": "1.2.0",
     "model_name": "LayoutModel",
     "state": {
      "_model_module": "@jupyter-widgets/base",
      "_model_module_version": "1.2.0",
      "_model_name": "LayoutModel",
      "_view_count": null,
      "_view_module": "@jupyter-widgets/base",
      "_view_module_version": "1.2.0",
      "_view_name": "LayoutView",
      "align_content": null,
      "align_items": null,
      "align_self": null,
      "border": null,
      "bottom": null,
      "display": null,
      "flex": null,
      "flex_flow": null,
      "grid_area": null,
      "grid_auto_columns": null,
      "grid_auto_flow": null,
      "grid_auto_rows": null,
      "grid_column": null,
      "grid_gap": null,
      "grid_row": null,
      "grid_template_areas": null,
      "grid_template_columns": null,
      "grid_template_rows": null,
      "height": null,
      "justify_content": null,
      "justify_items": null,
      "left": null,
      "margin": null,
      "max_height": null,
      "max_width": null,
      "min_height": null,
      "min_width": null,
      "object_fit": null,
      "object_position": null,
      "order": null,
      "overflow": null,
      "overflow_x": null,
      "overflow_y": null,
      "padding": null,
      "right": null,
      "top": null,
      "visibility": null,
      "width": null
     }
    },
    "0926051cb8dc4d0d9e6f80dab88e41ec": {
     "model_module": "@jupyter-widgets/base",
     "model_module_version": "1.2.0",
     "model_name": "LayoutModel",
     "state": {
      "_model_module": "@jupyter-widgets/base",
      "_model_module_version": "1.2.0",
      "_model_name": "LayoutModel",
      "_view_count": null,
      "_view_module": "@jupyter-widgets/base",
      "_view_module_version": "1.2.0",
      "_view_name": "LayoutView",
      "align_content": null,
      "align_items": null,
      "align_self": null,
      "border": null,
      "bottom": null,
      "display": null,
      "flex": null,
      "flex_flow": null,
      "grid_area": null,
      "grid_auto_columns": null,
      "grid_auto_flow": null,
      "grid_auto_rows": null,
      "grid_column": null,
      "grid_gap": null,
      "grid_row": null,
      "grid_template_areas": null,
      "grid_template_columns": null,
      "grid_template_rows": null,
      "height": null,
      "justify_content": null,
      "justify_items": null,
      "left": null,
      "margin": null,
      "max_height": null,
      "max_width": null,
      "min_height": null,
      "min_width": null,
      "object_fit": null,
      "object_position": null,
      "order": null,
      "overflow": null,
      "overflow_x": null,
      "overflow_y": null,
      "padding": null,
      "right": null,
      "top": null,
      "visibility": null,
      "width": null
     }
    },
    "0a4a6d0939c944f48e10b3d4d1f1b68e": {
     "model_module": "@jupyter-widgets/controls",
     "model_module_version": "1.5.0",
     "model_name": "FloatProgressModel",
     "state": {
      "_dom_classes": [],
      "_model_module": "@jupyter-widgets/controls",
      "_model_module_version": "1.5.0",
      "_model_name": "FloatProgressModel",
      "_view_count": null,
      "_view_module": "@jupyter-widgets/controls",
      "_view_module_version": "1.5.0",
      "_view_name": "ProgressView",
      "bar_style": "danger",
      "description": "  2%",
      "description_tooltip": null,
      "layout": "IPY_MODEL_a21891f649074632a870d20be81ab4e7",
      "max": 100,
      "min": 0,
      "orientation": "horizontal",
      "style": "IPY_MODEL_fb7455d6ca3b4f7eb171d80f5632a7f4",
      "value": 2
     }
    },
    "0f03808fa6e243499d490465d4a9a34f": {
     "model_module": "@jupyter-widgets/controls",
     "model_module_version": "1.5.0",
     "model_name": "HTMLModel",
     "state": {
      "_dom_classes": [],
      "_model_module": "@jupyter-widgets/controls",
      "_model_module_version": "1.5.0",
      "_model_name": "HTMLModel",
      "_view_count": null,
      "_view_module": "@jupyter-widgets/controls",
      "_view_module_version": "1.5.0",
      "_view_name": "HTMLView",
      "description": "",
      "description_tooltip": null,
      "layout": "IPY_MODEL_a29c0c64342748feaac6346cfef9bca0",
      "placeholder": "​",
      "style": "IPY_MODEL_79392e3c7a8d4cb181928b8481a84969",
      "value": " 2/100 [00:36&lt;27:29, 16.83s/it]"
     }
    },
    "0f52c6077e2a430f910581373a90f5bd": {
     "model_module": "@jupyter-widgets/controls",
     "model_module_version": "1.5.0",
     "model_name": "HBoxModel",
     "state": {
      "_dom_classes": [],
      "_model_module": "@jupyter-widgets/controls",
      "_model_module_version": "1.5.0",
      "_model_name": "HBoxModel",
      "_view_count": null,
      "_view_module": "@jupyter-widgets/controls",
      "_view_module_version": "1.5.0",
      "_view_name": "HBoxView",
      "box_style": "",
      "children": [
       "IPY_MODEL_0a4a6d0939c944f48e10b3d4d1f1b68e",
       "IPY_MODEL_0f03808fa6e243499d490465d4a9a34f"
      ],
      "layout": "IPY_MODEL_0926051cb8dc4d0d9e6f80dab88e41ec"
     }
    },
    "2e89694fd9e14a8383afba145d3f061b": {
     "model_module": "@jupyter-widgets/controls",
     "model_module_version": "1.5.0",
     "model_name": "ProgressStyleModel",
     "state": {
      "_model_module": "@jupyter-widgets/controls",
      "_model_module_version": "1.5.0",
      "_model_name": "ProgressStyleModel",
      "_view_count": null,
      "_view_module": "@jupyter-widgets/base",
      "_view_module_version": "1.2.0",
      "_view_name": "StyleView",
      "bar_color": null,
      "description_width": "initial"
     }
    },
    "6438ea59ebcd454185c6560ed2908bba": {
     "model_module": "@jupyter-widgets/controls",
     "model_module_version": "1.5.0",
     "model_name": "HBoxModel",
     "state": {
      "_dom_classes": [],
      "_model_module": "@jupyter-widgets/controls",
      "_model_module_version": "1.5.0",
      "_model_name": "HBoxModel",
      "_view_count": null,
      "_view_module": "@jupyter-widgets/controls",
      "_view_module_version": "1.5.0",
      "_view_name": "HBoxView",
      "box_style": "",
      "children": [
       "IPY_MODEL_d443df4150c243d2ac4144847a5d7e17",
       "IPY_MODEL_b7dba456023f497cbc0ceb02bf3b8ade"
      ],
      "layout": "IPY_MODEL_d5d995c56d514c63a8dda4a1a3ddba3d"
     }
    },
    "6eabdb70335a4600a7fe4809d356caed": {
     "model_module": "@jupyter-widgets/controls",
     "model_module_version": "1.5.0",
     "model_name": "DescriptionStyleModel",
     "state": {
      "_model_module": "@jupyter-widgets/controls",
      "_model_module_version": "1.5.0",
      "_model_name": "DescriptionStyleModel",
      "_view_count": null,
      "_view_module": "@jupyter-widgets/base",
      "_view_module_version": "1.2.0",
      "_view_name": "StyleView",
      "description_width": ""
     }
    },
    "79392e3c7a8d4cb181928b8481a84969": {
     "model_module": "@jupyter-widgets/controls",
     "model_module_version": "1.5.0",
     "model_name": "DescriptionStyleModel",
     "state": {
      "_model_module": "@jupyter-widgets/controls",
      "_model_module_version": "1.5.0",
      "_model_name": "DescriptionStyleModel",
      "_view_count": null,
      "_view_module": "@jupyter-widgets/base",
      "_view_module_version": "1.2.0",
      "_view_name": "StyleView",
      "description_width": ""
     }
    },
    "a21891f649074632a870d20be81ab4e7": {
     "model_module": "@jupyter-widgets/base",
     "model_module_version": "1.2.0",
     "model_name": "LayoutModel",
     "state": {
      "_model_module": "@jupyter-widgets/base",
      "_model_module_version": "1.2.0",
      "_model_name": "LayoutModel",
      "_view_count": null,
      "_view_module": "@jupyter-widgets/base",
      "_view_module_version": "1.2.0",
      "_view_name": "LayoutView",
      "align_content": null,
      "align_items": null,
      "align_self": null,
      "border": null,
      "bottom": null,
      "display": null,
      "flex": null,
      "flex_flow": null,
      "grid_area": null,
      "grid_auto_columns": null,
      "grid_auto_flow": null,
      "grid_auto_rows": null,
      "grid_column": null,
      "grid_gap": null,
      "grid_row": null,
      "grid_template_areas": null,
      "grid_template_columns": null,
      "grid_template_rows": null,
      "height": null,
      "justify_content": null,
      "justify_items": null,
      "left": null,
      "margin": null,
      "max_height": null,
      "max_width": null,
      "min_height": null,
      "min_width": null,
      "object_fit": null,
      "object_position": null,
      "order": null,
      "overflow": null,
      "overflow_x": null,
      "overflow_y": null,
      "padding": null,
      "right": null,
      "top": null,
      "visibility": null,
      "width": null
     }
    },
    "a29c0c64342748feaac6346cfef9bca0": {
     "model_module": "@jupyter-widgets/base",
     "model_module_version": "1.2.0",
     "model_name": "LayoutModel",
     "state": {
      "_model_module": "@jupyter-widgets/base",
      "_model_module_version": "1.2.0",
      "_model_name": "LayoutModel",
      "_view_count": null,
      "_view_module": "@jupyter-widgets/base",
      "_view_module_version": "1.2.0",
      "_view_name": "LayoutView",
      "align_content": null,
      "align_items": null,
      "align_self": null,
      "border": null,
      "bottom": null,
      "display": null,
      "flex": null,
      "flex_flow": null,
      "grid_area": null,
      "grid_auto_columns": null,
      "grid_auto_flow": null,
      "grid_auto_rows": null,
      "grid_column": null,
      "grid_gap": null,
      "grid_row": null,
      "grid_template_areas": null,
      "grid_template_columns": null,
      "grid_template_rows": null,
      "height": null,
      "justify_content": null,
      "justify_items": null,
      "left": null,
      "margin": null,
      "max_height": null,
      "max_width": null,
      "min_height": null,
      "min_width": null,
      "object_fit": null,
      "object_position": null,
      "order": null,
      "overflow": null,
      "overflow_x": null,
      "overflow_y": null,
      "padding": null,
      "right": null,
      "top": null,
      "visibility": null,
      "width": null
     }
    },
    "b1515d069ec2429c9e5f8eb642799b21": {
     "model_module": "@jupyter-widgets/base",
     "model_module_version": "1.2.0",
     "model_name": "LayoutModel",
     "state": {
      "_model_module": "@jupyter-widgets/base",
      "_model_module_version": "1.2.0",
      "_model_name": "LayoutModel",
      "_view_count": null,
      "_view_module": "@jupyter-widgets/base",
      "_view_module_version": "1.2.0",
      "_view_name": "LayoutView",
      "align_content": null,
      "align_items": null,
      "align_self": null,
      "border": null,
      "bottom": null,
      "display": null,
      "flex": null,
      "flex_flow": null,
      "grid_area": null,
      "grid_auto_columns": null,
      "grid_auto_flow": null,
      "grid_auto_rows": null,
      "grid_column": null,
      "grid_gap": null,
      "grid_row": null,
      "grid_template_areas": null,
      "grid_template_columns": null,
      "grid_template_rows": null,
      "height": null,
      "justify_content": null,
      "justify_items": null,
      "left": null,
      "margin": null,
      "max_height": null,
      "max_width": null,
      "min_height": null,
      "min_width": null,
      "object_fit": null,
      "object_position": null,
      "order": null,
      "overflow": null,
      "overflow_x": null,
      "overflow_y": null,
      "padding": null,
      "right": null,
      "top": null,
      "visibility": null,
      "width": null
     }
    },
    "b7dba456023f497cbc0ceb02bf3b8ade": {
     "model_module": "@jupyter-widgets/controls",
     "model_module_version": "1.5.0",
     "model_name": "HTMLModel",
     "state": {
      "_dom_classes": [],
      "_model_module": "@jupyter-widgets/controls",
      "_model_module_version": "1.5.0",
      "_model_name": "HTMLModel",
      "_view_count": null,
      "_view_module": "@jupyter-widgets/controls",
      "_view_module_version": "1.5.0",
      "_view_name": "HTMLView",
      "description": "",
      "description_tooltip": null,
      "layout": "IPY_MODEL_b1515d069ec2429c9e5f8eb642799b21",
      "placeholder": "​",
      "style": "IPY_MODEL_6eabdb70335a4600a7fe4809d356caed",
      "value": " 20/20 [04:36&lt;00:00, 13.83s/epoch, loss=2.23]"
     }
    },
    "d443df4150c243d2ac4144847a5d7e17": {
     "model_module": "@jupyter-widgets/controls",
     "model_module_version": "1.5.0",
     "model_name": "FloatProgressModel",
     "state": {
      "_dom_classes": [],
      "_model_module": "@jupyter-widgets/controls",
      "_model_module_version": "1.5.0",
      "_model_name": "FloatProgressModel",
      "_view_count": null,
      "_view_module": "@jupyter-widgets/controls",
      "_view_module_version": "1.5.0",
      "_view_name": "ProgressView",
      "bar_style": "success",
      "description": "Training: 100%",
      "description_tooltip": null,
      "layout": "IPY_MODEL_0417552b81624a09a503c69481d3f893",
      "max": 20,
      "min": 0,
      "orientation": "horizontal",
      "style": "IPY_MODEL_2e89694fd9e14a8383afba145d3f061b",
      "value": 20
     }
    },
    "d5d995c56d514c63a8dda4a1a3ddba3d": {
     "model_module": "@jupyter-widgets/base",
     "model_module_version": "1.2.0",
     "model_name": "LayoutModel",
     "state": {
      "_model_module": "@jupyter-widgets/base",
      "_model_module_version": "1.2.0",
      "_model_name": "LayoutModel",
      "_view_count": null,
      "_view_module": "@jupyter-widgets/base",
      "_view_module_version": "1.2.0",
      "_view_name": "LayoutView",
      "align_content": null,
      "align_items": null,
      "align_self": null,
      "border": null,
      "bottom": null,
      "display": null,
      "flex": null,
      "flex_flow": null,
      "grid_area": null,
      "grid_auto_columns": null,
      "grid_auto_flow": null,
      "grid_auto_rows": null,
      "grid_column": null,
      "grid_gap": null,
      "grid_row": null,
      "grid_template_areas": null,
      "grid_template_columns": null,
      "grid_template_rows": null,
      "height": null,
      "justify_content": null,
      "justify_items": null,
      "left": null,
      "margin": null,
      "max_height": null,
      "max_width": null,
      "min_height": null,
      "min_width": null,
      "object_fit": null,
      "object_position": null,
      "order": null,
      "overflow": null,
      "overflow_x": null,
      "overflow_y": null,
      "padding": null,
      "right": null,
      "top": null,
      "visibility": null,
      "width": null
     }
    },
    "fb7455d6ca3b4f7eb171d80f5632a7f4": {
     "model_module": "@jupyter-widgets/controls",
     "model_module_version": "1.5.0",
     "model_name": "ProgressStyleModel",
     "state": {
      "_model_module": "@jupyter-widgets/controls",
      "_model_module_version": "1.5.0",
      "_model_name": "ProgressStyleModel",
      "_view_count": null,
      "_view_module": "@jupyter-widgets/base",
      "_view_module_version": "1.2.0",
      "_view_name": "StyleView",
      "bar_color": null,
      "description_width": "initial"
     }
    }
   }
  }
 },
 "nbformat": 4,
 "nbformat_minor": 4
}
