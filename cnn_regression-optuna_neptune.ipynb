{
 "cells": [
  {
   "cell_type": "code",
   "execution_count": 1,
   "metadata": {
    "colab": {
     "base_uri": "https://localhost:8080/"
    },
    "id": "6g1j2nzJnikP",
    "outputId": "384b8412-2873-4753-f26a-a89959dded35"
   },
   "outputs": [],
   "source": [
    "#imports\n",
    "try:\n",
    "    from google.colab import drive\n",
    "    #mount drive, set base path\n",
    "    drive.mount(\"/gdrive\")\n",
    "    base_path = '/gdrive/MyDrive/nma_dl_metamorphs/data/multi_dsprites'\n",
    "except:\n",
    "    base_path = '../'\n",
    "from pathlib import Path\n",
    "import matplotlib.pyplot as plt\n",
    "import random\n",
    "from random import randint, choice\n",
    "\n",
    "import time\n",
    "\n",
    "import torch\n",
    "import torch.optim as optim\n",
    "import torch.nn.functional as F\n",
    "import torch.nn as nn\n",
    "from torchvision import transforms\n",
    "\n",
    "from tqdm.auto import tqdm\n",
    "import numpy as np\n",
    "from PIL import Image\n",
    "\n",
    "import copy"
   ]
  },
  {
   "cell_type": "code",
   "execution_count": 2,
   "metadata": {},
   "outputs": [],
   "source": [
    "import neptune.new as neptune\n",
    "import neptune.new.integrations.optuna as optuna_utils"
   ]
  },
  {
   "cell_type": "code",
   "execution_count": 3,
   "metadata": {},
   "outputs": [
    {
     "data": {
      "text/plain": [
       "True"
      ]
     },
     "execution_count": 3,
     "metadata": {},
     "output_type": "execute_result"
    }
   ],
   "source": [
    "torch.cuda.is_available()"
   ]
  },
  {
   "cell_type": "code",
   "execution_count": 4,
   "metadata": {
    "id": "zocXzzDDnikU"
   },
   "outputs": [],
   "source": [
    "#utility functions for:\n",
    "# setting the seed\n",
    "# ensuring randomness of worker in data loader (overkill?)\n",
    "# setting the device based on GPU availability\n",
    "\n",
    "def set_seed(seed=None, seed_torch=True):\n",
    "  if seed is None:\n",
    "    seed = np.random.choice(2 ** 32)\n",
    "  random.seed(seed)\n",
    "  np.random.seed(seed)\n",
    "  if seed_torch:\n",
    "    torch.manual_seed(seed)\n",
    "    torch.cuda.manual_seed_all(seed)\n",
    "    torch.cuda.manual_seed(seed)\n",
    "    torch.backends.cudnn.benchmark = False\n",
    "    torch.backends.cudnn.deterministic = True\n",
    "\n",
    "  print(f'Random seed {seed} has been set.')\n",
    "\n",
    "\n",
    "# In case that `DataLoader` is used\n",
    "def seed_worker(worker_id):\n",
    "  worker_seed = torch.initial_seed() % 2**32\n",
    "  np.random.seed(worker_seed)\n",
    "  random.seed(worker_seed)\n",
    "\n",
    "# @title Set device (GPU or CPU). Execute `set_device()`\n",
    "# especially if torch modules used.\n",
    "\n",
    "# inform the user if the notebook uses GPU or CPU.\n",
    "\n",
    "def set_device():\n",
    "  device = \"cuda\" if torch.cuda.is_available() else \"cpu\"\n",
    "  if device != \"cuda\":\n",
    "    print(\"WARNING: For this notebook to perform best, \"\n",
    "        \"if possible, in the menu under `Runtime` -> \"\n",
    "        \"`Change runtime type.`  select `GPU` \")\n",
    "  else:\n",
    "    print(\"GPU is enabled in this notebook.\")\n",
    "\n",
    "  return device"
   ]
  },
  {
   "cell_type": "code",
   "execution_count": 5,
   "metadata": {
    "id": "v0FXC_m1nikS"
   },
   "outputs": [],
   "source": [
    "#dataset paths\n",
    "#set these paths and file names depending on where you are and which labels you are using\n",
    "\n",
    "data_path = Path(base_path).joinpath('data/')\n",
    "train_images_path = Path(data_path).joinpath('training_images_rand4_unique.npy')\n",
    "train_labels_path = Path(data_path).joinpath('training_objcounts_rand4_unique.npy')\n",
    "val_images_path = Path(data_path).joinpath('validation_images_rand4_unique.npy')\n",
    "val_labels_path = Path(data_path).joinpath('validation_objcounts_rand4_unique.npy')\n",
    "\n",
    "#get image area\n",
    "train_imgarea_path = Path(data_path).joinpath('training_imgareas_rand4_unique.npy')\n",
    "val_imgarea_path = Path(data_path).joinpath('validation_imgareas_rand4_unique.npy')"
   ]
  },
  {
   "cell_type": "code",
   "execution_count": 6,
   "metadata": {
    "id": "4UTTBcBMnikT"
   },
   "outputs": [],
   "source": [
    "#load the numpy dataset files\n",
    "train_images = np.load(train_images_path).astype(float)\n",
    "train_labels = torch.tensor(np.load(train_labels_path).astype(float))\n",
    "val_images = np.load(val_images_path).astype(float)\n",
    "val_labels = torch.tensor(np.load(val_labels_path).astype(float))\n",
    "\n",
    "#load image area files\n",
    "train_imgarea = np.load(train_imgarea_path).astype(float)\n",
    "val_imgarea = np.load(val_imgarea_path).astype(float)"
   ]
  },
  {
   "cell_type": "code",
   "execution_count": 7,
   "metadata": {
    "colab": {
     "base_uri": "https://localhost:8080/"
    },
    "id": "_WBZMmPtnikT",
    "outputId": "17d24dc1-1b04-4040-b114-d6775606eae6"
   },
   "outputs": [
    {
     "name": "stdout",
     "output_type": "stream",
     "text": [
      "tensor([3., 2., 2.,  ..., 3., 1., 2.], dtype=torch.float64) tensor([2., 1., 3.,  ..., 1., 4., 4.], dtype=torch.float64)\n"
     ]
    }
   ],
   "source": [
    "# change labels so that they start at 0\n",
    "# TODO this is only valid for counts - so we need a flag for this or change the generator or dataloader appropriately\n",
    "train_labels = (train_labels)\n",
    "val_labels = (val_labels)\n",
    "print(train_labels, val_labels)"
   ]
  },
  {
   "cell_type": "code",
   "execution_count": 8,
   "metadata": {
    "colab": {
     "base_uri": "https://localhost:8080/",
     "height": 298
    },
    "id": "kIu5E5N3nikU",
    "outputId": "94fa9762-c712-45bc-fa3f-37696264eb6e"
   },
   "outputs": [
    {
     "data": {
      "text/plain": [
       "Text(0.5, 1.0, 'object area: tensor(4., dtype=torch.float64)')"
      ]
     },
     "execution_count": 8,
     "metadata": {},
     "output_type": "execute_result"
    },
    {
     "data": {
      "image/png": "[encoded data removed]",
      "text/plain": [
       "<Figure size 432x288 with 1 Axes>"
      ]
     },
     "metadata": {
      "needs_background": "light"
     },
     "output_type": "display_data"
    }
   ],
   "source": [
    "#examine data\n",
    "idx = np.random.randint(0, train_images.shape[0])\n",
    "plt.imshow(train_images[idx])\n",
    "plt.title('object area: ' + str(train_labels[idx]))"
   ]
  },
  {
   "cell_type": "markdown",
   "metadata": {},
   "source": [
    "## Prepare dataloaders for cnn"
   ]
  },
  {
   "cell_type": "code",
   "execution_count": 9,
   "metadata": {
    "id": "aBzhZSDBnikV"
   },
   "outputs": [],
   "source": [
    "#define the dataset class for our data for use by the dataloader\n",
    "class CustomTensorDataset(torch.utils.data.Dataset):\n",
    "    \"\"\"TensorDataset with support of transforms.\n",
    "    \"\"\"\n",
    "    def __init__(self, images, labels, transform=None, target_transform=None):\n",
    "        # assert all(tensors[0].size[0] == tensor.size[0] for tensor in tensors)\n",
    "        self.images = images\n",
    "        self.img_labels = labels\n",
    "        self.transform = transform\n",
    "        self.target_transform = target_transform\n",
    "\n",
    "    def __getitem__(self, index):\n",
    "        x = self.images[index]\n",
    "\n",
    "        if self.transform:\n",
    "          x = self.transform(x)\n",
    "\n",
    "        y = self.img_labels[index]\n",
    "        if self.target_transform:\n",
    "          y = self.target_transform(y)\n",
    "\n",
    "        return x.float(), y.float(), index\n",
    "\n",
    "    def __len__(self):\n",
    "        return len(self.img_labels)"
   ]
  },
  {
   "cell_type": "code",
   "execution_count": 10,
   "metadata": {
    "id": "ITjabmw5nikW"
   },
   "outputs": [],
   "source": [
    "#instantiate the dataset\n",
    "train_transform = transforms.Compose([\n",
    "     transforms.ToTensor(),\n",
    "     transforms.Normalize((0.5, 0.5, 0.5), (0.5, 0.5, 0.5))\n",
    "     ])\n",
    "\n",
    "train_data =  CustomTensorDataset(train_images, train_labels, transform=train_transform)\n",
    "val_data = CustomTensorDataset(val_images,val_labels,transform=train_transform)"
   ]
  },
  {
   "cell_type": "code",
   "execution_count": 11,
   "metadata": {
    "colab": {
     "base_uri": "https://localhost:8080/"
    },
    "id": "guIE7EjsnikW",
    "outputId": "041172ab-8375-4fb7-dcac-af0fa7f47c1a"
   },
   "outputs": [
    {
     "name": "stdout",
     "output_type": "stream",
     "text": [
      "Random seed 2021 has been set.\n",
      "GPU is enabled in this notebook.\n"
     ]
    }
   ],
   "source": [
    "#instantiate the dataloaders\n",
    "\n",
    "SEED = 2021\n",
    "set_seed(seed=SEED)\n",
    "DEVICE = set_device()\n",
    "# Create the corresponding DataLoaders for training and test\n",
    "g_seed = torch.Generator()\n",
    "g_seed.manual_seed(SEED)\n",
    "\n",
    "BATCH_SIZE = 128  # number of examples per minibatch\n",
    "\n",
    "train_loader = torch.utils.data.DataLoader(train_data,\n",
    "                                           shuffle=True,\n",
    "                                           batch_size=BATCH_SIZE,\n",
    "                                           num_workers=12,\n",
    "                                           worker_init_fn=seed_worker,\n",
    "                                           generator=g_seed)\n",
    "val_loader = torch.utils.data.DataLoader(val_data,\n",
    "                                         shuffle=True,\n",
    "                                         batch_size=BATCH_SIZE,\n",
    "                                         num_workers=12,\n",
    "                                         worker_init_fn=seed_worker,\n",
    "                                         generator=g_seed)"
   ]
  },
  {
   "cell_type": "markdown",
   "metadata": {},
   "source": [
    "## CNN model for regression"
   ]
  },
  {
   "cell_type": "code",
   "execution_count": 12,
   "metadata": {},
   "outputs": [],
   "source": [
    "# Create a sample network\n",
    "class conv_net(nn.Module):\n",
    "    def __init__(self):\n",
    "        super().__init__()\n",
    "        # First define the layers.\n",
    "        self.conv1 = nn.Conv2d(3, 16, kernel_size=4, stride=1, padding=1)\n",
    "        self.conv2 = nn.Conv2d(16, 32, kernel_size=4, stride=1, padding=1)\n",
    "        self.conv3 = nn.Conv2d(32, 64, kernel_size=4, stride=1, padding=1)\n",
    "#         self.conv4 = nn.Conv2d(64, 64, kernel_size=2, stride=1, padding=1)\n",
    "        self.dropout = nn.Dropout(0.5)\n",
    "        self.fc1 = nn.Linear(7*7*64, 256)\n",
    "        self.fc2 = nn.Linear(256, 1)\n",
    "\n",
    "    def forward(self, x):\n",
    "        # Conv layer 1.\n",
    "        x = self.conv1(x)\n",
    "        x = F.relu(x)\n",
    "        x = F.max_pool2d(x, kernel_size=2)\n",
    "    #     x = self.dropout(x)\n",
    "\n",
    "        # Conv layer 2.\n",
    "        x = self.conv2(x)\n",
    "        x = F.relu(x)\n",
    "        x = F.max_pool2d(x, kernel_size=2)\n",
    "        x = self.dropout(x)\n",
    "\n",
    "        # Conv layer 3.\n",
    "        x = self.conv3(x)\n",
    "        x = F.relu(x)\n",
    "        x = F.max_pool2d(x, kernel_size=2)\n",
    "        x = self.dropout(x)\n",
    "\n",
    "        # Fully connected layer 1.\n",
    "        x = torch.flatten(x,1)  # You have to first flatten the ourput from the\n",
    "                                # previous convolution layer.\n",
    "        x = self.fc1(x)\n",
    "        x = F.relu(x)\n",
    "        x = self.dropout(x)\n",
    "\n",
    "        # Fully connected layer 2.\n",
    "        x = self.fc2(x)\n",
    "        x = x.squeeze()\n",
    "\n",
    "        return x"
   ]
  },
  {
   "cell_type": "code",
   "execution_count": 13,
   "metadata": {},
   "outputs": [],
   "source": [
    "# Create a sample network\n",
    "class conv_net1(nn.Module):\n",
    "    def __init__(self):\n",
    "        super().__init__()\n",
    "        # First define the layers.\n",
    "        self.conv1 = nn.Conv2d(3, 32, kernel_size=4, stride=1, padding=1)\n",
    "        self.conv2 = nn.Conv2d(32, 64, kernel_size=4, stride=1, padding=1)\n",
    "        self.conv3 = nn.Conv2d(64, 64, kernel_size=4, stride=1, padding=1)\n",
    "#         self.conv4 = nn.Conv2d(64, 64, kernel_size=2, stride=1, padding=1)\n",
    "        self.dropout = nn.Dropout(0.5)\n",
    "        self.fc1 = nn.Linear(7*7*64, 256)\n",
    "        self.fc2 = nn.Linear(256, 1)\n",
    "\n",
    "    def forward(self, x):\n",
    "        # Conv layer 1.\n",
    "        x = self.conv1(x)\n",
    "        x = F.relu(x)\n",
    "        x = F.max_pool2d(x, kernel_size=2)\n",
    "    #     x = self.dropout(x)\n",
    "\n",
    "        # Conv layer 2.\n",
    "        x = self.conv2(x)\n",
    "        x = F.relu(x)\n",
    "        x = F.max_pool2d(x, kernel_size=2)\n",
    "        x = self.dropout(x)\n",
    "\n",
    "        # Conv layer 3.\n",
    "        x = self.conv3(x)\n",
    "        x = F.relu(x)\n",
    "        x = F.max_pool2d(x, kernel_size=2)\n",
    "        x = self.dropout(x)\n",
    "\n",
    "        # Fully connected layer 1.\n",
    "        x = torch.flatten(x,1)  # You have to first flatten the ourput from the\n",
    "                                # previous convolution layer.\n",
    "        x = self.fc1(x)\n",
    "        x = F.relu(x)\n",
    "        x = self.dropout(x)\n",
    "\n",
    "        # Fully connected layer 2.\n",
    "        x = self.fc2(x)\n",
    "        x = x.squeeze()\n",
    "\n",
    "        return x"
   ]
  },
  {
   "cell_type": "code",
   "execution_count": 14,
   "metadata": {},
   "outputs": [],
   "source": [
    "# Create a sample network\n",
    "class conv_net2(nn.Module):\n",
    "    def __init__(self):\n",
    "        super().__init__()\n",
    "        # First define the layers.\n",
    "        self.conv1 = nn.Conv2d(3, 32, kernel_size=4, stride=1, padding=1)\n",
    "        self.conv2 = nn.Conv2d(32, 64, kernel_size=3, stride=1, padding=1)\n",
    "        self.conv3 = nn.Conv2d(64, 64, kernel_size=2, stride=1, padding=1)\n",
    "        self.conv4 = nn.Conv2d(64, 64, kernel_size=2, stride=1, padding=1)\n",
    "        self.dropout = nn.Dropout(0.5)\n",
    "        self.fc1 = nn.Linear(4*4*64, 256)\n",
    "        self.fc2 = nn.Linear(256, 1)\n",
    "\n",
    "    def forward(self, x):\n",
    "        # Conv layer 1.\n",
    "        x = self.conv1(x)\n",
    "        x = F.relu(x)\n",
    "        x = F.max_pool2d(x, kernel_size=2)\n",
    "    #     x = self.dropout(x)\n",
    "\n",
    "        # Conv layer 2.\n",
    "        x = self.conv2(x)\n",
    "        x = F.relu(x)\n",
    "        x = F.max_pool2d(x, kernel_size=2)\n",
    "        x = self.dropout(x)\n",
    "\n",
    "        # Conv layer 3.\n",
    "        x = self.conv3(x)\n",
    "        x = F.relu(x)\n",
    "        x = F.max_pool2d(x, kernel_size=2)\n",
    "        x = self.dropout(x)\n",
    "        \n",
    "        # Conv layer 4.\n",
    "        x = self.conv4(x)\n",
    "        x = F.relu(x)\n",
    "        x = F.max_pool2d(x, kernel_size=2)\n",
    "#         x = self.dropout(x)\n",
    "\n",
    "        # Fully connected layer 1.\n",
    "        x = torch.flatten(x,1)  # You have to first flatten the ourput from the\n",
    "                                # previous convolution layer.\n",
    "        x = self.fc1(x)\n",
    "        x = F.relu(x)\n",
    "        x = self.dropout(x)\n",
    "\n",
    "        # Fully connected layer 2.\n",
    "        x = self.fc2(x)\n",
    "        x = x.squeeze()\n",
    "\n",
    "        return x"
   ]
  },
  {
   "cell_type": "markdown",
   "metadata": {},
   "source": [
    "Training and testing functions"
   ]
  },
  {
   "cell_type": "code",
   "execution_count": 15,
   "metadata": {},
   "outputs": [],
   "source": [
    "def calc_error(output,target):\n",
    "    return np.abs(output-target)/target"
   ]
  },
  {
   "cell_type": "code",
   "execution_count": 20,
   "metadata": {
    "id": "TLSyRsMgnikX"
   },
   "outputs": [],
   "source": [
    "#define the train and test loops, and a wrapper that will call them to train and collect validation stats\n",
    "\n",
    "def train(args, model, train_loader, optimizer,\n",
    "          reg_function1=None, reg_function2=None, criterion=F.nll_loss):\n",
    "    \"\"\"\n",
    "    Trains the current inpur model using the data\n",
    "    from Train_loader and Updates parameters for a single pass\n",
    "    \"\"\"\n",
    "    device = args['device']\n",
    "    model.train()\n",
    "    for batch_idx, (data, target, index) in enumerate(train_loader):\n",
    "        data, target = data.to(device), target.to(device)\n",
    "        optimizer.zero_grad()\n",
    "        output = model(data)\n",
    "        if reg_function1 is None:\n",
    "            loss = criterion(output, target)\n",
    "        elif reg_function2 is None:\n",
    "            loss = criterion(output, target)+args['lambda']*reg_function1(model)\n",
    "        else:\n",
    "            loss = criterion(output, target) + args['lambda1']*reg_function1(model) + args['lambda2']*reg_function2(model)\n",
    "        loss.backward()\n",
    "        optimizer.step()\n",
    "\n",
    "    return model\n",
    "\n",
    "\n",
    "def test(model, test_loader, criterion=F.nll_loss, device='cpu'):\n",
    "    \"\"\"\n",
    "    Tests the current Model\n",
    "    \"\"\"\n",
    "    model.eval()\n",
    "    test_loss = 0\n",
    "    perc_error = 0\n",
    "    \n",
    "    with torch.no_grad():\n",
    "        for data, target, index in test_loader:\n",
    "            data, target = data.to(device), target.to(device)\n",
    "            output = model(data)\n",
    "            test_loss += criterion(output, target, reduction='sum').item()  # sum up batch loss\n",
    "            perc_error += np.sum(calc_error(output.cpu().detach().numpy(),target.cpu().detach().numpy()))\n",
    "    test_loss /= len(test_loader.dataset)\n",
    "    perc_error /= len(test_loader.dataset)\n",
    "    return test_loss, perc_error\n",
    "\n",
    "\n",
    "# def main(args, model, train_loader, val_loader,\n",
    "#          reg_function1=None, reg_function2=None):\n",
    "#   \"\"\"\n",
    "#   Trains the model with train_loader and tests the learned model using val_loader\n",
    "#   \"\"\"\n",
    "\n",
    "#   device = args['device']\n",
    "\n",
    "#   model = model.to(device)\n",
    "#   optimizer = optim.SGD(model.parameters(), lr=args['lr'],\n",
    "#                         momentum=args['momentum'])\n",
    "\n",
    "#   val_loss_list, train_loss_list,param_norm_list = [], [], []\n",
    "#   for epoch in tqdm(range(args['epochs'])):\n",
    "#     trained_model = train(args, model, train_loader, optimizer,\n",
    "#                           reg_function1=reg_function1,\n",
    "#                           reg_function2=reg_function2)\n",
    "#     train_loss = test(trained_model, train_loader, device=device)\n",
    "#     val_loss = test(trained_model, val_loader, device=device)\n",
    "#     print(train_loss, val_loss)\n",
    "#     # param_norm = calculate_frobenius_norm(trained_model)\n",
    "#     train_loss_list.append(train_loss)\n",
    "#     val_loss_list.append(val_loss)\n",
    "#     # param_norm_list.append(param_norm)\n",
    "\n",
    "#   return val_acc_list, train_acc_list, trained_model\n",
    "\n",
    "def early_stopping_main(args, model, train_loader, val_loader, criterion, reg_function1=None, reg_function2=None):\n",
    "    device = args['device']\n",
    "    model = model.to(device)\n",
    "#     optimizer = optim.SGD(model.parameters(),\n",
    "#                         lr=args['lr'],\n",
    "#                         momentum=args['momentum'])\n",
    "    kwargs = {'params': model.parameters(), 'lr': args['lr']}\n",
    "    if args['optimizer'] in ['SGD', 'RMSprop']: kwargs['momentum'] = args['momentum']\n",
    "    optimizer = getattr(optim, args['optimizer'])(**kwargs)\n",
    "    best_acc = float('inf')\n",
    "    best_epoch = 0\n",
    "\n",
    "    # Number of successive epochs that you want to wait before stopping training process\n",
    "    patience = 30\n",
    "\n",
    "    # Keps track of number of epochs during which the val_acc was less than best_acc\n",
    "    wait = 0\n",
    "\n",
    "    val_acc_list, train_acc_list, val_error_list, train_error_list = [], [], [], []\n",
    "    for epoch in tqdm(range(args['epochs'])):\n",
    "\n",
    "        # train the model\n",
    "        trained_model = train(args, model, train_loader, optimizer,\n",
    "                              reg_function1=reg_function1,\n",
    "                              reg_function2=reg_function2,\n",
    "                              criterion=criterion)\n",
    "\n",
    "        # calculate training accuracy\n",
    "        train_loss, train_perc_error = test(trained_model, train_loader, criterion=criterion, device=device)\n",
    "\n",
    "        # calculate validation accuracy\n",
    "        val_loss, val_perc_error = test(trained_model, val_loader, criterion=criterion, device=device)\n",
    "        best_model = None\n",
    "        if (val_perc_error < best_acc):\n",
    "            best_acc = val_perc_error\n",
    "            best_epoch = epoch\n",
    "            best_model = copy.deepcopy(trained_model)\n",
    "            wait = 0\n",
    "        else:\n",
    "            wait += 1\n",
    "\n",
    "        if (wait > patience):\n",
    "            print(f'early stopped on epoch: {epoch}')\n",
    "            break\n",
    "\n",
    "        train_acc_list.append(train_loss)\n",
    "        val_acc_list.append(val_loss)\n",
    "        train_error_list.append(train_perc_error)\n",
    "        val_error_list.append(val_perc_error)\n",
    "#         print(train_loss, val_loss, train_perc_error, val_perc_error)\n",
    "    #save the model\n",
    "#     if('checkpoint_path' in args):\n",
    "#         torch.save({\n",
    "#           'model_state_dict': best_model.state_dict(),\n",
    "#           'optimizer_state_dict': optimizer.state_dict()\n",
    "#           }, args['checkpoint_path'])\n",
    "\n",
    "    return val_acc_list, train_acc_list, train_error_list, val_error_list, best_model, best_epoch\n"
   ]
  },
  {
   "cell_type": "code",
   "execution_count": 21,
   "metadata": {},
   "outputs": [],
   "source": [
    "def optuna_objective(trial):\n",
    "    cnn_lr = trial.suggest_float('cnn_lr', 1e-6, 1e2, log=True)\n",
    "    cnn_momentum = trial.suggest_float('cnn_momentum', 0.001, 1, log=True)\n",
    "    optimizer_name = trial.suggest_categorical(\"optimizer\", [\"Adam\", \"RMSprop\", \"SGD\"])\n",
    "    args = {\n",
    "        'optimizer': optimizer_name,\n",
    "        'epochs': 200,\n",
    "        'lr': cnn_lr,\n",
    "        'momentum': cnn_momentum,\n",
    "        'device': DEVICE,\n",
    "        'checkpoint_path': './simpleCNN.pt'\n",
    "        }\n",
    "    \n",
    "    set_seed(seed=SEED)\n",
    "    model = conv_net2()\n",
    "    val_loss_pure, train_loss_pure, train_error_list, val_error_list, model, best_epoch= early_stopping_main(args=args,\n",
    "                                                                model=model,\n",
    "                                                                train_loader=train_loader,\n",
    "                                                                val_loader=val_loader,\n",
    "                                                                criterion=F.mse_loss)\n",
    "    score = min(val_error_list)\n",
    "    return score\n",
    "\n"
   ]
  },
  {
   "cell_type": "code",
   "execution_count": 22,
   "metadata": {},
   "outputs": [
    {
     "name": "stdout",
     "output_type": "stream",
     "text": [
      "https://app.neptune.ai/kkarbasi/nma-dl/e/NMAD-4\n",
      "Remember to stop your run once you’ve finished logging your metadata (https://docs.neptune.ai/api-reference/run#stop). It will be stopped automatically only when the notebook kernel/interactive console is terminated.\n"
     ]
    }
   ],
   "source": [
    "NEPTUNE_API_TOKEN='eyJhcGlfYWRkcmVzcyI6Imh0dHBzOi8vYXBwLm5lcHR1bmUuYWkiLCJhcGlfdXJsIjoiaHR0cHM6Ly9hcHAubmVwdHVuZS5haSIsImFwaV9rZXkiOiJhYTk4Zjg0Zi1lYjNhLTRiNGMtODdhMy0zMjEyMjEzYWY4MjEifQ=='\n",
    "\n",
    "\n",
    "run = neptune.init(project='kkarbasi/nma-dl',\n",
    "             api_token=NEPTUNE_API_TOKEN,\n",
    "             tags=['regression', 'cnn']\n",
    "             )\n",
    "\n",
    "run['optimizer/hyperparameters'] = 'optuna'\n",
    "\n",
    "neptune_callback = optuna_utils.NeptuneCallback(run,\n",
    "                                               log_plot_contour=False,  # do not create/log plot_slice\n",
    "                                               )"
   ]
  },
  {
   "cell_type": "code",
   "execution_count": null,
   "metadata": {
    "scrolled": false
   },
   "outputs": [
    {
     "name": "stderr",
     "output_type": "stream",
     "text": [
      "\u001b[32m[I 2021-08-17 20:23:58,140]\u001b[0m A new study created in memory with name: no-name-ba62a76f-7835-4f48-aebe-6b5a25b02970\u001b[0m\n"
     ]
    },
    {
     "name": "stdout",
     "output_type": "stream",
     "text": [
      "Random seed 2021 has been set.\n"
     ]
    },
    {
     "data": {
      "application/vnd.jupyter.widget-view+json": {
       "model_id": "581c51e1229f400d80a52c723ba84d07",
       "version_major": 2,
       "version_minor": 0
      },
      "text/plain": [
       "HBox(children=(HTML(value=''), FloatProgress(value=0.0, max=200.0), HTML(value='')))"
      ]
     },
     "metadata": {},
     "output_type": "display_data"
    },
    {
     "name": "stderr",
     "output_type": "stream",
     "text": [
      "\u001b[32m[I 2021-08-17 20:32:01,750]\u001b[0m Trial 0 finished with value: 0.29181223402023315 and parameters: {'cnn_lr': 1.4002722766788721e-05, 'cnn_momentum': 0.008719759210970733, 'optimizer': 'Adam'}. Best is trial 0 with value: 0.29181223402023315.\u001b[0m\n"
     ]
    },
    {
     "name": "stdout",
     "output_type": "stream",
     "text": [
      "early stopped on epoch: 50\n",
      "\n",
      "Random seed 2021 has been set.\n"
     ]
    },
    {
     "data": {
      "application/vnd.jupyter.widget-view+json": {
       "model_id": "55657c5732a04908910018bdc695bc17",
       "version_major": 2,
       "version_minor": 0
      },
      "text/plain": [
       "HBox(children=(HTML(value=''), FloatProgress(value=0.0, max=200.0), HTML(value='')))"
      ]
     },
     "metadata": {},
     "output_type": "display_data"
    },
    {
     "name": "stderr",
     "output_type": "stream",
     "text": [
      "\u001b[32m[I 2021-08-17 20:45:37,441]\u001b[0m Trial 1 finished with value: 0.12014615125656128 and parameters: {'cnn_lr': 0.028703641593234033, 'cnn_momentum': 0.042341783819905894, 'optimizer': 'SGD'}. Best is trial 1 with value: 0.12014615125656128.\u001b[0m\n"
     ]
    },
    {
     "name": "stdout",
     "output_type": "stream",
     "text": [
      "early stopped on epoch: 85\n",
      "\n",
      "Random seed 2021 has been set.\n"
     ]
    },
    {
     "data": {
      "application/vnd.jupyter.widget-view+json": {
       "model_id": "215c7810536745a6899ab2298bb93c31",
       "version_major": 2,
       "version_minor": 0
      },
      "text/plain": [
       "HBox(children=(HTML(value=''), FloatProgress(value=0.0, max=200.0), HTML(value='')))"
      ]
     },
     "metadata": {},
     "output_type": "display_data"
    },
    {
     "name": "stderr",
     "output_type": "stream",
     "text": [
      "\u001b[32m[I 2021-08-17 21:17:06,840]\u001b[0m Trial 2 finished with value: 0.08149098286628723 and parameters: {'cnn_lr': 0.00038413048078536063, 'cnn_momentum': 0.04048300142402773, 'optimizer': 'RMSprop'}. Best is trial 2 with value: 0.08149098286628723.\u001b[0m\n"
     ]
    },
    {
     "name": "stdout",
     "output_type": "stream",
     "text": [
      "early stopped on epoch: 198\n",
      "\n",
      "Random seed 2021 has been set.\n"
     ]
    },
    {
     "data": {
      "application/vnd.jupyter.widget-view+json": {
       "model_id": "befff71533824e54ad36df67c824e936",
       "version_major": 2,
       "version_minor": 0
      },
      "text/plain": [
       "HBox(children=(HTML(value=''), FloatProgress(value=0.0, max=200.0), HTML(value='')))"
      ]
     },
     "metadata": {},
     "output_type": "display_data"
    },
    {
     "name": "stderr",
     "output_type": "stream",
     "text": [
      "\u001b[33m[W 2021-08-17 21:22:01,756]\u001b[0m Trial 3 failed, because the objective function returned nan.\u001b[0m\n"
     ]
    },
    {
     "name": "stdout",
     "output_type": "stream",
     "text": [
      "early stopped on epoch: 30\n",
      "\n",
      "Random seed 2021 has been set.\n"
     ]
    },
    {
     "data": {
      "application/vnd.jupyter.widget-view+json": {
       "model_id": "67fcb23571014bbfb2d5b5ba80e12136",
       "version_major": 2,
       "version_minor": 0
      },
      "text/plain": [
       "HBox(children=(HTML(value=''), FloatProgress(value=0.0, max=200.0), HTML(value='')))"
      ]
     },
     "metadata": {},
     "output_type": "display_data"
    },
    {
     "name": "stderr",
     "output_type": "stream",
     "text": [
      "\u001b[32m[I 2021-08-17 21:27:06,384]\u001b[0m Trial 4 finished with value: 0.529821530342102 and parameters: {'cnn_lr': 0.008527572362756499, 'cnn_momentum': 0.42631997805147515, 'optimizer': 'Adam'}. Best is trial 2 with value: 0.08149098286628723.\u001b[0m\n"
     ]
    },
    {
     "name": "stdout",
     "output_type": "stream",
     "text": [
      "early stopped on epoch: 31\n",
      "\n",
      "Random seed 2021 has been set.\n"
     ]
    },
    {
     "data": {
      "application/vnd.jupyter.widget-view+json": {
       "model_id": "30a7e1a0d4944d19a23a15aba0022f2a",
       "version_major": 2,
       "version_minor": 0
      },
      "text/plain": [
       "HBox(children=(HTML(value=''), FloatProgress(value=0.0, max=200.0), HTML(value='')))"
      ]
     },
     "metadata": {},
     "output_type": "display_data"
    },
    {
     "name": "stderr",
     "output_type": "stream",
     "text": [
      "\u001b[32m[I 2021-08-17 21:45:37,845]\u001b[0m Trial 5 finished with value: 0.09388551003932953 and parameters: {'cnn_lr': 0.0008188558457252952, 'cnn_momentum': 0.005175300382580256, 'optimizer': 'Adam'}. Best is trial 2 with value: 0.08149098286628723.\u001b[0m\n"
     ]
    },
    {
     "name": "stdout",
     "output_type": "stream",
     "text": [
      "early stopped on epoch: 116\n",
      "\n",
      "Random seed 2021 has been set.\n"
     ]
    },
    {
     "data": {
      "application/vnd.jupyter.widget-view+json": {
       "model_id": "a1458dcc578341afb5802e6036b73b9e",
       "version_major": 2,
       "version_minor": 0
      },
      "text/plain": [
       "HBox(children=(HTML(value=''), FloatProgress(value=0.0, max=200.0), HTML(value='')))"
      ]
     },
     "metadata": {},
     "output_type": "display_data"
    },
    {
     "name": "stderr",
     "output_type": "stream",
     "text": [
      "\u001b[32m[I 2021-08-17 21:51:29,803]\u001b[0m Trial 6 finished with value: 0.28903490381240843 and parameters: {'cnn_lr': 4.341182544182009e-05, 'cnn_momentum': 0.10710799096316742, 'optimizer': 'Adam'}. Best is trial 2 with value: 0.08149098286628723.\u001b[0m\n"
     ]
    },
    {
     "name": "stdout",
     "output_type": "stream",
     "text": [
      "early stopped on epoch: 36\n",
      "\n",
      "Random seed 2021 has been set.\n"
     ]
    },
    {
     "data": {
      "application/vnd.jupyter.widget-view+json": {
       "model_id": "7729f165513a407bb888475ca22ef3b1",
       "version_major": 2,
       "version_minor": 0
      },
      "text/plain": [
       "HBox(children=(HTML(value=''), FloatProgress(value=0.0, max=200.0), HTML(value='')))"
      ]
     },
     "metadata": {},
     "output_type": "display_data"
    },
    {
     "name": "stderr",
     "output_type": "stream",
     "text": [
      "\u001b[33m[W 2021-08-17 21:56:22,785]\u001b[0m Trial 7 failed, because the objective function returned nan.\u001b[0m\n"
     ]
    },
    {
     "name": "stdout",
     "output_type": "stream",
     "text": [
      "early stopped on epoch: 30\n",
      "\n",
      "Random seed 2021 has been set.\n"
     ]
    },
    {
     "data": {
      "application/vnd.jupyter.widget-view+json": {
       "model_id": "50080f9a1d64409b8a74d9fa6f2ff825",
       "version_major": 2,
       "version_minor": 0
      },
      "text/plain": [
       "HBox(children=(HTML(value=''), FloatProgress(value=0.0, max=200.0), HTML(value='')))"
      ]
     },
     "metadata": {},
     "output_type": "display_data"
    },
    {
     "name": "stderr",
     "output_type": "stream",
     "text": [
      "\u001b[32m[I 2021-08-17 22:27:53,232]\u001b[0m Trial 8 finished with value: 0.44092354803085326 and parameters: {'cnn_lr': 1.7323974638597763e-06, 'cnn_momentum': 0.0018756304646708355, 'optimizer': 'SGD'}. Best is trial 2 with value: 0.08149098286628723.\u001b[0m\n"
     ]
    },
    {
     "name": "stdout",
     "output_type": "stream",
     "text": [
      "\n",
      "Random seed 2021 has been set.\n"
     ]
    },
    {
     "data": {
      "application/vnd.jupyter.widget-view+json": {
       "model_id": "d33748626c034b4d8ee85e9423222bc4",
       "version_major": 2,
       "version_minor": 0
      },
      "text/plain": [
       "HBox(children=(HTML(value=''), FloatProgress(value=0.0, max=200.0), HTML(value='')))"
      ]
     },
     "metadata": {},
     "output_type": "display_data"
    },
    {
     "name": "stderr",
     "output_type": "stream",
     "text": [
      "\u001b[33m[W 2021-08-17 22:32:47,941]\u001b[0m Trial 9 failed, because the objective function returned nan.\u001b[0m\n"
     ]
    },
    {
     "name": "stdout",
     "output_type": "stream",
     "text": [
      "early stopped on epoch: 30\n",
      "\n",
      "Random seed 2021 has been set.\n"
     ]
    },
    {
     "data": {
      "application/vnd.jupyter.widget-view+json": {
       "model_id": "0558bb0b43ff4ca7a3f5dfc45cf24720",
       "version_major": 2,
       "version_minor": 0
      },
      "text/plain": [
       "HBox(children=(HTML(value=''), FloatProgress(value=0.0, max=200.0), HTML(value='')))"
      ]
     },
     "metadata": {},
     "output_type": "display_data"
    },
    {
     "name": "stderr",
     "output_type": "stream",
     "text": [
      "\u001b[33m[W 2021-08-17 22:37:41,747]\u001b[0m Trial 10 failed, because the objective function returned nan.\u001b[0m\n"
     ]
    },
    {
     "name": "stdout",
     "output_type": "stream",
     "text": [
      "early stopped on epoch: 30\n",
      "\n",
      "Random seed 2021 has been set.\n"
     ]
    },
    {
     "data": {
      "application/vnd.jupyter.widget-view+json": {
       "model_id": "fee99395c38345cb829a7f1593b4031f",
       "version_major": 2,
       "version_minor": 0
      },
      "text/plain": [
       "HBox(children=(HTML(value=''), FloatProgress(value=0.0, max=200.0), HTML(value='')))"
      ]
     },
     "metadata": {},
     "output_type": "display_data"
    },
    {
     "name": "stderr",
     "output_type": "stream",
     "text": [
      "\u001b[32m[I 2021-08-17 22:47:50,242]\u001b[0m Trial 11 finished with value: 1554555175039926.2 and parameters: {'cnn_lr': 0.41921377880572924, 'cnn_momentum': 0.0012050070204353489, 'optimizer': 'RMSprop'}. Best is trial 2 with value: 0.08149098286628723.\u001b[0m\n"
     ]
    },
    {
     "name": "stdout",
     "output_type": "stream",
     "text": [
      "early stopped on epoch: 63\n",
      "\n",
      "Random seed 2021 has been set.\n"
     ]
    },
    {
     "data": {
      "application/vnd.jupyter.widget-view+json": {
       "model_id": "9df767e674fb42349a2bebdb90a810a1",
       "version_major": 2,
       "version_minor": 0
      },
      "text/plain": [
       "HBox(children=(HTML(value=''), FloatProgress(value=0.0, max=200.0), HTML(value='')))"
      ]
     },
     "metadata": {},
     "output_type": "display_data"
    },
    {
     "name": "stderr",
     "output_type": "stream",
     "text": [
      "\u001b[32m[I 2021-08-17 23:00:03,080]\u001b[0m Trial 12 finished with value: 7.095403101216928e+16 and parameters: {'cnn_lr': 0.8136507300588016, 'cnn_momentum': 0.004306052602972765, 'optimizer': 'RMSprop'}. Best is trial 2 with value: 0.08149098286628723.\u001b[0m\n"
     ]
    },
    {
     "name": "stdout",
     "output_type": "stream",
     "text": [
      "early stopped on epoch: 76\n",
      "\n",
      "Random seed 2021 has been set.\n"
     ]
    },
    {
     "data": {
      "application/vnd.jupyter.widget-view+json": {
       "model_id": "0a575dfa88354e07adc188b261fe0c41",
       "version_major": 2,
       "version_minor": 0
      },
      "text/plain": [
       "HBox(children=(HTML(value=''), FloatProgress(value=0.0, max=200.0), HTML(value='')))"
      ]
     },
     "metadata": {},
     "output_type": "display_data"
    },
    {
     "name": "stderr",
     "output_type": "stream",
     "text": [
      "\u001b[32m[I 2021-08-17 23:06:24,502]\u001b[0m Trial 13 finished with value: 4.043839449895159e+17 and parameters: {'cnn_lr': 10.319965776054001, 'cnn_momentum': 0.12472937038489385, 'optimizer': 'Adam'}. Best is trial 2 with value: 0.08149098286628723.\u001b[0m\n"
     ]
    },
    {
     "name": "stdout",
     "output_type": "stream",
     "text": [
      "early stopped on epoch: 39\n",
      "\n",
      "Random seed 2021 has been set.\n"
     ]
    },
    {
     "data": {
      "application/vnd.jupyter.widget-view+json": {
       "model_id": "b37eb60bb0ca4755a84eb374d68be1f6",
       "version_major": 2,
       "version_minor": 0
      },
      "text/plain": [
       "HBox(children=(HTML(value=''), FloatProgress(value=0.0, max=200.0), HTML(value='')))"
      ]
     },
     "metadata": {},
     "output_type": "display_data"
    },
    {
     "name": "stderr",
     "output_type": "stream",
     "text": [
      "\u001b[32m[I 2021-08-17 23:13:05,917]\u001b[0m Trial 14 finished with value: 0.21480720300674438 and parameters: {'cnn_lr': 0.0004995573168811557, 'cnn_momentum': 0.9307069278508754, 'optimizer': 'RMSprop'}. Best is trial 2 with value: 0.08149098286628723.\u001b[0m\n"
     ]
    },
    {
     "name": "stdout",
     "output_type": "stream",
     "text": [
      "early stopped on epoch: 41\n",
      "\n",
      "Random seed 2021 has been set.\n"
     ]
    },
    {
     "data": {
      "application/vnd.jupyter.widget-view+json": {
       "model_id": "1a2a53f807f5479987394a75de12359a",
       "version_major": 2,
       "version_minor": 0
      },
      "text/plain": [
       "HBox(children=(HTML(value=''), FloatProgress(value=0.0, max=200.0), HTML(value='')))"
      ]
     },
     "metadata": {},
     "output_type": "display_data"
    },
    {
     "name": "stderr",
     "output_type": "stream",
     "text": [
      "\u001b[32m[I 2021-08-17 23:29:15,355]\u001b[0m Trial 15 finished with value: 0.09510746126174927 and parameters: {'cnn_lr': 0.0011714183782788935, 'cnn_momentum': 0.011338110504027577, 'optimizer': 'RMSprop'}. Best is trial 2 with value: 0.08149098286628723.\u001b[0m\n"
     ]
    },
    {
     "name": "stdout",
     "output_type": "stream",
     "text": [
      "early stopped on epoch: 101\n",
      "\n",
      "Random seed 2021 has been set.\n"
     ]
    },
    {
     "data": {
      "application/vnd.jupyter.widget-view+json": {
       "model_id": "2f6007f23af74b2db719d40f839aeaea",
       "version_major": 2,
       "version_minor": 0
      },
      "text/plain": [
       "HBox(children=(HTML(value=''), FloatProgress(value=0.0, max=200.0), HTML(value='')))"
      ]
     },
     "metadata": {},
     "output_type": "display_data"
    },
    {
     "name": "stderr",
     "output_type": "stream",
     "text": [
      "\u001b[32m[I 2021-08-17 23:55:26,318]\u001b[0m Trial 16 finished with value: 0.08540155419111252 and parameters: {'cnn_lr': 0.00023711054676159876, 'cnn_momentum': 0.032276505813719214, 'optimizer': 'RMSprop'}. Best is trial 2 with value: 0.08149098286628723.\u001b[0m\n"
     ]
    },
    {
     "name": "stdout",
     "output_type": "stream",
     "text": [
      "early stopped on epoch: 164\n",
      "\n",
      "Random seed 2021 has been set.\n"
     ]
    },
    {
     "data": {
      "application/vnd.jupyter.widget-view+json": {
       "model_id": "a523df1bfb514cbe8b3e7345a87b642c",
       "version_major": 2,
       "version_minor": 0
      },
      "text/plain": [
       "HBox(children=(HTML(value=''), FloatProgress(value=0.0, max=200.0), HTML(value='')))"
      ]
     },
     "metadata": {},
     "output_type": "display_data"
    },
    {
     "name": "stderr",
     "output_type": "stream",
     "text": [
      "\u001b[32m[I 2021-08-18 00:01:48,101]\u001b[0m Trial 17 finished with value: 0.30819234466552736 and parameters: {'cnn_lr': 4.077974167475901e-05, 'cnn_momentum': 0.024358142834056833, 'optimizer': 'RMSprop'}. Best is trial 2 with value: 0.08149098286628723.\u001b[0m\n"
     ]
    },
    {
     "name": "stdout",
     "output_type": "stream",
     "text": [
      "early stopped on epoch: 39\n",
      "\n",
      "Random seed 2021 has been set.\n"
     ]
    },
    {
     "data": {
      "application/vnd.jupyter.widget-view+json": {
       "model_id": "6dddeb89d4664030b411607eec074832",
       "version_major": 2,
       "version_minor": 0
      },
      "text/plain": [
       "HBox(children=(HTML(value=''), FloatProgress(value=0.0, max=200.0), HTML(value='')))"
      ]
     },
     "metadata": {},
     "output_type": "display_data"
    },
    {
     "name": "stderr",
     "output_type": "stream",
     "text": [
      "\u001b[32m[I 2021-08-18 00:07:40,972]\u001b[0m Trial 18 finished with value: 0.38578549690246583 and parameters: {'cnn_lr': 0.031085492723859243, 'cnn_momentum': 0.04939912497011412, 'optimizer': 'RMSprop'}. Best is trial 2 with value: 0.08149098286628723.\u001b[0m\n"
     ]
    },
    {
     "name": "stdout",
     "output_type": "stream",
     "text": [
      "early stopped on epoch: 36\n",
      "\n",
      "Random seed 2021 has been set.\n"
     ]
    },
    {
     "data": {
      "application/vnd.jupyter.widget-view+json": {
       "model_id": "b96fb14e2e4d44009cc7085f665373b6",
       "version_major": 2,
       "version_minor": 0
      },
      "text/plain": [
       "HBox(children=(HTML(value=''), FloatProgress(value=0.0, max=200.0), HTML(value='')))"
      ]
     },
     "metadata": {},
     "output_type": "display_data"
    },
    {
     "name": "stderr",
     "output_type": "stream",
     "text": [
      "\u001b[32m[I 2021-08-18 00:39:28,996]\u001b[0m Trial 19 finished with value: 0.08941307747364044 and parameters: {'cnn_lr': 0.00016417861589264207, 'cnn_momentum': 0.13361145924704457, 'optimizer': 'RMSprop'}. Best is trial 2 with value: 0.08149098286628723.\u001b[0m\n"
     ]
    },
    {
     "name": "stdout",
     "output_type": "stream",
     "text": [
      "\n",
      "Random seed 2021 has been set.\n"
     ]
    },
    {
     "data": {
      "application/vnd.jupyter.widget-view+json": {
       "model_id": "5b92e299e61646dca4400e402bc6328a",
       "version_major": 2,
       "version_minor": 0
      },
      "text/plain": [
       "HBox(children=(HTML(value=''), FloatProgress(value=0.0, max=200.0), HTML(value='')))"
      ]
     },
     "metadata": {},
     "output_type": "display_data"
    },
    {
     "name": "stderr",
     "output_type": "stream",
     "text": [
      "\u001b[32m[I 2021-08-18 01:01:19,660]\u001b[0m Trial 20 finished with value: 0.3089052487373352 and parameters: {'cnn_lr': 2.378553986558376e-06, 'cnn_momentum': 0.018519803868571657, 'optimizer': 'RMSprop'}. Best is trial 2 with value: 0.08149098286628723.\u001b[0m\n"
     ]
    },
    {
     "name": "stdout",
     "output_type": "stream",
     "text": [
      "early stopped on epoch: 137\n",
      "\n",
      "Random seed 2021 has been set.\n"
     ]
    },
    {
     "data": {
      "application/vnd.jupyter.widget-view+json": {
       "model_id": "c79ae0448e0140dbb2f063d65f15d98c",
       "version_major": 2,
       "version_minor": 0
      },
      "text/plain": [
       "HBox(children=(HTML(value=''), FloatProgress(value=0.0, max=200.0), HTML(value='')))"
      ]
     },
     "metadata": {},
     "output_type": "display_data"
    },
    {
     "name": "stderr",
     "output_type": "stream",
     "text": [
      "\u001b[32m[I 2021-08-18 01:08:05,995]\u001b[0m Trial 21 finished with value: 0.22192607803344727 and parameters: {'cnn_lr': 0.004112033814970957, 'cnn_momentum': 0.2935463734424774, 'optimizer': 'SGD'}. Best is trial 2 with value: 0.08149098286628723.\u001b[0m\n"
     ]
    },
    {
     "name": "stdout",
     "output_type": "stream",
     "text": [
      "early stopped on epoch: 42\n",
      "\n",
      "Random seed 2021 has been set.\n"
     ]
    },
    {
     "data": {
      "application/vnd.jupyter.widget-view+json": {
       "model_id": "d9ee2be5b2244edeb156a874df865c88",
       "version_major": 2,
       "version_minor": 0
      },
      "text/plain": [
       "HBox(children=(HTML(value=''), FloatProgress(value=0.0, max=200.0), HTML(value='')))"
      ]
     },
     "metadata": {},
     "output_type": "display_data"
    },
    {
     "name": "stderr",
     "output_type": "stream",
     "text": [
      "\u001b[32m[I 2021-08-18 01:39:45,777]\u001b[0m Trial 22 finished with value: 12868196773763.482 and parameters: {'cnn_lr': 0.18486194194289346, 'cnn_momentum': 0.05852437206773959, 'optimizer': 'RMSprop'}. Best is trial 2 with value: 0.08149098286628723.\u001b[0m\n"
     ]
    },
    {
     "name": "stdout",
     "output_type": "stream",
     "text": [
      "\n",
      "Random seed 2021 has been set.\n"
     ]
    },
    {
     "data": {
      "application/vnd.jupyter.widget-view+json": {
       "model_id": "601399464bef48db85da2aff2a55288b",
       "version_major": 2,
       "version_minor": 0
      },
      "text/plain": [
       "HBox(children=(HTML(value=''), FloatProgress(value=0.0, max=200.0), HTML(value='')))"
      ]
     },
     "metadata": {},
     "output_type": "display_data"
    },
    {
     "name": "stderr",
     "output_type": "stream",
     "text": [
      "\u001b[32m[I 2021-08-18 01:47:12,102]\u001b[0m Trial 23 finished with value: 0.3082867311477661 and parameters: {'cnn_lr': 1.643952553879589e-05, 'cnn_momentum': 0.014333845794001305, 'optimizer': 'RMSprop'}. Best is trial 2 with value: 0.08149098286628723.\u001b[0m\n"
     ]
    },
    {
     "name": "stdout",
     "output_type": "stream",
     "text": [
      "early stopped on epoch: 46\n",
      "\n",
      "Random seed 2021 has been set.\n"
     ]
    },
    {
     "data": {
      "application/vnd.jupyter.widget-view+json": {
       "model_id": "3907b0ac72194aa88d4f428f7251be9a",
       "version_major": 2,
       "version_minor": 0
      },
      "text/plain": [
       "HBox(children=(HTML(value=''), FloatProgress(value=0.0, max=200.0), HTML(value='')))"
      ]
     },
     "metadata": {},
     "output_type": "display_data"
    },
    {
     "name": "stderr",
     "output_type": "stream",
     "text": [
      "\u001b[33m[W 2021-08-18 01:52:05,544]\u001b[0m Trial 24 failed, because the objective function returned nan.\u001b[0m\n"
     ]
    },
    {
     "name": "stdout",
     "output_type": "stream",
     "text": [
      "early stopped on epoch: 30\n",
      "\n",
      "Random seed 2021 has been set.\n"
     ]
    },
    {
     "data": {
      "application/vnd.jupyter.widget-view+json": {
       "model_id": "6a7cedd4478b4454b5c81e8b3d03c8fe",
       "version_major": 2,
       "version_minor": 0
      },
      "text/plain": [
       "HBox(children=(HTML(value=''), FloatProgress(value=0.0, max=200.0), HTML(value='')))"
      ]
     },
     "metadata": {},
     "output_type": "display_data"
    },
    {
     "name": "stderr",
     "output_type": "stream",
     "text": [
      "\u001b[32m[I 2021-08-18 02:19:56,079]\u001b[0m Trial 25 finished with value: 0.26806354808807376 and parameters: {'cnn_lr': 0.00019529667179950846, 'cnn_momentum': 0.08250894135767346, 'optimizer': 'SGD'}. Best is trial 2 with value: 0.08149098286628723.\u001b[0m\n"
     ]
    },
    {
     "name": "stdout",
     "output_type": "stream",
     "text": [
      "early stopped on epoch: 176\n",
      "\n",
      "Random seed 2021 has been set.\n"
     ]
    },
    {
     "data": {
      "application/vnd.jupyter.widget-view+json": {
       "model_id": "239ab37c0ce44aad9c2e6a4b12c973d8",
       "version_major": 2,
       "version_minor": 0
      },
      "text/plain": [
       "HBox(children=(HTML(value=''), FloatProgress(value=0.0, max=200.0), HTML(value='')))"
      ]
     },
     "metadata": {},
     "output_type": "display_data"
    },
    {
     "name": "stderr",
     "output_type": "stream",
     "text": [
      "\u001b[32m[I 2021-08-18 02:51:28,758]\u001b[0m Trial 26 finished with value: 0.08425079388618469 and parameters: {'cnn_lr': 0.00018091302168676119, 'cnn_momentum': 0.2878986382142009, 'optimizer': 'RMSprop'}. Best is trial 2 with value: 0.08149098286628723.\u001b[0m\n"
     ]
    },
    {
     "name": "stdout",
     "output_type": "stream",
     "text": [
      "\n",
      "Random seed 2021 has been set.\n"
     ]
    },
    {
     "data": {
      "application/vnd.jupyter.widget-view+json": {
       "model_id": "44c474c430534dbf8c86109078d98329",
       "version_major": 2,
       "version_minor": 0
      },
      "text/plain": [
       "HBox(children=(HTML(value=''), FloatProgress(value=0.0, max=200.0), HTML(value='')))"
      ]
     },
     "metadata": {},
     "output_type": "display_data"
    },
    {
     "name": "stderr",
     "output_type": "stream",
     "text": [
      "\u001b[32m[I 2021-08-18 03:07:57,069]\u001b[0m Trial 27 finished with value: 0.15182479040622712 and parameters: {'cnn_lr': 0.0025562540328393944, 'cnn_momentum': 0.2738513676320113, 'optimizer': 'RMSprop'}. Best is trial 2 with value: 0.08149098286628723.\u001b[0m\n"
     ]
    },
    {
     "name": "stdout",
     "output_type": "stream",
     "text": [
      "early stopped on epoch: 103\n",
      "\n",
      "Random seed 2021 has been set.\n"
     ]
    },
    {
     "data": {
      "application/vnd.jupyter.widget-view+json": {
       "model_id": "01df5e45d23045e191503fbf6ca37f38",
       "version_major": 2,
       "version_minor": 0
      },
      "text/plain": [
       "HBox(children=(HTML(value=''), FloatProgress(value=0.0, max=200.0), HTML(value='')))"
      ]
     },
     "metadata": {},
     "output_type": "display_data"
    },
    {
     "name": "stderr",
     "output_type": "stream",
     "text": [
      "\u001b[32m[I 2021-08-18 03:29:38,499]\u001b[0m Trial 28 finished with value: 0.09011095099449158 and parameters: {'cnn_lr': 0.00020107077209394403, 'cnn_momentum': 0.7377849478179299, 'optimizer': 'RMSprop'}. Best is trial 2 with value: 0.08149098286628723.\u001b[0m\n"
     ]
    },
    {
     "name": "stdout",
     "output_type": "stream",
     "text": [
      "early stopped on epoch: 136\n",
      "\n",
      "Random seed 2021 has been set.\n"
     ]
    },
    {
     "data": {
      "application/vnd.jupyter.widget-view+json": {
       "model_id": "1ce0a1c7359a4004a642ba7fc58398c3",
       "version_major": 2,
       "version_minor": 0
      },
      "text/plain": [
       "HBox(children=(HTML(value=''), FloatProgress(value=0.0, max=200.0), HTML(value='')))"
      ]
     },
     "metadata": {},
     "output_type": "display_data"
    },
    {
     "name": "stderr",
     "output_type": "stream",
     "text": [
      "\u001b[32m[I 2021-08-18 03:37:25,168]\u001b[0m Trial 29 finished with value: 0.3118127678871155 and parameters: {'cnn_lr': 1.3647668690307785e-05, 'cnn_momentum': 0.03066321768955557, 'optimizer': 'RMSprop'}. Best is trial 2 with value: 0.08149098286628723.\u001b[0m\n"
     ]
    },
    {
     "name": "stdout",
     "output_type": "stream",
     "text": [
      "early stopped on epoch: 48\n",
      "\n",
      "Random seed 2021 has been set.\n"
     ]
    },
    {
     "data": {
      "application/vnd.jupyter.widget-view+json": {
       "model_id": "d4e35caadc2b4cbc94b9ccb300af2532",
       "version_major": 2,
       "version_minor": 0
      },
      "text/plain": [
       "HBox(children=(HTML(value=''), FloatProgress(value=0.0, max=200.0), HTML(value='')))"
      ]
     },
     "metadata": {},
     "output_type": "display_data"
    },
    {
     "name": "stderr",
     "output_type": "stream",
     "text": [
      "\u001b[33m[W 2021-08-18 03:42:19,674]\u001b[0m Trial 30 failed, because the objective function returned nan.\u001b[0m\n"
     ]
    },
    {
     "name": "stdout",
     "output_type": "stream",
     "text": [
      "early stopped on epoch: 30\n",
      "\n",
      "Random seed 2021 has been set.\n"
     ]
    },
    {
     "data": {
      "application/vnd.jupyter.widget-view+json": {
       "model_id": "3ca05740f73e4058b4282e4c5962c935",
       "version_major": 2,
       "version_minor": 0
      },
      "text/plain": [
       "HBox(children=(HTML(value=''), FloatProgress(value=0.0, max=200.0), HTML(value='')))"
      ]
     },
     "metadata": {},
     "output_type": "display_data"
    },
    {
     "name": "stderr",
     "output_type": "stream",
     "text": [
      "\u001b[32m[I 2021-08-18 03:47:51,549]\u001b[0m Trial 31 finished with value: 0.2937905571460724 and parameters: {'cnn_lr': 7.079748729254634e-05, 'cnn_momentum': 0.2083182618559716, 'optimizer': 'RMSprop'}. Best is trial 2 with value: 0.08149098286628723.\u001b[0m\n"
     ]
    },
    {
     "name": "stdout",
     "output_type": "stream",
     "text": [
      "early stopped on epoch: 34\n",
      "\n",
      "Random seed 2021 has been set.\n"
     ]
    },
    {
     "data": {
      "application/vnd.jupyter.widget-view+json": {
       "model_id": "ba8392711031460192a8f43b52d29609",
       "version_major": 2,
       "version_minor": 0
      },
      "text/plain": [
       "HBox(children=(HTML(value=''), FloatProgress(value=0.0, max=200.0), HTML(value='')))"
      ]
     },
     "metadata": {},
     "output_type": "display_data"
    },
    {
     "name": "stderr",
     "output_type": "stream",
     "text": [
      "\u001b[33m[W 2021-08-18 03:52:46,521]\u001b[0m Trial 32 failed, because the objective function returned nan.\u001b[0m\n"
     ]
    },
    {
     "name": "stdout",
     "output_type": "stream",
     "text": [
      "early stopped on epoch: 30\n",
      "\n",
      "Random seed 2021 has been set.\n"
     ]
    },
    {
     "data": {
      "application/vnd.jupyter.widget-view+json": {
       "model_id": "00a07e6cf8fb46ecb3593a8f8b5425bc",
       "version_major": 2,
       "version_minor": 0
      },
      "text/plain": [
       "HBox(children=(HTML(value=''), FloatProgress(value=0.0, max=200.0), HTML(value='')))"
      ]
     },
     "metadata": {},
     "output_type": "display_data"
    },
    {
     "name": "stderr",
     "output_type": "stream",
     "text": [
      "\u001b[32m[I 2021-08-18 04:03:51,630]\u001b[0m Trial 33 finished with value: 0.3074975233078003 and parameters: {'cnn_lr': 4.044087720841188e-06, 'cnn_momentum': 0.46221737617980313, 'optimizer': 'RMSprop'}. Best is trial 2 with value: 0.08149098286628723.\u001b[0m\n"
     ]
    },
    {
     "name": "stdout",
     "output_type": "stream",
     "text": [
      "early stopped on epoch: 69\n",
      "\n",
      "Random seed 2021 has been set.\n"
     ]
    },
    {
     "data": {
      "application/vnd.jupyter.widget-view+json": {
       "model_id": "4ecf4b95e03a4e54b5acc6f912889c99",
       "version_major": 2,
       "version_minor": 0
      },
      "text/plain": [
       "HBox(children=(HTML(value=''), FloatProgress(value=0.0, max=200.0), HTML(value='')))"
      ]
     },
     "metadata": {},
     "output_type": "display_data"
    },
    {
     "name": "stderr",
     "output_type": "stream",
     "text": [
      "\u001b[32m[I 2021-08-18 04:09:33,811]\u001b[0m Trial 34 finished with value: 0.4270105896472931 and parameters: {'cnn_lr': 0.03923707526575231, 'cnn_momentum': 0.007598351167520523, 'optimizer': 'RMSprop'}. Best is trial 2 with value: 0.08149098286628723.\u001b[0m\n"
     ]
    },
    {
     "name": "stdout",
     "output_type": "stream",
     "text": [
      "early stopped on epoch: 35\n",
      "\n",
      "Random seed 2021 has been set.\n"
     ]
    },
    {
     "data": {
      "application/vnd.jupyter.widget-view+json": {
       "model_id": "be3c7ccfafd649588799a2f91235ec5c",
       "version_major": 2,
       "version_minor": 0
      },
      "text/plain": [
       "HBox(children=(HTML(value=''), FloatProgress(value=0.0, max=200.0), HTML(value='')))"
      ]
     },
     "metadata": {},
     "output_type": "display_data"
    },
    {
     "name": "stderr",
     "output_type": "stream",
     "text": [
      "\u001b[32m[I 2021-08-18 04:30:39,038]\u001b[0m Trial 35 finished with value: 0.11153480898141861 and parameters: {'cnn_lr': 0.0015194730788966827, 'cnn_momentum': 0.071453344251569, 'optimizer': 'RMSprop'}. Best is trial 2 with value: 0.08149098286628723.\u001b[0m\n"
     ]
    },
    {
     "name": "stdout",
     "output_type": "stream",
     "text": [
      "early stopped on epoch: 132\n",
      "\n",
      "Random seed 2021 has been set.\n"
     ]
    },
    {
     "data": {
      "application/vnd.jupyter.widget-view+json": {
       "model_id": "d599fc55f72a419a8262ec44be58caef",
       "version_major": 2,
       "version_minor": 0
      },
      "text/plain": [
       "HBox(children=(HTML(value=''), FloatProgress(value=0.0, max=200.0), HTML(value='')))"
      ]
     },
     "metadata": {},
     "output_type": "display_data"
    },
    {
     "name": "stderr",
     "output_type": "stream",
     "text": [
      "\u001b[32m[I 2021-08-18 04:47:28,574]\u001b[0m Trial 36 finished with value: 0.2713128316164017 and parameters: {'cnn_lr': 0.00036611805355977605, 'cnn_momentum': 0.18968599024235977, 'optimizer': 'SGD'}. Best is trial 2 with value: 0.08149098286628723.\u001b[0m\n"
     ]
    },
    {
     "name": "stdout",
     "output_type": "stream",
     "text": [
      "early stopped on epoch: 105\n",
      "\n",
      "Random seed 2021 has been set.\n"
     ]
    },
    {
     "data": {
      "application/vnd.jupyter.widget-view+json": {
       "model_id": "7fe95eb5564b4650b77fe0140cc5af9d",
       "version_major": 2,
       "version_minor": 0
      },
      "text/plain": [
       "HBox(children=(HTML(value=''), FloatProgress(value=0.0, max=200.0), HTML(value='')))"
      ]
     },
     "metadata": {},
     "output_type": "display_data"
    },
    {
     "name": "stderr",
     "output_type": "stream",
     "text": [
      "\u001b[32m[I 2021-08-18 04:55:54,757]\u001b[0m Trial 37 finished with value: 0.29468222675323485 and parameters: {'cnn_lr': 1.1376046467396065e-05, 'cnn_momentum': 0.030776893376635507, 'optimizer': 'Adam'}. Best is trial 2 with value: 0.08149098286628723.\u001b[0m\n"
     ]
    },
    {
     "name": "stdout",
     "output_type": "stream",
     "text": [
      "early stopped on epoch: 52\n",
      "\n",
      "Random seed 2021 has been set.\n"
     ]
    },
    {
     "data": {
      "application/vnd.jupyter.widget-view+json": {
       "model_id": "4fbae92322ce436abfccb57cf13662f0",
       "version_major": 2,
       "version_minor": 0
      },
      "text/plain": [
       "HBox(children=(HTML(value=''), FloatProgress(value=0.0, max=200.0), HTML(value='')))"
      ]
     },
     "metadata": {},
     "output_type": "display_data"
    },
    {
     "name": "stderr",
     "output_type": "stream",
     "text": [
      "\u001b[32m[I 2021-08-18 05:27:33,011]\u001b[0m Trial 38 finished with value: 0.08458655017018318 and parameters: {'cnn_lr': 0.0002518449921175314, 'cnn_momentum': 0.13079732308724543, 'optimizer': 'RMSprop'}. Best is trial 2 with value: 0.08149098286628723.\u001b[0m\n"
     ]
    },
    {
     "name": "stdout",
     "output_type": "stream",
     "text": [
      "\n",
      "Random seed 2021 has been set.\n"
     ]
    },
    {
     "data": {
      "application/vnd.jupyter.widget-view+json": {
       "model_id": "2d7b099a09884779b4d12e8079dbde2b",
       "version_major": 2,
       "version_minor": 0
      },
      "text/plain": [
       "HBox(children=(HTML(value=''), FloatProgress(value=0.0, max=200.0), HTML(value='')))"
      ]
     },
     "metadata": {},
     "output_type": "display_data"
    },
    {
     "name": "stderr",
     "output_type": "stream",
     "text": [
      "\u001b[32m[I 2021-08-18 05:33:05,378]\u001b[0m Trial 39 finished with value: 0.2970850176334381 and parameters: {'cnn_lr': 0.00010323783582182122, 'cnn_momentum': 0.0441505922542062, 'optimizer': 'RMSprop'}. Best is trial 2 with value: 0.08149098286628723.\u001b[0m\n"
     ]
    },
    {
     "name": "stdout",
     "output_type": "stream",
     "text": [
      "early stopped on epoch: 34\n",
      "\n",
      "Random seed 2021 has been set.\n"
     ]
    },
    {
     "data": {
      "application/vnd.jupyter.widget-view+json": {
       "model_id": "fbc1b65c7bac47a286ac983f2180d107",
       "version_major": 2,
       "version_minor": 0
      },
      "text/plain": [
       "HBox(children=(HTML(value=''), FloatProgress(value=0.0, max=200.0), HTML(value='')))"
      ]
     },
     "metadata": {},
     "output_type": "display_data"
    },
    {
     "name": "stderr",
     "output_type": "stream",
     "text": [
      "\u001b[32m[I 2021-08-18 05:39:54,664]\u001b[0m Trial 40 finished with value: 0.3113045163154602 and parameters: {'cnn_lr': 0.01056760901974216, 'cnn_momentum': 0.09196698890780966, 'optimizer': 'RMSprop'}. Best is trial 2 with value: 0.08149098286628723.\u001b[0m\n"
     ]
    },
    {
     "name": "stdout",
     "output_type": "stream",
     "text": [
      "early stopped on epoch: 42\n",
      "\n",
      "Random seed 2021 has been set.\n"
     ]
    },
    {
     "data": {
      "application/vnd.jupyter.widget-view+json": {
       "model_id": "481b6d96a7e24c14b6dfd381b544aa02",
       "version_major": 2,
       "version_minor": 0
      },
      "text/plain": [
       "HBox(children=(HTML(value=''), FloatProgress(value=0.0, max=200.0), HTML(value='')))"
      ]
     },
     "metadata": {},
     "output_type": "display_data"
    },
    {
     "name": "stderr",
     "output_type": "stream",
     "text": [
      "\u001b[32m[I 2021-08-18 05:45:55,340]\u001b[0m Trial 41 finished with value: 0.34144032299518584 and parameters: {'cnn_lr': 0.006979144626593034, 'cnn_momentum': 0.5324643086879854, 'optimizer': 'RMSprop'}. Best is trial 2 with value: 0.08149098286628723.\u001b[0m\n"
     ]
    },
    {
     "name": "stdout",
     "output_type": "stream",
     "text": [
      "early stopped on epoch: 37\n",
      "\n",
      "Random seed 2021 has been set.\n"
     ]
    },
    {
     "data": {
      "application/vnd.jupyter.widget-view+json": {
       "model_id": "b2064365a5c140a2bc7d3a7e83c11f68",
       "version_major": 2,
       "version_minor": 0
      },
      "text/plain": [
       "HBox(children=(HTML(value=''), FloatProgress(value=0.0, max=200.0), HTML(value='')))"
      ]
     },
     "metadata": {},
     "output_type": "display_data"
    },
    {
     "name": "stderr",
     "output_type": "stream",
     "text": [
      "\u001b[32m[I 2021-08-18 06:09:21,270]\u001b[0m Trial 42 finished with value: 0.09158023988008498 and parameters: {'cnn_lr': 0.0007400841391464476, 'cnn_momentum': 0.1859992673752836, 'optimizer': 'Adam'}. Best is trial 2 with value: 0.08149098286628723.\u001b[0m\n"
     ]
    },
    {
     "name": "stdout",
     "output_type": "stream",
     "text": [
      "early stopped on epoch: 147\n",
      "\n",
      "Random seed 2021 has been set.\n"
     ]
    },
    {
     "data": {
      "application/vnd.jupyter.widget-view+json": {
       "model_id": "9381be74d7284a8eb1c042c54a312f1a",
       "version_major": 2,
       "version_minor": 0
      },
      "text/plain": [
       "HBox(children=(HTML(value=''), FloatProgress(value=0.0, max=200.0), HTML(value='')))"
      ]
     },
     "metadata": {},
     "output_type": "display_data"
    },
    {
     "name": "stderr",
     "output_type": "stream",
     "text": [
      "\u001b[33m[W 2021-08-18 06:14:15,292]\u001b[0m Trial 43 failed, because the objective function returned nan.\u001b[0m\n"
     ]
    },
    {
     "name": "stdout",
     "output_type": "stream",
     "text": [
      "early stopped on epoch: 30\n",
      "\n",
      "Random seed 2021 has been set.\n"
     ]
    },
    {
     "data": {
      "application/vnd.jupyter.widget-view+json": {
       "model_id": "21c94f7a18564a92a9fe7692eb77db7b",
       "version_major": 2,
       "version_minor": 0
      },
      "text/plain": [
       "HBox(children=(HTML(value=''), FloatProgress(value=0.0, max=200.0), HTML(value='')))"
      ]
     },
     "metadata": {},
     "output_type": "display_data"
    },
    {
     "name": "stderr",
     "output_type": "stream",
     "text": [
      "\u001b[32m[I 2021-08-18 06:45:45,115]\u001b[0m Trial 44 finished with value: 0.30805520982742307 and parameters: {'cnn_lr': 2.8338477702501358e-05, 'cnn_momentum': 0.3312619167130039, 'optimizer': 'SGD'}. Best is trial 2 with value: 0.08149098286628723.\u001b[0m\n"
     ]
    },
    {
     "name": "stdout",
     "output_type": "stream",
     "text": [
      "\n",
      "Random seed 2021 has been set.\n"
     ]
    },
    {
     "data": {
      "application/vnd.jupyter.widget-view+json": {
       "model_id": "ffe70791b6b940c290cc335de8c9de8f",
       "version_major": 2,
       "version_minor": 0
      },
      "text/plain": [
       "HBox(children=(HTML(value=''), FloatProgress(value=0.0, max=200.0), HTML(value='')))"
      ]
     },
     "metadata": {},
     "output_type": "display_data"
    },
    {
     "name": "stderr",
     "output_type": "stream",
     "text": [
      "\u001b[32m[I 2021-08-18 06:58:17,564]\u001b[0m Trial 45 finished with value: 0.3080972615242004 and parameters: {'cnn_lr': 5.493037222857046e-06, 'cnn_momentum': 0.01965536777357957, 'optimizer': 'RMSprop'}. Best is trial 2 with value: 0.08149098286628723.\u001b[0m\n"
     ]
    },
    {
     "name": "stdout",
     "output_type": "stream",
     "text": [
      "early stopped on epoch: 78\n",
      "\n",
      "Random seed 2021 has been set.\n"
     ]
    },
    {
     "data": {
      "application/vnd.jupyter.widget-view+json": {
       "model_id": "9b4dd497604d4786a87fff71b50f1f74",
       "version_major": 2,
       "version_minor": 0
      },
      "text/plain": [
       "HBox(children=(HTML(value=''), FloatProgress(value=0.0, max=200.0), HTML(value='')))"
      ]
     },
     "metadata": {},
     "output_type": "display_data"
    },
    {
     "name": "stderr",
     "output_type": "stream",
     "text": [
      "\u001b[32m[I 2021-08-18 07:18:15,084]\u001b[0m Trial 46 finished with value: 0.10707218341827393 and parameters: {'cnn_lr': 0.00031799256478993207, 'cnn_momentum': 0.14554907818368398, 'optimizer': 'Adam'}. Best is trial 2 with value: 0.08149098286628723.\u001b[0m\n"
     ]
    },
    {
     "name": "stdout",
     "output_type": "stream",
     "text": [
      "early stopped on epoch: 125\n",
      "\n",
      "Random seed 2021 has been set.\n"
     ]
    },
    {
     "data": {
      "application/vnd.jupyter.widget-view+json": {
       "model_id": "7773f1dd8463439890120d719f8268c6",
       "version_major": 2,
       "version_minor": 0
      },
      "text/plain": [
       "HBox(children=(HTML(value=''), FloatProgress(value=0.0, max=200.0), HTML(value='')))"
      ]
     },
     "metadata": {},
     "output_type": "display_data"
    },
    {
     "name": "stderr",
     "output_type": "stream",
     "text": [
      "\u001b[33m[W 2021-08-18 07:23:09,391]\u001b[0m Trial 47 failed, because the objective function returned nan.\u001b[0m\n"
     ]
    },
    {
     "name": "stdout",
     "output_type": "stream",
     "text": [
      "early stopped on epoch: 30\n",
      "\n",
      "Random seed 2021 has been set.\n"
     ]
    },
    {
     "data": {
      "application/vnd.jupyter.widget-view+json": {
       "model_id": "4ff004a2ea7a4bda96ff888097402004",
       "version_major": 2,
       "version_minor": 0
      },
      "text/plain": [
       "HBox(children=(HTML(value=''), FloatProgress(value=0.0, max=200.0), HTML(value='')))"
      ]
     },
     "metadata": {},
     "output_type": "display_data"
    },
    {
     "name": "stderr",
     "output_type": "stream",
     "text": [
      "\u001b[33m[W 2021-08-18 07:28:03,855]\u001b[0m Trial 48 failed, because the objective function returned nan.\u001b[0m\n"
     ]
    },
    {
     "name": "stdout",
     "output_type": "stream",
     "text": [
      "early stopped on epoch: 30\n",
      "\n",
      "Random seed 2021 has been set.\n"
     ]
    },
    {
     "data": {
      "application/vnd.jupyter.widget-view+json": {
       "model_id": "5210bc8bd6524f8fbf983f593f28cf11",
       "version_major": 2,
       "version_minor": 0
      },
      "text/plain": [
       "HBox(children=(HTML(value=''), FloatProgress(value=0.0, max=200.0), HTML(value='')))"
      ]
     },
     "metadata": {},
     "output_type": "display_data"
    },
    {
     "name": "stderr",
     "output_type": "stream",
     "text": [
      "\u001b[32m[I 2021-08-18 07:33:45,741]\u001b[0m Trial 49 finished with value: 0.2966042710542679 and parameters: {'cnn_lr': 7.272961975734947e-05, 'cnn_momentum': 0.003226190373028227, 'optimizer': 'RMSprop'}. Best is trial 2 with value: 0.08149098286628723.\u001b[0m\n"
     ]
    },
    {
     "name": "stdout",
     "output_type": "stream",
     "text": [
      "early stopped on epoch: 35\n",
      "\n",
      "Random seed 2021 has been set.\n"
     ]
    },
    {
     "data": {
      "application/vnd.jupyter.widget-view+json": {
       "model_id": "2932f78cfe074afb97ed73f1882beb7a",
       "version_major": 2,
       "version_minor": 0
      },
      "text/plain": [
       "HBox(children=(HTML(value=''), FloatProgress(value=0.0, max=200.0), HTML(value='')))"
      ]
     },
     "metadata": {},
     "output_type": "display_data"
    }
   ],
   "source": [
    "import optuna\n",
    "study = optuna.create_study(direction='minimize')\n",
    "study.optimize(optuna_objective, n_trials=2000, callbacks=[neptune_callback])"
   ]
  },
  {
   "cell_type": "code",
   "execution_count": null,
   "metadata": {},
   "outputs": [],
   "source": [
    "run.stop()"
   ]
  },
  {
   "cell_type": "code",
   "execution_count": 39,
   "metadata": {},
   "outputs": [
    {
     "name": "stdout",
     "output_type": "stream",
     "text": [
      "Random seed 2021 has been set.\n"
     ]
    }
   ],
   "source": [
    "# set_seed(seed=SEED)\n",
    "# model = conv_net2()\n",
    "# model = model.to(DEVICE)\n",
    "\n",
    "# args = {'dampening': 0,\n",
    "#     'lr': 4.891929616734601e-06,\n",
    "#     'momentum': 8.283341823460766,\n",
    "#     'nesterov': False,\n",
    "#     'weight_decay': 0}\n",
    "# args = {\n",
    "#     'lr': 15.474751597802834,\n",
    "# }\n",
    "\n",
    "# optimizer = optim.Adam(model.parameters(),\n",
    "#     **args\n",
    "# )\n",
    "\n",
    "# args.update({\n",
    "#     'epochs': 2,\n",
    "#     'device': DEVICE,\n",
    "#     'checkpoint_path': './simpleCNN.pt'\n",
    "#     })\n",
    "\n",
    "# args\n",
    "\n",
    "# trained_model = train(args, model, train_loader, optimizer,\n",
    "#                       reg_function1=None,\n",
    "#                       reg_function2=None,\n",
    "#                       criterion=F.mse_loss)\n",
    "\n",
    "# train_loss, train_perc_error = test(trained_model, train_loader, criterion=F.mse_loss, device=DEVICE)\n",
    "\n",
    "# len(train_loader.dataset)\n",
    "\n",
    "# criterion=F.mse_loss\n",
    "\n",
    "# trained_model.eval()\n",
    "# test_loss = 0\n",
    "# perc_error = 0\n",
    "# for data, target, index in train_loader:\n",
    "#     data, target = data.to(DEVICE), target.to(DEVICE)\n",
    "#     output = trained_model(data)\n",
    "#     test_loss += criterion(output, target, reduction='sum').item()  # sum up batch loss\n",
    "#     perc_error += np.sum(calc_error(output.cpu().detach().numpy(),target.cpu().detach().numpy()))\n",
    "\n",
    "# output = trained_model(data)\n",
    "\n",
    "# target\n",
    "\n",
    "# output\n",
    "\n",
    "# perc_error /= len(train_loader.dataset)\n",
    "\n",
    "# perc_error\n",
    "\n",
    "# train_loss"
   ]
  },
  {
   "cell_type": "markdown",
   "metadata": {},
   "source": [
    "## Analyze trained models"
   ]
  },
  {
   "cell_type": "code",
   "execution_count": 16,
   "metadata": {},
   "outputs": [],
   "source": [
    "model_path = Path(base_path).joinpath('models/')\n",
    "model1_path = Path(model_path).joinpath('cnn_reg_objarea_lr0.005_mmt0.8.pt')\n",
    "model2_path = Path(model_path).joinpath('cnn2_reg_objarea_lr0.01_mmt0.8.pt')\n",
    "model3_path = Path(model_path).joinpath('cnn3_reg_objarea_lr0.01_mmt0.8.pt')\n",
    "model4_path = Path(model_path).joinpath('cnn3_reg_imgarea_lr0.01_mmt0.8.pt')\n",
    "model5_path = Path(model_path).joinpath('cnn_reg_objcount_lr0.001_mmt0.8.pt')"
   ]
  },
  {
   "cell_type": "code",
   "execution_count": 33,
   "metadata": {},
   "outputs": [
    {
     "data": {
      "text/plain": [
       "<All keys matched successfully>"
      ]
     },
     "execution_count": 33,
     "metadata": {},
     "output_type": "execute_result"
    }
   ],
   "source": [
    "model1 = conv_net()\n",
    "model_state_dict = torch.load(model5_path)['model_state_dict']\n",
    "model1.load_state_dict(model_state_dict)"
   ]
  },
  {
   "cell_type": "code",
   "execution_count": 18,
   "metadata": {},
   "outputs": [],
   "source": [
    "val_loader = torch.utils.data.DataLoader(val_data,\n",
    "                                         shuffle=True,\n",
    "                                         batch_size=200,\n",
    "                                         num_workers=12,\n",
    "                                         worker_init_fn=seed_worker,\n",
    "                                         generator=g_seed)"
   ]
  },
  {
   "cell_type": "code",
   "execution_count": 22,
   "metadata": {},
   "outputs": [],
   "source": [
    "data,target,index = next(iter(val_loader))\n",
    "# data,target = data.to(DEVICE),target.to(DEVICE)"
   ]
  },
  {
   "cell_type": "code",
   "execution_count": 23,
   "metadata": {},
   "outputs": [],
   "source": [
    "output = model1(data)"
   ]
  },
  {
   "cell_type": "code",
   "execution_count": 24,
   "metadata": {},
   "outputs": [
    {
     "data": {
      "text/plain": [
       "Text(0, 0.5, 'predicted object area')"
      ]
     },
     "execution_count": 24,
     "metadata": {},
     "output_type": "execute_result"
    },
    {
     "data": {
      "image/png": "[encoded data removed]",
      "text/plain": [
       "<Figure size 432x288 with 1 Axes>"
      ]
     },
     "metadata": {
      "needs_background": "light"
     },
     "output_type": "display_data"
    }
   ],
   "source": [
    "plt.scatter(target.cpu().detach().numpy(),output.cpu().detach().numpy())\n",
    "plt.plot(np.linspace(0,0.25,10),np.linspace(0,0.25,10))\n",
    "plt.xlabel('target object area')\n",
    "plt.ylabel('predicted object area')"
   ]
  },
  {
   "cell_type": "code",
   "execution_count": 25,
   "metadata": {},
   "outputs": [],
   "source": [
    "perc_occluded = val_imgarea/val_labels.numpy()"
   ]
  },
  {
   "cell_type": "code",
   "execution_count": 27,
   "metadata": {},
   "outputs": [
    {
     "data": {
      "text/plain": [
       "Text(0, 0.5, 'Percent error of area estimation')"
      ]
     },
     "execution_count": 27,
     "metadata": {},
     "output_type": "execute_result"
    },
    {
     "data": {
      "image/png": "[encoded data removed]",
      "text/plain": [
       "<Figure size 432x288 with 1 Axes>"
      ]
     },
     "metadata": {
      "needs_background": "light"
     },
     "output_type": "display_data"
    }
   ],
   "source": [
    "plt.scatter(perc_occluded[index], calc_error(target.cpu().detach().numpy(),output.cpu().detach().numpy()))\n",
    "# plt.plot(np.linspace(0,0.25,10),np.linspace(0,0.25,10))\n",
    "plt.ylim(-0.1,1)\n",
    "plt.xlabel('Percent area visible')\n",
    "plt.ylabel('Percent error of area estimation')"
   ]
  },
  {
   "cell_type": "code",
   "execution_count": 29,
   "metadata": {},
   "outputs": [
    {
     "data": {
      "text/plain": [
       "Text(0, 0.5, 'Predicted area - target area')"
      ]
     },
     "execution_count": 29,
     "metadata": {},
     "output_type": "execute_result"
    },
    {
     "data": {
      "image/png": "[encoded data removed]",
      "text/plain": [
       "<Figure size 432x288 with 1 Axes>"
      ]
     },
     "metadata": {
      "needs_background": "light"
     },
     "output_type": "display_data"
    }
   ],
   "source": [
    "plt.scatter(perc_occluded[index],output.cpu().detach().numpy()- target.cpu().detach().numpy())\n",
    "plt.plot(np.linspace(0.5,1,10),np.zeros(10))\n",
    "# plt.ylim(-0.1,1)\n",
    "plt.xlabel('Percent area visible')\n",
    "plt.ylabel('Predicted area - target area')"
   ]
  },
  {
   "cell_type": "code",
   "execution_count": 29,
   "metadata": {},
   "outputs": [
    {
     "data": {
      "text/plain": [
       "[<matplotlib.lines.Line2D at 0x7f2061eca250>]"
      ]
     },
     "execution_count": 29,
     "metadata": {},
     "output_type": "execute_result"
    },
    {
     "data": {
      "image/png": "[encoded data removed]",
      "text/plain": [
       "<Figure size 432x288 with 1 Axes>"
      ]
     },
     "metadata": {
      "needs_background": "light"
     },
     "output_type": "display_data"
    }
   ],
   "source": [
    "plt.scatter(target.cpu().detach().numpy(), output.cpu().detach().numpy()- target.cpu().detach().numpy())\n",
    "plt.plot(np.linspace(0,0.25,10),np.zeros(10))\n",
    "# plt.ylim(-0.1,1)"
   ]
  },
  {
   "cell_type": "code",
   "execution_count": 30,
   "metadata": {},
   "outputs": [
    {
     "data": {
      "text/plain": [
       "0.18312347"
      ]
     },
     "execution_count": 30,
     "metadata": {},
     "output_type": "execute_result"
    }
   ],
   "source": [
    "np.mean(calc_error(target.cpu().detach().numpy(),output.cpu().detach().numpy()))"
   ]
  },
  {
   "cell_type": "code",
   "execution_count": 31,
   "metadata": {},
   "outputs": [
    {
     "data": {
      "image/png": "[encoded data removed]",
      "text/plain": [
       "<Figure size 576x576 with 32 Axes>"
      ]
     },
     "metadata": {
      "needs_background": "light"
     },
     "output_type": "display_data"
    }
   ],
   "source": [
    "with torch.no_grad():\n",
    "    conv1_weights = model_state_dict['conv1.weight']\n",
    "    fig, axs = plt.subplots(4, 8, figsize=(8, 8))\n",
    "    filters = []\n",
    "    for filter_index in range(conv1_weights.shape[0]):\n",
    "        row_index = filter_index // 8\n",
    "        col_index = filter_index % 8\n",
    "        \n",
    "#         idx = np.random.choice(conv1_weights.shape[1],3)\n",
    "#         print(idx)\n",
    "        filter = conv1_weights[filter_index,:,:,:]\n",
    "        filter_image = filter.permute(1, 2, 0).cpu()\n",
    "        scale = np.abs(filter_image).max()\n",
    "        scaled_image = filter_image / (2 * scale) + 0.5\n",
    "        filters.append(scaled_image.cpu())\n",
    "        axs[row_index, col_index].imshow(scaled_image.cpu())\n",
    "        axs[row_index, col_index].axis('off')\n",
    "    plt.show()"
   ]
  },
  {
   "cell_type": "code",
   "execution_count": null,
   "metadata": {},
   "outputs": [],
   "source": []
  }
 ],
 "metadata": {
  "kernelspec": {
   "display_name": "Python 3 (ipykernel)",
   "language": "python",
   "name": "python3"
  },
  "language_info": {
   "codemirror_mode": {
    "name": "ipython",
    "version": 3
   },
   "file_extension": ".py",
   "mimetype": "text/x-python",
   "name": "python",
   "nbconvert_exporter": "python",
   "pygments_lexer": "ipython3",
   "version": "3.8.10"
  }
 },
 "nbformat": 4,
 "nbformat_minor": 4
}
